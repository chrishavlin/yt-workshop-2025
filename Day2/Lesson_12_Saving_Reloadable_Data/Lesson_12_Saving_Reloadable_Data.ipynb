{
 "cells": [
  {
   "cell_type": "markdown",
   "id": "3b2ae376-66fc-4f9c-82f3-57210f7ee400",
   "metadata": {
    "editable": true,
    "slideshow": {
     "slide_type": "slide"
    },
    "tags": []
   },
   "source": [
    "# <center>Lesson 12: Saving Reloadable Data</center>\n",
    "### <center>yt user/developer workshop, July 2025</center>"
   ]
  },
  {
   "cell_type": "markdown",
   "id": "6a15c177-dc42-4d7b-8e35-b0b7cc858d7c",
   "metadata": {
    "editable": true,
    "slideshow": {
     "slide_type": "slide"
    },
    "tags": []
   },
   "source": [
    "## Data analysis generates more data\n",
    "* Analysis is a form of data reduction.\n",
    "* We will likely produce intermediate data products that turn into the final plots/figures/images.\n",
    "* The reduced products may be moved to a different filesystem from the original data.\n",
    "* Ideal properties of reduced data:\n",
    "  * consistent with original data (same naming conventions, units, etc.)\n",
    "  * just as easy to ingest\n",
    "  * returns us to a state similar as to when it was produced"
   ]
  },
  {
   "cell_type": "markdown",
   "id": "da78a817-5e74-46dd-887e-10e632c53d19",
   "metadata": {
    "editable": true,
    "slideshow": {
     "slide_type": "fragment"
    },
    "tags": []
   },
   "source": [
    "## The [save_as_dataset](https://yt-project.org/docs/dev/reference/api/yt.frontends.ytdata.utilities.html#yt.frontends.ytdata.utilities.save_as_dataset) function:\n",
    "* saves data in a format that can be loaded with `yt.load`\n",
    "* can retain relevant metadata and units of original dataset (if there is one)\n",
    "* totally generic array data, data containers, plot data, profiles\n",
    "* HDF5 under the hood"
   ]
  },
  {
   "cell_type": "markdown",
   "id": "4160e82a-131d-46fc-8892-5a9308bc026f",
   "metadata": {
    "editable": true,
    "slideshow": {
     "slide_type": "slide"
    },
    "tags": []
   },
   "source": [
    "## Totally generic data\n",
    "* no dataset required\n",
    "* with or without units\n",
    "\n",
    "### Make some random data"
   ]
  },
  {
   "cell_type": "code",
   "execution_count": null,
   "id": "7f84cafa-f9e1-46ed-bdaa-bae80ae192c7",
   "metadata": {
    "editable": true,
    "slideshow": {
     "slide_type": ""
    },
    "tags": []
   },
   "outputs": [],
   "source": [
    "import numpy as np\n",
    "import unyt\n",
    "import yt"
   ]
  },
  {
   "cell_type": "code",
   "execution_count": null,
   "id": "57d9fee6-c1be-45b0-8f05-658a312698e5",
   "metadata": {
    "editable": true,
    "slideshow": {
     "slide_type": ""
    },
    "tags": []
   },
   "outputs": [],
   "source": [
    "array1 = np.random.random((10, 10))\n",
    "# give this one some units\n",
    "array2 = unyt.unyt_array(np.random.normal(loc=88., scale=2., size=(50)), \"mile/hr\")\n",
    "\n",
    "# store the data in a dictionary\n",
    "my_data = {\"numbers\": array1, \"speed\": array2}"
   ]
  },
  {
   "cell_type": "markdown",
   "id": "f908b29f-b0d2-4baf-8f1d-bcbd7278b78b",
   "metadata": {
    "editable": true,
    "slideshow": {
     "slide_type": "fragment"
    },
    "tags": []
   },
   "source": [
    "### Save it"
   ]
  },
  {
   "cell_type": "code",
   "execution_count": null,
   "id": "fd3e0a2c-e6af-442d-ae48-c6d51641a621",
   "metadata": {
    "editable": true,
    "slideshow": {
     "slide_type": ""
    },
    "tags": []
   },
   "outputs": [],
   "source": [
    "fn = yt.save_as_dataset({}, filename=\"my_data.h5\", data=my_data)"
   ]
  },
  {
   "cell_type": "markdown",
   "id": "2637aab6-a300-4ab3-a829-ab7e43fa361d",
   "metadata": {
    "editable": true,
    "slideshow": {
     "slide_type": "subslide"
    },
    "tags": []
   },
   "source": [
    "### Reload it\n",
    "* access through `data` attribute (**caveat: no other data containers available**)\n",
    "* by default, field are of type `data`"
   ]
  },
  {
   "cell_type": "code",
   "execution_count": null,
   "id": "483db7a4-562e-4da7-8b14-d4899dfffbb0",
   "metadata": {
    "editable": true,
    "slideshow": {
     "slide_type": ""
    },
    "tags": []
   },
   "outputs": [],
   "source": [
    "my_ds = yt.load(fn)"
   ]
  },
  {
   "cell_type": "code",
   "execution_count": null,
   "id": "2925b590-ae82-4cb9-bb97-816966520cd4",
   "metadata": {
    "editable": true,
    "slideshow": {
     "slide_type": ""
    },
    "tags": []
   },
   "outputs": [],
   "source": [
    "my_ds.field_list"
   ]
  },
  {
   "cell_type": "code",
   "execution_count": null,
   "id": "8caeef29-abc3-4670-9e47-66384d06bde0",
   "metadata": {
    "editable": true,
    "slideshow": {
     "slide_type": ""
    },
    "tags": []
   },
   "outputs": [],
   "source": [
    "my_ds.data[\"data\", \"speed\"]"
   ]
  },
  {
   "cell_type": "markdown",
   "id": "f9390906-e95f-454d-81bb-a889889f16da",
   "metadata": {
    "editable": true,
    "slideshow": {
     "slide_type": "subslide"
    },
    "tags": []
   },
   "source": [
    "### Saving additional metadata\n",
    "* the `extra_attrs` keyword accepts a dictionary that can hold almost anything"
   ]
  },
  {
   "cell_type": "code",
   "execution_count": null,
   "id": "33196333-ebf8-4515-8c90-691bd26e8813",
   "metadata": {
    "editable": true,
    "slideshow": {
     "slide_type": ""
    },
    "tags": []
   },
   "outputs": [],
   "source": [
    "my_extra_attrs = {\"date\": \"November 5, 1955\",\n",
    "                  \"important_value\": unyt.unyt_quantity(30, \"yr\")}"
   ]
  },
  {
   "cell_type": "code",
   "execution_count": null,
   "id": "67b5a566-9fc8-40b6-a08c-95346e3917c9",
   "metadata": {
    "editable": true,
    "slideshow": {
     "slide_type": ""
    },
    "tags": []
   },
   "outputs": [],
   "source": [
    "fn = yt.save_as_dataset({}, filename=\"my_data.h5\", data=my_data, extra_attrs=my_extra_attrs)"
   ]
  },
  {
   "cell_type": "code",
   "execution_count": null,
   "id": "f683bd3c-6a2a-4c93-98ba-27ed97367f61",
   "metadata": {
    "editable": true,
    "slideshow": {
     "slide_type": ""
    },
    "tags": []
   },
   "outputs": [],
   "source": [
    "my_ds = yt.load(fn)"
   ]
  },
  {
   "cell_type": "markdown",
   "id": "a5a607fd-be13-467d-a266-2fff18790eec",
   "metadata": {
    "editable": true,
    "slideshow": {
     "slide_type": "fragment"
    },
    "tags": []
   },
   "source": [
    "### Access additional metadata through the `parameters` attribute."
   ]
  },
  {
   "cell_type": "code",
   "execution_count": null,
   "id": "e04e6ed9-97dd-47ee-b0c9-2fd2ce65ccc4",
   "metadata": {
    "editable": true,
    "slideshow": {
     "slide_type": ""
    },
    "tags": []
   },
   "outputs": [],
   "source": [
    "my_ds.parameters"
   ]
  },
  {
   "cell_type": "code",
   "execution_count": null,
   "id": "7fbe52a2-49f5-47f5-b1e7-ebd4f10627c2",
   "metadata": {
    "editable": true,
    "slideshow": {
     "slide_type": ""
    },
    "tags": []
   },
   "outputs": [],
   "source": [
    "my_ds.parameters[\"important_value\"] * 2"
   ]
  },
  {
   "cell_type": "markdown",
   "id": "1dde8247-4301-47fc-98c9-69fc5091c42c",
   "metadata": {
    "editable": true,
    "slideshow": {
     "slide_type": "subslide"
    },
    "tags": []
   },
   "source": [
    "### Retaining information from a parent dataset\n",
    "* replace the first argument with a dataset"
   ]
  },
  {
   "cell_type": "code",
   "execution_count": null,
   "id": "ec187622-54a5-443e-9f98-2285d92c3ccd",
   "metadata": {
    "editable": true,
    "slideshow": {
     "slide_type": ""
    },
    "tags": []
   },
   "outputs": [],
   "source": [
    "ds = yt.load(\"/Users/britton/EnzoRuns/yt-workshop-2025/primordial_star/DD0157/DD0157\")"
   ]
  },
  {
   "cell_type": "code",
   "execution_count": null,
   "id": "b2c084ca-4147-4ac3-8b79-e5c84bd502b8",
   "metadata": {
    "editable": true,
    "slideshow": {
     "slide_type": ""
    },
    "tags": []
   },
   "outputs": [],
   "source": [
    "fn = yt.save_as_dataset(ds, filename=\"my_data.h5\", data=my_data, extra_attrs=my_extra_attrs)"
   ]
  },
  {
   "cell_type": "code",
   "execution_count": null,
   "id": "c7f35ef8-9a0a-4eaf-9e36-ce8df44934f0",
   "metadata": {
    "editable": true,
    "slideshow": {
     "slide_type": ""
    },
    "tags": []
   },
   "outputs": [],
   "source": [
    "my_ds = yt.load(fn)"
   ]
  },
  {
   "cell_type": "code",
   "execution_count": null,
   "id": "d7f3419f-73ea-4dea-a559-a35311e38fb6",
   "metadata": {
    "editable": true,
    "slideshow": {
     "slide_type": ""
    },
    "tags": []
   },
   "outputs": [],
   "source": [
    "# unitful values have access to unit system of original dataset\n",
    "my_ds.data[\"data\", \"speed\"].to(\"code_velocity\")"
   ]
  },
  {
   "cell_type": "markdown",
   "id": "599c51b8-667d-440f-8c93-069bac5c1f5b",
   "metadata": {
    "editable": true,
    "slideshow": {
     "slide_type": "slide"
    },
    "tags": []
   },
   "source": [
    "## Saving data containers\n",
    "* most data containers have an associated `save_as_dataset` object method\n",
    "* accepts a list of fields or saves the fields that have already been queried"
   ]
  },
  {
   "cell_type": "code",
   "execution_count": null,
   "id": "f2fc9aea-56d1-46ef-b8e2-0595dc100e9e",
   "metadata": {
    "editable": true,
    "slideshow": {
     "slide_type": ""
    },
    "tags": []
   },
   "outputs": [],
   "source": [
    "value, center = ds.find_max((\"gas\", \"density\"))\n",
    "sp = ds.sphere(center, (5, \"pc\"))"
   ]
  },
  {
   "cell_type": "code",
   "execution_count": null,
   "id": "3326e3f3-8e72-41e8-a76c-3fe16848baa9",
   "metadata": {
    "editable": true,
    "slideshow": {
     "slide_type": ""
    },
    "tags": []
   },
   "outputs": [],
   "source": [
    "fn = sp.save_as_dataset(fields=[(\"gas\", \"density\"),\n",
    "                                (\"gas\", \"temperature\"),\n",
    "                                (\"gas\", \"cell_mass\"),\n",
    "                                (\"all\", \"particle_mass\")])"
   ]
  },
  {
   "cell_type": "code",
   "execution_count": null,
   "id": "a4a57d60-24e6-41fc-9cbb-d750f3bd62a3",
   "metadata": {
    "editable": true,
    "slideshow": {
     "slide_type": ""
    },
    "tags": []
   },
   "outputs": [],
   "source": [
    "sp_ds = yt.load(fn)"
   ]
  },
  {
   "cell_type": "markdown",
   "id": "c89b82ed-33a1-4155-810e-2738b318498e",
   "metadata": {
    "editable": true,
    "slideshow": {
     "slide_type": "subslide"
    },
    "tags": []
   },
   "source": [
    "### Access data through regular data containers.\n",
    "* grid fields have `grid` type (usually with `gas` alias)\n",
    "* particle fields have original type\n",
    "* position information for grid and particle data will be saved automatically\n",
    "* **caveat:** reloaded dataset is technically a particle type now, so grid-based functionality is limited (e.g. slices, projections)"
   ]
  },
  {
   "cell_type": "code",
   "execution_count": null,
   "id": "1b771f57-f341-40a5-9d1c-362cbdd60997",
   "metadata": {
    "editable": true,
    "slideshow": {
     "slide_type": ""
    },
    "tags": []
   },
   "outputs": [],
   "source": [
    "ad = sp_ds.all_data()"
   ]
  },
  {
   "cell_type": "code",
   "execution_count": null,
   "id": "2b44c23b-0287-420a-a2e9-c2570f29da01",
   "metadata": {
    "editable": true,
    "slideshow": {
     "slide_type": ""
    },
    "tags": []
   },
   "outputs": [],
   "source": [
    "ad[\"grid\", \"density\"]"
   ]
  },
  {
   "cell_type": "code",
   "execution_count": null,
   "id": "4136a213-c814-49db-a4ed-98a465b27d02",
   "metadata": {
    "editable": true,
    "scrolled": true,
    "slideshow": {
     "slide_type": ""
    },
    "tags": []
   },
   "outputs": [],
   "source": [
    "ad[\"all\", \"particle_mass\"].to(\"Msun\")"
   ]
  },
  {
   "cell_type": "markdown",
   "id": "000b481e-137f-423a-b880-3a6e509b2eee",
   "metadata": {
    "editable": true,
    "slideshow": {
     "slide_type": "subslide"
    },
    "tags": []
   },
   "source": [
    "### Make a profile from the reloaded sphere dataset"
   ]
  },
  {
   "cell_type": "code",
   "execution_count": null,
   "id": "dcefb49f-7ec1-4628-9375-f5cadb3ff698",
   "metadata": {
    "editable": true,
    "slideshow": {
     "slide_type": ""
    },
    "tags": []
   },
   "outputs": [],
   "source": [
    "profile = yt.create_profile(ad, [(\"gas\", \"density\")], [(\"gas\", \"temperature\")],\n",
    "                            weight_field=(\"gas\", \"cell_mass\"))"
   ]
  },
  {
   "cell_type": "code",
   "execution_count": null,
   "id": "9877d116-c0c9-4a78-898f-42edb6daef5d",
   "metadata": {
    "editable": true,
    "slideshow": {
     "slide_type": ""
    },
    "tags": []
   },
   "outputs": [],
   "source": [
    "from matplotlib import pyplot as plt\n",
    "import matplotlib\n",
    "%matplotlib inline\n",
    "\n",
    "T_mean = profile[\"gas\", \"temperature\"]\n",
    "T_std = profile.standard_deviation[\"gas\", \"temperature\"]\n",
    "plt.loglog(profile.x, T_mean)\n",
    "plt.fill_between(profile.x, y1=T_mean-T_std, y2=T_mean+T_std, alpha=0.5)\n",
    "plt.xlabel(\"$\\\\rho\\\\ [g/cm^{3}]$\")\n",
    "plt.ylabel(\"T [K]\")\n",
    "plt.show()"
   ]
  },
  {
   "cell_type": "markdown",
   "id": "c1a49c77-6853-4dad-a75a-1dc73e53eb3a",
   "metadata": {
    "editable": true,
    "slideshow": {
     "slide_type": "slide"
    },
    "tags": []
   },
   "source": [
    "## Saving profiles\n",
    "* Profiling is usually the expensive part; we should save it."
   ]
  },
  {
   "cell_type": "code",
   "execution_count": null,
   "id": "b9ed6f42-0e9d-4cc0-8f7f-7f06b5e26382",
   "metadata": {
    "editable": true,
    "slideshow": {
     "slide_type": ""
    },
    "tags": []
   },
   "outputs": [],
   "source": [
    "value, center = ds.find_max((\"gas\", \"density\"))\n",
    "sp = ds.sphere(center, (5, \"pc\"))\n",
    "\n",
    "bin_fields = [(\"gas\", \"density\"),\n",
    "              (\"gas\", \"temperature\")]\n",
    "profile_fields = [(\"gas\", \"cell_mass\")]\n",
    "\n",
    "profile = yt.create_profile(sp, bin_fields, profile_fields, weight_field=None)"
   ]
  },
  {
   "cell_type": "code",
   "execution_count": null,
   "id": "04dcab7a-e93c-426e-a5e9-03a8f89b1acd",
   "metadata": {
    "editable": true,
    "slideshow": {
     "slide_type": ""
    },
    "tags": []
   },
   "outputs": [],
   "source": [
    "fn = profile.save_as_dataset()"
   ]
  },
  {
   "cell_type": "code",
   "execution_count": null,
   "id": "3d55f68c-a574-46d1-a4a5-eb5b42e08bbc",
   "metadata": {
    "editable": true,
    "slideshow": {
     "slide_type": ""
    },
    "tags": []
   },
   "outputs": [],
   "source": [
    "prof_ds = yt.load(fn)"
   ]
  },
  {
   "cell_type": "markdown",
   "id": "086d0189-2300-4b59-a370-42308b0146d9",
   "metadata": {
    "editable": true,
    "slideshow": {
     "slide_type": "subslide"
    },
    "tags": []
   },
   "source": [
    "### The `profile` attribute has the same properties and functionality as the original profile object"
   ]
  },
  {
   "cell_type": "code",
   "execution_count": null,
   "id": "5e8f4e3f-2d57-4363-ba80-4a070acfca4f",
   "metadata": {
    "editable": true,
    "slideshow": {
     "slide_type": ""
    },
    "tags": []
   },
   "outputs": [],
   "source": [
    "prof_ds.profile.x\n",
    "# prof_ds.profile.y\n",
    "# prof_ds.profile.x_bins\n",
    "# prof_ds.profile.y_bins\n",
    "# prof_ds.profile.used"
   ]
  },
  {
   "cell_type": "code",
   "execution_count": null,
   "id": "470043b1-7adc-48a6-8260-7e600fc3a7fa",
   "metadata": {
    "editable": true,
    "slideshow": {
     "slide_type": ""
    },
    "tags": []
   },
   "outputs": [],
   "source": [
    "prof_ds.profile[\"data\", \"cell_mass\"]"
   ]
  },
  {
   "cell_type": "code",
   "execution_count": null,
   "id": "7ecd8c36-319f-40d8-acd3-022d9f4f5f5c",
   "metadata": {
    "editable": true,
    "slideshow": {
     "slide_type": "subslide"
    },
    "tags": []
   },
   "outputs": [],
   "source": [
    "from yt.utilities.physical_constants import mh\n",
    "X = prof_ds.profile.x / mh\n",
    "Y = prof_ds.profile.y\n",
    "Z = profile[\"gas\", \"cell_mass\"].to(\"Msun\").T\n",
    "\n",
    "plt.xscale(\"log\")\n",
    "plt.yscale(\"log\")\n",
    "plt.xlabel(\"$\\\\rho\\\\ [1/cm^{3}]$\")\n",
    "plt.ylabel(\"T [K]\")\n",
    "\n",
    "my_norm = matplotlib.colors.LogNorm(vmin=Z[Z>0].min(), vmax=Z.max())\n",
    "my_plot = plt.pcolormesh(X, Y, Z, norm=my_norm)\n",
    "plt.colorbar(my_plot, label=\"$M_{gas}\\\\ [M_{\\\\odot}]$\")\n",
    "plt.show()"
   ]
  },
  {
   "cell_type": "markdown",
   "id": "f85efa13-648f-4150-94fd-23e94932cc55",
   "metadata": {
    "editable": true,
    "slideshow": {
     "slide_type": "slide"
    },
    "tags": []
   },
   "source": [
    "## What else can you do with `save_as_dataset`?\n",
    "* [save plot datasets](https://yt-project.org/docs/dev/visualizing/plots.html#remaking-plots)\n",
    "* [save covering grids](https://yt-project.org/docs/dev/analyzing/saving_data.html#grid-data-containers): these will continue to act like grid datasets on reload\n",
    "* [save image data](https://yt-project.org/docs/dev/analyzing/saving_data.html#grid-data-containers) (further down in above link): 2D fixed resolution buffers of projections/slices\n",
    "* pipe generic data into other tools with yt interface (example: halo finders)\n",
    "* save supporting metadata\n",
    "  * maps between output name and time/redshift (can save string data) for an entire simulation\n",
    "  * unit systems, runtime parameters, etc."
   ]
  }
 ],
 "metadata": {
  "kernelspec": {
   "display_name": "Python 3 (ipykernel)",
   "language": "python",
   "name": "python3"
  },
  "language_info": {
   "codemirror_mode": {
    "name": "ipython",
    "version": 3
   },
   "file_extension": ".py",
   "mimetype": "text/x-python",
   "name": "python",
   "nbconvert_exporter": "python",
   "pygments_lexer": "ipython3",
   "version": "3.12.11"
  },
  "rise": {
   "scroll": true
  }
 },
 "nbformat": 4,
 "nbformat_minor": 5
}
