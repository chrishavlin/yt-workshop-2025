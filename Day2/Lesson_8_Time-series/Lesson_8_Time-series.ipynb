{
 "cells": [
  {
   "cell_type": "markdown",
   "id": "f50b0bf6-d2c6-4714-84a5-787155b1aaf6",
   "metadata": {
    "editable": true,
    "slideshow": {
     "slide_type": "slide"
    },
    "tags": []
   },
   "source": [
    "# <center>Lesson 8: Time-series</center>\n",
    "### <center>yt user/developer workshop, July 2025</center>"
   ]
  },
  {
   "cell_type": "markdown",
   "id": "c5354b41-938f-4369-a00c-c4cc8e229092",
   "metadata": {
    "editable": true,
    "slideshow": {
     "slide_type": "slide"
    },
    "tags": []
   },
   "source": [
    "## Considering multiple datasets, we may want to:\n",
    "* perform a uniform analysis\n",
    "* take advantage of easy parallelism\n",
    "* find a specific dataset or set of datasets"
   ]
  },
  {
   "cell_type": "markdown",
   "id": "0acc17f6-5bd8-4199-baa0-e48274c3dc70",
   "metadata": {
    "editable": true,
    "slideshow": {
     "slide_type": "slide"
    },
    "tags": []
   },
   "source": [
    "## The [DatasetSeries](https://yt-project.org/docs/dev/reference/api/yt.data_objects.time_series.html#yt.data_objects.time_series.DatasetSeries)\n",
    "* an object that holds multiple datasets"
   ]
  },
  {
   "cell_type": "code",
   "execution_count": null,
   "id": "42305a64-dbc4-408f-a3f3-7aa77f48e71e",
   "metadata": {
    "editable": true,
    "slideshow": {
     "slide_type": ""
    },
    "tags": []
   },
   "outputs": [],
   "source": [
    "import os\n",
    "import yt"
   ]
  },
  {
   "cell_type": "code",
   "execution_count": null,
   "id": "0160a8d0-cbb1-4987-8b3e-140eb420d502",
   "metadata": {
    "editable": true,
    "slideshow": {
     "slide_type": ""
    },
    "tags": []
   },
   "outputs": [],
   "source": [
    "data_path = \"/Users/britton/EnzoRuns/yt-workshop-2025/primordial_star\"\n",
    "fns = [\"DD0096/DD0096\", \"DD0118/DD0118\", \"DD0130/DD0130\", \"DD0140/DD0140\", \"DD0157/DD0157\"]"
   ]
  },
  {
   "cell_type": "code",
   "execution_count": null,
   "id": "9a6937b1-abf0-4ac7-b2bc-771f7b63a438",
   "metadata": {
    "editable": true,
    "slideshow": {
     "slide_type": ""
    },
    "tags": []
   },
   "outputs": [],
   "source": [
    "ts = yt.DatasetSeries([os.path.join(data_path, fn) for fn in fns])"
   ]
  },
  {
   "cell_type": "code",
   "execution_count": null,
   "id": "4d03b43d-3cc8-449f-af22-c49934b60690",
   "metadata": {
    "editable": true,
    "slideshow": {
     "slide_type": ""
    },
    "tags": []
   },
   "outputs": [],
   "source": [
    "for ds in ts:\n",
    "    print (ds.current_time)"
   ]
  },
  {
   "cell_type": "markdown",
   "id": "b940f68f-9d98-46aa-b3fe-2514249e600b",
   "metadata": {
    "editable": true,
    "slideshow": {
     "slide_type": "subslide"
    },
    "tags": []
   },
   "source": [
    "### Or with wildcards using `yt.load`"
   ]
  },
  {
   "cell_type": "code",
   "execution_count": null,
   "id": "6f8bc96d-18da-4a9f-8cf4-0243083e9650",
   "metadata": {
    "editable": true,
    "slideshow": {
     "slide_type": ""
    },
    "tags": []
   },
   "outputs": [],
   "source": [
    "ts = yt.load(os.path.join(data_path, \"DD????/DD????\"))"
   ]
  },
  {
   "cell_type": "markdown",
   "id": "940d350f-3296-485c-b17c-26348c20152a",
   "metadata": {
    "editable": true,
    "slideshow": {
     "slide_type": "slide"
    },
    "tags": []
   },
   "source": [
    "## Parallel Iteration\n",
    "* if analysis for each dataset is independent, this should be embarrassingly parallel\n",
    "* add `.piter()` to the loop construction to parallelize\n",
    "\n",
    "### Parallelism covered in Lesson 11"
   ]
  },
  {
   "cell_type": "code",
   "execution_count": null,
   "id": "348a1f0b-d8ee-4432-8d86-ef2d79378046",
   "metadata": {
    "editable": true,
    "slideshow": {
     "slide_type": ""
    },
    "tags": []
   },
   "outputs": [],
   "source": [
    "for ds in ts.piter():\n",
    "    print (ds.current_time)"
   ]
  },
  {
   "cell_type": "markdown",
   "id": "b91ecc23-6521-4f9b-8b7d-e0ab35559fe0",
   "metadata": {
    "editable": true,
    "slideshow": {
     "slide_type": "slide"
    },
    "tags": []
   },
   "source": [
    "## Locating specific datasets\n",
    "* [get_by_time](https://yt-project.org/docs/dev/reference/api/yt.data_objects.time_series.html#yt.data_objects.time_series.DatasetSeries.get_by_time)\n",
    "* [get_by_redshift](https://yt-project.org/docs/dev/reference/api/yt.data_objects.time_series.html#yt.data_objects.time_series.DatasetSeries.get_by_redshift)"
   ]
  },
  {
   "cell_type": "code",
   "execution_count": null,
   "id": "343a53dd-6ef4-48fa-8d34-3e7b0485cfd6",
   "metadata": {
    "editable": true,
    "slideshow": {
     "slide_type": ""
    },
    "tags": []
   },
   "outputs": [],
   "source": [
    "ds = ts.get_by_time((123.4, \"Myr\"))"
   ]
  },
  {
   "cell_type": "code",
   "execution_count": null,
   "id": "0966f52f-fb62-438e-adda-66fe08cef53c",
   "metadata": {
    "editable": true,
    "slideshow": {
     "slide_type": ""
    },
    "tags": []
   },
   "outputs": [],
   "source": [
    "ds.current_time.to(\"Myr\")"
   ]
  },
  {
   "cell_type": "markdown",
   "id": "9eca45ca-e8ed-44eb-902a-3410c7bd9ea2",
   "metadata": {
    "editable": true,
    "slideshow": {
     "slide_type": "slide"
    },
    "tags": []
   },
   "source": [
    "## Loading an entire simulation\n",
    "* simulation output is usually pre-defined\n",
    "* [load_simulation](https://yt-project.org/docs/dev/reference/api/yt.loaders.html#yt.loaders.load_simulation) will calculate what outputs should exist based on the simulation parameter file\n",
    "* the `all_outputs` attribute is a list of dicts with filename, time, redshift (if cosmological)\n",
    "* currently supported for Enzo, Gadget, OWLS, and Exodus II frontends"
   ]
  },
  {
   "cell_type": "code",
   "execution_count": null,
   "id": "9487ee59-c88c-47c0-811e-97bfb2326474",
   "metadata": {
    "editable": true,
    "slideshow": {
     "slide_type": ""
    },
    "tags": []
   },
   "outputs": [],
   "source": [
    "my_sim = yt.load_simulation(os.path.join(data_path, \"gas+dm-L3.enzo\"), \"Enzo\")"
   ]
  },
  {
   "cell_type": "code",
   "execution_count": null,
   "id": "3aca6fbc-16d5-4933-9eb2-3fc703e7b534",
   "metadata": {
    "editable": true,
    "slideshow": {
     "slide_type": ""
    },
    "tags": []
   },
   "outputs": [],
   "source": [
    "my_times = my_sim.arr([output[\"time\"] for output in my_sim.all_outputs])\n",
    "my_fns = [output[\"filename\"] for output in my_sim.all_outputs]"
   ]
  },
  {
   "cell_type": "code",
   "execution_count": null,
   "id": "44539a95-0ce5-4472-91d1-dcdd07b53f12",
   "metadata": {
    "editable": true,
    "slideshow": {
     "slide_type": ""
    },
    "tags": []
   },
   "outputs": [],
   "source": [
    "my_times.to(\"Myr\")\n",
    "# my_fns"
   ]
  },
  {
   "cell_type": "markdown",
   "id": "835b682d-1e38-45fb-b315-02175a1c14ef",
   "metadata": {
    "editable": true,
    "slideshow": {
     "slide_type": "subslide"
    },
    "tags": []
   },
   "source": [
    "### What datasets are actually available?\n",
    "* more or less output may occur during the simulation\n",
    "* not all datasets may be present\n",
    "* add the `find_outputs=True` keyword to `load_simulation` to check the filesystem"
   ]
  },
  {
   "cell_type": "code",
   "execution_count": null,
   "id": "29d1639c-3043-443d-8285-df0f51c2a6c8",
   "metadata": {
    "editable": true,
    "slideshow": {
     "slide_type": ""
    },
    "tags": []
   },
   "outputs": [],
   "source": [
    "my_sim = yt.load_simulation(os.path.join(data_path, \"gas+dm-L3.enzo\"), \"Enzo\", find_outputs=True)"
   ]
  },
  {
   "cell_type": "markdown",
   "id": "3e5ec49e-03a3-4d88-b462-2ec3567ae559",
   "metadata": {
    "editable": true,
    "slideshow": {
     "slide_type": "subslide"
    },
    "tags": []
   },
   "source": [
    "### Get the exact time-series you want\n",
    "* the [get_time_series](https://yt-project.org/docs/dev/reference/api/yt.frontends.enzo.simulation_handling.html#yt.frontends.enzo.simulation_handling.EnzoSimulation.get_time_series) method will turn the simulation object into a `DatasetSeries`.\n",
    "* it accepts a variety of keywords to specify times and redshifts of the datasets to be included"
   ]
  },
  {
   "cell_type": "code",
   "execution_count": null,
   "id": "3a8d22a7-2e1a-4a32-ba74-3466102f2596",
   "metadata": {
    "editable": true,
    "slideshow": {
     "slide_type": ""
    },
    "tags": []
   },
   "outputs": [],
   "source": [
    "my_sim.get_time_series()"
   ]
  },
  {
   "cell_type": "code",
   "execution_count": null,
   "id": "b936bcd0-5bd4-45a5-bbcb-fcca37ae345f",
   "metadata": {
    "editable": true,
    "slideshow": {
     "slide_type": ""
    },
    "tags": []
   },
   "outputs": [],
   "source": [
    "my_sim.get_time_series(initial_redshift=28)"
   ]
  },
  {
   "cell_type": "code",
   "execution_count": null,
   "id": "e42cc0c2-87a1-4aa7-bb5f-3163beb61900",
   "metadata": {
    "editable": true,
    "slideshow": {
     "slide_type": ""
    },
    "tags": []
   },
   "outputs": [],
   "source": [
    "from matplotlib import pyplot as plt\n",
    "%matplotlib inline\n",
    "\n",
    "my_sim.get_time_series()\n",
    "for ds in my_sim:\n",
    "    v, c = ds.find_max((\"gas\", \"density\"))\n",
    "    sp = ds.sphere(c, (5, \"pc\"))\n",
    "\n",
    "    prof = yt.create_profile(sp, [(\"index\", \"radius\")], [(\"gas\", \"density\")],\n",
    "                             weight_field=(\"gas\", \"cell_mass\"))\n",
    "    plt.loglog(prof.x.to(\"pc\")[prof.used],\n",
    "               prof[\"gas\", \"density\"][prof.used],\n",
    "               label=f\"z = {ds.current_redshift:.3f}\")\n",
    "\n",
    "plt.xlabel(\"r [pc]\")\n",
    "plt.ylabel(\"$\\\\rho\\\\ [g/cm^{-3}]$\")\n",
    "plt.legend()\n",
    "plt.show()"
   ]
  }
 ],
 "metadata": {
  "kernelspec": {
   "display_name": "Python 3 (ipykernel)",
   "language": "python",
   "name": "python3"
  },
  "language_info": {
   "codemirror_mode": {
    "name": "ipython",
    "version": 3
   },
   "file_extension": ".py",
   "mimetype": "text/x-python",
   "name": "python",
   "nbconvert_exporter": "python",
   "pygments_lexer": "ipython3",
   "version": "3.12.11"
  },
  "rise": {
   "scroll": true
  }
 },
 "nbformat": 4,
 "nbformat_minor": 5
}
