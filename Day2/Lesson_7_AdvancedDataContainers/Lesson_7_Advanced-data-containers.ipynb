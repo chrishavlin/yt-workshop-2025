{
 "cells": [
  {
   "cell_type": "markdown",
   "id": "a1101820",
   "metadata": {},
   "source": [
    "# <center>Lesson 7: Advanced data containers</center>\n",
    "### <center>yt user/developer workshop, July 2025</center>"
   ]
  },
  {
   "cell_type": "markdown",
   "id": "df0e63d8",
   "metadata": {},
   "source": [
    "# Covered in this lesson:\n",
    "- what are derived quantities?\n",
    "- why do we need them?\n",
    "- how to compute them?\n",
    "- how to write your own derived quantities?"
   ]
  },
  {
   "cell_type": "markdown",
   "id": "dda6617c",
   "metadata": {},
   "source": [
    "## Previous concepts:\n",
    "* **field**: an array of values describing a quantity associated with each element in the `dataset`. This is the data we want. Examples: the gas densities of the grid cells, the positions of the particles, the brightness of the pixels.\n",
    "* **data container**: an object containing one or more elements of a `dataset`. It provides access to `fields` for all the elements it contains."
   ]
  },
  {
   "cell_type": "code",
   "execution_count": null,
   "id": "b075707e",
   "metadata": {},
   "outputs": [],
   "source": [
    "import yt\n",
    "import numpy as np\n",
    "import matplotlib.pyplot as plt"
   ]
  },
  {
   "cell_type": "code",
   "execution_count": null,
   "id": "b24a9ac7",
   "metadata": {},
   "outputs": [],
   "source": [
    "ds = yt.load_sample(\"output_00080\")\n",
    "\n",
    "# This could be taken from a file, or calculated. For this tutorial, let's assume those\n",
    "center = ds.arr([0.752022, 0.76841606, 0.7971783], \"unitary\")\n",
    "Rvir = ds.quan(161, \"kpc\")\n",
    "sp = ds.sphere(center, 4 * Rvir)"
   ]
  },
  {
   "cell_type": "code",
   "execution_count": null,
   "id": "9783f94a",
   "metadata": {},
   "outputs": [],
   "source": [
    "# Alternatively, this is a larger and more interesting dataset\n",
    "ds = yt.load(\"../../../output_00239\")\n",
    "*center, Rvir = np.loadtxt(\"../../../output_00239/halo_qties.txt\", delimiter=\",\")\n",
    "center = ds.arr(center, \"code_length\")\n",
    "Rvir = ds.quan(Rvir, \"unitary\")\n",
    "sp = ds.sphere(center, 4 * Rvir)"
   ]
  },
  {
   "cell_type": "markdown",
   "id": "4da170a2",
   "metadata": {},
   "source": [
    "Let's take a gander at our data:"
   ]
  },
  {
   "cell_type": "code",
   "execution_count": null,
   "id": "35070b7a",
   "metadata": {},
   "outputs": [],
   "source": [
    "p = yt.ProjectionPlot(\n",
    "    ds,\n",
    "    \"x\",\n",
    "    (\"gas\", \"density\"),\n",
    "    data_source=sp,\n",
    "    center=sp.center,\n",
    "    width=4 * Rvir,\n",
    "    weight_field=\"density\",\n",
    ")\n",
    "p.annotate_sphere(center, Rvir)\n",
    "p"
   ]
  },
  {
   "cell_type": "markdown",
   "id": "088a8569",
   "metadata": {},
   "source": [
    "### Boolean data objects\n",
    "\n",
    "We can combine data containers together with boolean operations. Supported operators are `&`, `|` and `~` (and, or, not). The result is a new data container that contains only the elements that match the boolean condition."
   ]
  },
  {
   "cell_type": "code",
   "execution_count": null,
   "id": "df8eba7a",
   "metadata": {},
   "outputs": [],
   "source": [
    "sp_halo = ds.sphere(center, Rvir * 2)\n",
    "sp_disk = ds.sphere(center, Rvir * 0.1)\n",
    "\n",
    "# Let's define the CGM as anything between 0.1 and 2 Rvir\n",
    "sp_CGM = sp_halo - sp_disk"
   ]
  },
  {
   "cell_type": "code",
   "execution_count": null,
   "id": "bd12c3c6",
   "metadata": {},
   "outputs": [],
   "source": [
    "p = yt.ProjectionPlot(\n",
    "    ds,\n",
    "    \"x\",\n",
    "    (\"gas\", \"density\"),\n",
    "    data_source=sp_CGM,\n",
    "    center=sp.center,\n",
    "    width=4 * Rvir,\n",
    "    weight_field=\"density\",\n",
    ")\n",
    "p.set_zlim((\"gas\", \"density\"), 0.5e-29, 2e-23)\n",
    "p.annotate_sphere(center, 2 * Rvir, circle_args={\"color\": \"gray\", \"ls\": \"--\"})\n",
    "p.annotate_sphere(center, Rvir / 10, circle_args={\"color\": \"k\", \"ls\": \"-.\"})\n",
    "p"
   ]
  },
  {
   "cell_type": "markdown",
   "id": "46930492",
   "metadata": {},
   "source": [
    "### Cut region\n",
    "\n",
    "Cut regions are a more general solution to filtering mesh fields. The output of a cut region is an entirely new data object, which can be treated like any other data object to generate images, examine its values, etc.\n",
    "\n",
    "Let's exemplify by looking into the structure of the circum-galactic medium (CGM) of the galaxy above."
   ]
  },
  {
   "cell_type": "code",
   "execution_count": null,
   "id": "8c473020",
   "metadata": {},
   "outputs": [],
   "source": [
    "pp = yt.PhasePlot(\n",
    "    sp_CGM,\n",
    "    \"density\",\n",
    "    \"temperature\",\n",
    "    \"cell_mass\",\n",
    ")\n",
    "pp.set_unit(\"cell_mass\", \"Msun\")\n",
    "pp.set_xunit(\"density\", \"mp/cm**3\")\n",
    "pp"
   ]
  },
  {
   "cell_type": "markdown",
   "id": "84eed373",
   "metadata": {},
   "source": [
    "We can create cut regions using the `include_above`, `include_below`, and `include_between` methods (or similarly `exclude_*`). Internally, these methods use the more flexible `cut_region` method."
   ]
  },
  {
   "cell_type": "code",
   "execution_count": null,
   "id": "0570e96e",
   "metadata": {},
   "outputs": [],
   "source": [
    "sp_cold_CGM = sp_CGM.include_below(\"temperature\", 2e4)\n",
    "pp = yt.PhasePlot(\n",
    "    sp_cold_CGM,\n",
    "    \"density\",\n",
    "    \"temperature\",\n",
    "    \"cell_mass\",\n",
    ")\n",
    "pp.set_unit(\"cell_mass\", \"Msun\")\n",
    "pp.set_ylim(Nonek, 1e7)"
   ]
  },
  {
   "cell_type": "code",
   "execution_count": null,
   "id": "6fb17fad",
   "metadata": {},
   "outputs": [],
   "source": [
    "p = yt.ProjectionPlot(\n",
    "    ds,\n",
    "    \"x\",\n",
    "    (\"gas\", \"density\"),\n",
    "    data_source=sp_cold_CGM,\n",
    "    center=sp.center,\n",
    "    width=4 * Rvir,\n",
    "    weight_field=\"density\",\n",
    ")\n",
    "p.set_zlim((\"gas\", \"density\"), 0.5e-29, 2e-23)\n",
    "p.annotate_sphere(center, 2 * Rvir, circle_args={\"color\": \"gray\", \"ls\": \"--\"})\n",
    "p.annotate_sphere(center, Rvir / 10, circle_args={\"color\": \"k\", \"ls\": \"-.\"})\n",
    "p"
   ]
  },
  {
   "cell_type": "code",
   "execution_count": null,
   "id": "d4dc1b47",
   "metadata": {},
   "outputs": [],
   "source": [
    "sp_CGM_wo_ISM = sp_CGM.cut_region(\n",
    "    [\"(obj['density'] / obj['temperature']) < (1e-25 / 1e4)\"]\n",
    ")\n",
    "\n",
    "pp = yt.PhasePlot(\n",
    "    sp_CGM_wo_ISM,\n",
    "    \"density\",\n",
    "    \"temperature\",\n",
    "    \"cell_mass\",\n",
    ")\n",
    "pp.set_unit(\"cell_mass\", \"Msun\")\n",
    "pp.set_xlim(None, 1e-22)\n",
    "pp.set_ylim(30, None)"
   ]
  },
  {
   "cell_type": "markdown",
   "id": "37157a3a",
   "metadata": {},
   "source": [
    "### (Iso-)Surfaces\n",
    "\n",
    "We can extract surfaces, which yields a regular data container."
   ]
  },
  {
   "cell_type": "code",
   "execution_count": null,
   "id": "ebdf5965",
   "metadata": {},
   "outputs": [],
   "source": [
    "surf = ds.surface(sp_disk, (\"gas\", \"density\"), (1, \"mp/cm**3\"))"
   ]
  },
  {
   "cell_type": "code",
   "execution_count": null,
   "id": "d5266e85",
   "metadata": {},
   "outputs": [],
   "source": [
    "# Unfortunately, phase plots cannot be made with a surface data container yet.\n",
    "# Let's do it manually\n",
    "fig, axes = plt.subplots(ncols=2, figsize=(12, 6), sharey=True, constrained_layout=True)\n",
    "axes[0].hist2d(\n",
    "    surf[\"gas\", \"density\"].to(\"mp/cm**3\"),\n",
    "    surf[\"gas\", \"temperature\"].to(\"K\"),\n",
    "    bins=(np.geomspace(1e-1, 1e1, 100), np.geomspace(1e1, 1e8, 100)),\n",
    "    weights=surf[\"gas\", \"cell_mass\"].to(\"Msun\").d,\n",
    "    norm=plt.matplotlib.colors.LogNorm(),\n",
    ")\n",
    "axes[0].set(\n",
    "    xlabel=r\"Density [$\\mathrm{m_p/cm^3}$]\",\n",
    "    ylabel=r\"Temperature [$\\mathrm{K}$]\",\n",
    "    xscale=\"log\",\n",
    "    yscale=\"log\",\n",
    ")\n",
    "\n",
    "axes[1].hist2d(\n",
    "    surf[\"gas\", \"metallicity\"],\n",
    "    surf[\"gas\", \"temperature\"].to(\"K\"),\n",
    "    bins=(np.geomspace(1e-3, 1, 100), np.geomspace(1e1, 1e8, 100)),\n",
    "    weights=surf[\"gas\", \"cell_mass\"].to(\"Msun\").d,\n",
    "    norm=plt.matplotlib.colors.LogNorm(),\n",
    ")\n",
    "axes[1].set(\n",
    "    xlabel=r\"Metallicity\",\n",
    "    xscale=\"log\",\n",
    "    yscale=\"log\",\n",
    ")\n",
    "fig.align_xlabels(axes)"
   ]
  },
  {
   "cell_type": "markdown",
   "id": "8575176f",
   "metadata": {},
   "source": [
    "The surface also has a `.triangles` attribute that allow to render this in 3D. See the section on [complex plots](https://yt-project.org/doc/cookbook/complex_plots.html#plotting-isocontours) for more details."
   ]
  },
  {
   "cell_type": "code",
   "execution_count": null,
   "id": "3838e091",
   "metadata": {},
   "outputs": [],
   "source": [
    "from mpl_toolkits.mplot3d.art3d import Poly3DCollection\n",
    "from mpl_toolkits.mplot3d import Axes3D  # noqa: F401\n",
    "\n",
    "# Color this isodensity surface according to the log of the temperature field\n",
    "colors = yt.apply_colormap(np.log10(surf[\"gas\", \"temperature\"]), cmap_name=\"hot\")\n",
    "\n",
    "# Create a 3D matplotlib figure for visualizing the surface\n",
    "fig = plt.figure(figsize=(8, 8))\n",
    "ax = fig.add_subplot(projection=\"3d\")\n",
    "p3dc = Poly3DCollection((surf.triangles - center).to(\"kpc\"), linewidth=0.0)\n",
    "\n",
    "# Set the surface colors in the right scaling [0,1]\n",
    "p3dc.set_facecolors(colors[0, :, :] / 255.0)\n",
    "ax.add_collection(p3dc)\n",
    "\n",
    "# Let's keep the axis ratio fixed in all directions by taking the maximum\n",
    "# extent in one dimension and make it the bounds in all dimensions\n",
    "max_extent = (surf.vertices.max(axis=1) - surf.vertices.min(axis=1)).max()\n",
    "bounds = np.zeros([3, 2])\n",
    "bounds[:, 0] = -max_extent.to(\"kpc\") / 2\n",
    "bounds[:, 1] = +max_extent.to(\"kpc\") / 2\n",
    "ax.auto_scale_xyz(bounds[0, :], bounds[1, :], bounds[2, :])\n",
    "ax.set(\n",
    "    xlabel=\"x [kpc]\",\n",
    "    ylabel=\"y [kpc]\",\n",
    "    zlabel=\"z [kpc]\",\n",
    "    title=\"Isodensity surface colored by log10(temperature)\",\n",
    ")"
   ]
  },
  {
   "cell_type": "markdown",
   "id": "1adcda6f",
   "metadata": {},
   "source": [
    "### Slices, cuts and projections\n",
    "\n",
    "While slices are often used for visualization, they can be useful for other operations as well. yt regards slices as multi-resolution objects. They are an array of cells that are not all the same size; it only returns the cells at the highest resolution that it intersects."
   ]
  },
  {
   "cell_type": "code",
   "execution_count": null,
   "id": "a46c921c",
   "metadata": {},
   "outputs": [],
   "source": [
    "slice = ds.slice(\"x\", center[0], data_source=sp_CGM, center=sp.center)\n",
    "# Alternative syntax:\n",
    "# slice = ds.r[center[0], :, :]"
   ]
  },
  {
   "cell_type": "code",
   "execution_count": null,
   "id": "2a03a89d",
   "metadata": {},
   "outputs": [],
   "source": [
    "slice[\"density\"], slice[\"temperature\"]"
   ]
  },
  {
   "cell_type": "markdown",
   "id": "204b0e58",
   "metadata": {},
   "source": [
    "Note that slices do yields cells in the simulation, not a projection onto a regular 2D grid!"
   ]
  },
  {
   "cell_type": "code",
   "execution_count": null,
   "id": "dd32c950",
   "metadata": {},
   "outputs": [],
   "source": [
    "slice[\"dx\"].min().to(\"pc\"), slice[\"dx\"].max().to(\"pc\")"
   ]
  },
  {
   "cell_type": "markdown",
   "id": "ac2efff2",
   "metadata": {},
   "source": [
    "Similarly, we can create an off-axis slice using `cutting` instead of `slice`."
   ]
  },
  {
   "cell_type": "code",
   "execution_count": null,
   "id": "57b97f9b",
   "metadata": {},
   "outputs": [],
   "source": [
    "cut = ds.cutting([0.1, 0.2, 0.3], center, data_source=sp_CGM)"
   ]
  },
  {
   "cell_type": "code",
   "execution_count": null,
   "id": "538c3316",
   "metadata": {},
   "outputs": [],
   "source": [
    "cut[\"density\"], cut[\"temperature\"], cut[\"dx\"].min().to(\"pc\"), cut[\"dx\"].max().to(\"pc\")"
   ]
  },
  {
   "cell_type": "markdown",
   "id": "7221d2dd",
   "metadata": {},
   "source": [
    "Finally, we can also create projections. Those implement a line integration along the provided direction and return a representation of the integrated field."
   ]
  },
  {
   "cell_type": "code",
   "execution_count": null,
   "id": "ae86d302",
   "metadata": {},
   "outputs": [],
   "source": [
    "proj = ds.proj((\"gas\", \"density\"), \"x\", data_source=sp_CGM)\n",
    "proj_wei = ds.proj(\n",
    "    (\"gas\", \"density\"), \"x\", data_source=sp_CGM, weight_field=\"dx\"\n",
    ")\n",
    "proj_std = ds.proj(\n",
    "    (\"gas\", \"density\"), \"x\", data_source=sp_CGM, weight_field=\"dx\", moment=2\n",
    ")\n",
    "proj_max = ds.proj((\"gas\", \"density\"), \"x\", data_source=sp_CGM, method=\"max\")"
   ]
  },
  {
   "cell_type": "code",
   "execution_count": null,
   "id": "6989b654",
   "metadata": {},
   "outputs": [],
   "source": [
    "(\n",
    "    np.nanmax(proj[\"temperature\"]),\n",
    "    np.nanmax(proj_wei[\"temperature\"]),\n",
    "    np.nanmax(proj_std[\"temperature\"]),\n",
    "    np.nanmax(proj_max[\"temperature\"]),\n",
    ")"
   ]
  },
  {
   "cell_type": "markdown",
   "id": "687322ad",
   "metadata": {},
   "source": [
    "### Fixed resolution buffers (FRBs)\n",
    "Very commonly, we want to project or slice a field through a specific point in space and project onto a regular 2D grid."
   ]
  },
  {
   "cell_type": "code",
   "execution_count": null,
   "id": "5b3fd045",
   "metadata": {},
   "outputs": [],
   "source": [
    "L = center - 2 * Rvir\n",
    "R = center + 2 * Rvir\n",
    "# Create a 1024x1024 pixel FRB centered on the center of the halo\n",
    "frb = ds.r[center[0], L[1] : R[1] : 1024j, L[2] : R[2] : 1024j]"
   ]
  },
  {
   "cell_type": "code",
   "execution_count": null,
   "id": "92a22164",
   "metadata": {},
   "outputs": [],
   "source": [
    "plt.imshow(\n",
    "    frb[\"gas\", \"density\"].to(\"mp/cm**3\").d,\n",
    "    origin=\"lower\",\n",
    "    cmap=\"magma\",\n",
    "    norm=plt.matplotlib.colors.LogNorm(),\n",
    ")"
   ]
  },
  {
   "cell_type": "markdown",
   "id": "2c559475",
   "metadata": {},
   "source": [
    "We can also obtain a fixed resolution buffer from a slice or a projection"
   ]
  },
  {
   "cell_type": "code",
   "execution_count": null,
   "id": "507f3477",
   "metadata": {},
   "outputs": [],
   "source": [
    "containers = (slice, proj, proj_wei, proj_std, proj_max)\n",
    "fig, axes = plt.subplots(\n",
    "    ncols=len(containers),\n",
    "    figsize=(len(containers) * 3, 3),\n",
    "    constrained_layout=True,\n",
    "    sharex=True,\n",
    "    sharey=True,\n",
    ")\n",
    "\n",
    "for ax, container, title in zip(\n",
    "    axes,\n",
    "    containers,\n",
    "    (\n",
    "        \"Slice\",\n",
    "        \"Projection\",\n",
    "        \"Weighted Projection\",\n",
    "        \"Standard Deviation Projection\",\n",
    "        \"Max Projection\",\n",
    "    ),\n",
    "):\n",
    "    im = ax.imshow(\n",
    "        container.to_frb(4 * Rvir, 1024, center=center)[\"gas\", \"density\"].d,\n",
    "        origin=\"lower\",\n",
    "        cmap=\"magma\",\n",
    "        norm=plt.matplotlib.colors.LogNorm(),\n",
    "    )\n",
    "    ax.set_title(title)\n",
    "    ax.set_xlabel(\"y [kpc]\")"
   ]
  },
  {
   "cell_type": "markdown",
   "id": "a04fac50",
   "metadata": {},
   "source": [
    "### Arbitrary grids\n",
    "This allows to project *everything* onto an arbitrary regular grid with a fixed resolution. It needs not be aligned with the simulation grid. Note that this may be expensive, as yt needs to interpolate the data onto the new grid. You can see it as the 3D equivalent of a fixed resolution buffer."
   ]
  },
  {
   "cell_type": "code",
   "execution_count": null,
   "id": "9c6f7554",
   "metadata": {},
   "outputs": [],
   "source": [
    "grid = ds.r[L[0]:R[0]:256j, L[1]:R[1]:256j, L[2]:R[2]:256j]\n",
    "# or equivalently\n",
    "grid = ds.arbitrary_grid(L, R, (256, 256, 256))"
   ]
  },
  {
   "cell_type": "code",
   "execution_count": null,
   "id": "19d6ae65",
   "metadata": {},
   "outputs": [],
   "source": [
    "grid[\"gas\", \"density\"].shape"
   ]
  },
  {
   "cell_type": "code",
   "execution_count": null,
   "id": "d7e09dd1",
   "metadata": {},
   "outputs": [],
   "source": [
    "plt.imshow(grid[\"gas\", \"density\"].sum(axis=2).T, origin=\"lower\", cmap=\"magma\", norm=plt.matplotlib.colors.LogNorm())"
   ]
  },
  {
   "cell_type": "markdown",
   "id": "5b5d140e",
   "metadata": {},
   "source": [
    "### Covering grids\n",
    "As seen above, interpolating data onto an arbitrary grid can be expensive. If possible, consider using a (smooth) covering grid instead. This is similar in spirit, except the covering grid is aligned with the simulation grid and only interpolates the data onto the new grid."
   ]
  },
  {
   "cell_type": "code",
   "execution_count": null,
   "id": "2613f413",
   "metadata": {},
   "outputs": [],
   "source": [
    "sp_CGM[\"index\", \"grid_level\"].max()"
   ]
  },
  {
   "cell_type": "code",
   "execution_count": null,
   "id": "7c70d82c",
   "metadata": {},
   "outputs": [],
   "source": [
    "smoothed_grid = ds.smoothed_covering_grid(level=6, left_edge=L, dims=(256, 256, 256), num_ghost_zones=1)\n",
    "grid = ds.covering_grid(level=6, left_edge=L, dims=(256, 256, 256))"
   ]
  },
  {
   "cell_type": "code",
   "execution_count": null,
   "id": "fbd72224",
   "metadata": {},
   "outputs": [],
   "source": [
    "grid[\"gas\", \"density\"].shape"
   ]
  },
  {
   "cell_type": "code",
   "execution_count": null,
   "id": "de664733",
   "metadata": {},
   "outputs": [],
   "source": [
    "fig, axes = plt.subplots(ncols=2, figsize=(16, 8), constrained_layout=True)\n",
    "for ax in axes:\n",
    "    ax.axis(\"off\")\n",
    "\n",
    "kwa = {\"origin\": \"lower\", \"cmap\": \"magma\", \"norm\": plt.matplotlib.colors.LogNorm()}\n",
    "axes[0].imshow(grid[\"gas\", \"density\"].sum(axis=2).T, **kwa)\n",
    "axes[1].imshow(smoothed_grid[\"gas\", \"density\"].sum(axis=2).T, **kwa)\n",
    "axes[0].set_title(\"Arbitrary grid\")\n",
    "axes[1].set_title(\"Smoothed covering grid\")"
   ]
  },
  {
   "cell_type": "markdown",
   "id": "2b789cfa",
   "metadata": {},
   "source": [
    "Having a uniform grid can be useful, for example to compute the power spectrum or to compute finite differences that are more easily expressed on a uniform grid."
   ]
  },
  {
   "cell_type": "code",
   "execution_count": null,
   "id": "689600cc",
   "metadata": {},
   "outputs": [],
   "source": [
    "# Compute the velocity dispersion in cubes of size [3x3x3] pixels\n",
    "vtot = np.zeros((*smoothed_grid[\"velocity_x\"].shape, 3))\n",
    "\n",
    "for i in range(3):\n",
    "    for j in range(3):\n",
    "        for k in range(3):\n",
    "            vtot[..., 0] += np.roll(smoothed_grid[\"velocity_x\"].d, (i-1, j-1, k-1))\n",
    "            vtot[..., 1] += np.roll(smoothed_grid[\"velocity_y\"].d, (i-1, j-1, k-1))\n",
    "            vtot[..., 2] += np.roll(smoothed_grid[\"velocity_z\"].d, (i-1, j-1, k-1))\n",
    "vtot /= 27\n",
    "\n",
    "vvar = np.zeros(smoothed_grid[\"velocity_x\"].shape)\n",
    "for i in range(3):\n",
    "    for j in range(3):\n",
    "        for k in range(3):\n",
    "            vvar += (np.roll(smoothed_grid[\"velocity_x\"].d, (i-1, j-1, k-1)) - vtot[..., 0]) ** 2\n",
    "            vvar += (np.roll(smoothed_grid[\"velocity_y\"].d, (i-1, j-1, k-1)) - vtot[..., 1]) ** 2\n",
    "            vvar += (np.roll(smoothed_grid[\"velocity_z\"].d, (i-1, j-1, k-1)) - vtot[..., 2]) ** 2\n",
    "vvar = ds.arr(vvar / 27, smoothed_grid[\"velocity_x\"].units**2)"
   ]
  },
  {
   "cell_type": "code",
   "execution_count": null,
   "id": "f4c6de03",
   "metadata": {},
   "outputs": [],
   "source": [
    "fig, axes = plt.subplots(ncols=2, figsize=(16, 8))\n",
    "IM = axes[0].imshow(np.sqrt(vvar).to(\"km/s\").mean(axis=1).T, origin=\"lower\", cmap=\"viridis\", norm=plt.matplotlib.colors.LogNorm())\n",
    "CB = plt.colorbar(IM, ax=axes[0])\n",
    "CB.set_label(r\"$\\sigma_v$ [km/s]\")\n",
    "\n",
    "IM = axes[1].imshow(smoothed_grid[\"gas\", \"density\"].sum(axis=1).T, origin=\"lower\", cmap=\"magma\", norm=plt.matplotlib.colors.LogNorm())\n",
    "CB = plt.colorbar(IM, ax=axes[1])\n",
    "CB.set_label(r\"$\\rho$ [g/cm$^3$]\")"
   ]
  },
  {
   "cell_type": "markdown",
   "id": "cf926b5d",
   "metadata": {},
   "source": [
    "### Streamlines\n",
    "Unfortunately doesn't work for oct datasets yet."
   ]
  },
  {
   "cell_type": "code",
   "execution_count": null,
   "id": "00e1dde5",
   "metadata": {},
   "outputs": [],
   "source": [
    "from yt.visualization.api import Streamlines\n",
    "\n",
    "# Load the dataset\n",
    "ds = yt.load_sample(\"IsolatedGalaxy\")\n",
    "\n",
    "# Define c: the center of the box, N: the number of streamlines,\n",
    "# scale: the spatial scale of the streamlines relative to the boxsize,\n",
    "# and then pos: the random positions of the streamlines.\n",
    "c = ds.domain_center\n",
    "N = 100\n",
    "scale = ds.domain_width[0]\n",
    "pos_dx = np.random.random((N, 3)) * scale - scale / 2.0\n",
    "pos = c + pos_dx\n",
    "\n",
    "# Create streamlines of the 3D vector velocity and integrate them through\n",
    "# the box defined above\n",
    "streamlines = Streamlines(\n",
    "    ds,\n",
    "    pos,\n",
    "    (\"gas\", \"velocity_x\"),\n",
    "    (\"gas\", \"velocity_y\"),\n",
    "    (\"gas\", \"velocity_z\"),\n",
    "    length=1.0 * Mpc,\n",
    "    get_magnitude=True,\n",
    ")\n",
    "streamlines.integrate_through_volume()"
   ]
  },
  {
   "cell_type": "code",
   "execution_count": null,
   "id": "e0b471d3",
   "metadata": {},
   "outputs": [],
   "source": []
  }
 ],
 "metadata": {
  "kernelspec": {
   "display_name": "Python 3 (ipykernel)",
   "language": "python",
   "name": "python3"
  },
  "language_info": {
   "codemirror_mode": {
    "name": "ipython",
    "version": 3
   },
   "file_extension": ".py",
   "mimetype": "text/x-python",
   "name": "python",
   "nbconvert_exporter": "python",
   "pygments_lexer": "ipython3",
   "version": "3.13.5"
  }
 },
 "nbformat": 4,
 "nbformat_minor": 5
}
