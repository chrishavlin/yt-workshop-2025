{
 "cells": [
  {
   "cell_type": "markdown",
   "id": "57eac23e-70ea-4d0a-8f7a-9bb4211e0887",
   "metadata": {},
   "source": [
    "# Generic Data Loaders \n",
    "\n",
    "## Quick overview of loaders\n",
    "\n",
    "List them \n",
    "\n",
    "## Examples to work\n",
    "\n",
    "### block AMR\n",
    "\n",
    "### octree\n",
    "\n",
    "### SPH\n",
    "\n",
    "### Loading from functions \n",
    "\n",
    "https://yt-project.org/docs/dev/examining/Loading_Data_via_Functions.html \n",
    "\n",
    "Start with the above example, then do an example that loads from disk. Move to example reading from disk. "
   ]
  },
  {
   "cell_type": "code",
   "execution_count": null,
   "id": "c927ebb4-ddc5-4a0a-b483-6dbe145d0a6c",
   "metadata": {},
   "outputs": [],
   "source": []
  }
 ],
 "metadata": {
  "kernelspec": {
   "display_name": "Python 3 (ipykernel)",
   "language": "python",
   "name": "python3"
  },
  "language_info": {
   "codemirror_mode": {
    "name": "ipython",
    "version": 3
   },
   "file_extension": ".py",
   "mimetype": "text/x-python",
   "name": "python",
   "nbconvert_exporter": "python",
   "pygments_lexer": "ipython3",
   "version": "3.10.11"
  }
 },
 "nbformat": 4,
 "nbformat_minor": 5
}
