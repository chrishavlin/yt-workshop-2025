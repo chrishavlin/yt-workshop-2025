{
 "cells": [
  {
   "cell_type": "markdown",
   "id": "1570bff5-7ea1-4bbc-ad9d-e27acab25ff8",
   "metadata": {},
   "source": [
    "# Volume Rendering with yt (+ extensions)\n",
    "\n",
    "## yt-napari \n",
    "\n",
    "napari:\n",
    "* interactive\n",
    "* mostly max intensity projections\n",
    "\n",
    "yt-napari:\n",
    "* wrappers to convert yt fields to fix-resolution arrays to load as an image array\n",
    "\n"
   ]
  },
  {
   "cell_type": "markdown",
   "id": "13b89e96-57c0-4480-a36b-3dc5faa3b02f",
   "metadata": {},
   "source": [
    "```\n",
    "pip install napari[pyQT5] yt-napari \n",
    "```"
   ]
  },
  {
   "cell_type": "code",
   "execution_count": null,
   "id": "9230cffa-8ae4-47e4-baa4-17edccb3fcc5",
   "metadata": {},
   "outputs": [],
   "source": [
    "import napari\n",
    "from yt_napari.viewer import Scene\n",
    "import yt \n",
    "\n",
    "\n",
    "ds = yt.load(\"IsolatedGalaxy/galaxy0030/galaxy0030\")\n",
    "viewer = napari.Viewer()\n",
    "\n",
    "yt_scene = Scene()\n",
    "\n",
    "left_edge = ds.domain_center - ds.arr([10, 10, 10], 'kpc')\n",
    "right_edge = ds.domain_center + ds.arr([10, 10, 10], 'kpc')\n",
    "yt_scene.add_region(viewer,\n",
    "                    ds,\n",
    "                    (\"enzo\", \"Density\"),\n",
    "                    left_edge = left_edge,\n",
    "                    right_edge = right_edge,\n",
    "                    resolution=(600, 600, 600),\n",
    "                    colormap=\"magma\",\n",
    "                    contrast_limits=(3.4, 6.4))\n",
    "\n",
    "yt_scene.add_region(viewer,\n",
    "                    ds,\n",
    "                    (\"enzo\", \"Temperature\"),\n",
    "                    left_edge = left_edge,\n",
    "                    right_edge = right_edge,\n",
    "                    resolution=(300, 300, 300),\n",
    "                    colormap=\"yellow\",\n",
    "                    contrast_limits=(4., 6.),\n",
    "                    opacity=0.6)"
   ]
  },
  {
   "cell_type": "markdown",
   "id": "7392a58e-050d-4ae7-9917-c3d74d2060cb",
   "metadata": {},
   "source": [
    "# yt-idv \n",
    "\n",
    "The good:\n",
    "\n",
    "* OpenGL, interactive and headless modes\n",
    "* direct rendering AMR and octree grids\n",
    "* max intensity and integrative projections (and custom transfer functions...)\n",
    "* and now direct volume rendering of data in spherical coordinates!\n",
    "\n",
    "The bad:\n",
    "\n",
    "* need to fit index and field in memory\n",
    "* can be a little tricky to install\n",
    "\n",
    "**if on ubuntu**: wayland graphics (the default with ubuntu>=22.04) do not work (cause of one of yt_idv's dependencies...): select \"ubuntu on xorg\" from login screen https://help.symless.com/hc/en-us/articles/35748582406545-Switch-back-to-Xorg-on-Ubuntu \n",
    "\n",
    "**if on mac**: interactive works well, headless rendering is harder (install osmesa vs conda, but sloooooow). \n",
    "\n",
    "**windows**: &#128556;\n",
    "\n",
    "Example in this directory:\n",
    "\n",
    "```shell\n",
    "pip install yt_idv \n",
    "python volume_rendering_03_yt_idv_spherical.py --domain partial\n",
    "```"
   ]
  },
  {
   "cell_type": "markdown",
   "id": "784f332c-299a-4fbb-9f23-33df8aee55ee",
   "metadata": {},
   "source": [
    "# yt\n",
    "\n",
    "https://yt-project.org/doc/visualizing/volume_rendering.html\n",
    "\n",
    "\n",
    "![](figures/yt_vr_scene.png)\n",
    "\n",
    "\n",
    "## Sources \n",
    "\n",
    "![](figures/render_source.png)\n",
    "\n",
    "(from https://chrishavlin.github.io/post/yt-vr-w-streamlines/)\n",
    "\n",
    "* Volume sources: ray tracing and a transfer function to sample fields\n",
    "* Opaque sources: points, lines, etc that are ... opaque\n",
    "\n",
    "\n",
    "## Volume Sources\n",
    "\n",
    "\n",
    "### Transfer functions"
   ]
  },
  {
   "cell_type": "code",
   "execution_count": null,
   "id": "7ddab8cb-8451-4f81-84c8-6a01cbc6a814",
   "metadata": {},
   "outputs": [],
   "source": [
    "import yt\n",
    "\n",
    "ds = yt.load_sample(\"Enzo_64\")\n",
    "\n",
    "sc = yt.create_scene(ds, lens_type=\"perspective\") # creates a VolumeSource for you\n",
    "\n",
    "source = sc[0]  \n",
    "\n",
    "# Set transfer function properties\n",
    "source.tfh.set_bounds((3e-31, 5e-27))\n",
    "source.tfh.set_log(True)\n",
    "source.tfh.grey_opacity = False\n",
    "\n",
    "source.tfh.plot(profile_field=(\"gas\", \"density\"))"
   ]
  },
  {
   "cell_type": "code",
   "execution_count": null,
   "id": "daf00dea-0f52-4575-ae0b-64d3ca4a8b66",
   "metadata": {},
   "outputs": [],
   "source": []
  },
  {
   "cell_type": "code",
   "execution_count": null,
   "id": "2d641d1a-a08e-4e1e-9b35-046c34b7558e",
   "metadata": {},
   "outputs": [],
   "source": [
    "sc.show()  "
   ]
  },
  {
   "cell_type": "markdown",
   "id": "5e770083-f84c-4754-910b-9be6d9617da2",
   "metadata": {},
   "source": [
    "First: try adjusting the contrast!"
   ]
  },
  {
   "cell_type": "code",
   "execution_count": null,
   "id": "fbe21d65-8df4-4ddb-8e0b-ff688d93a35d",
   "metadata": {},
   "outputs": [],
   "source": [
    "for sig_clip in range(20, -1, -5):\n",
    "    sc.show(sigma_clip=sig_clip)"
   ]
  },
  {
   "cell_type": "code",
   "execution_count": null,
   "id": "083133f3-7533-4291-b93a-492517b32e0a",
   "metadata": {},
   "outputs": [],
   "source": [
    "sc.show(sigma_clip=6)"
   ]
  },
  {
   "cell_type": "code",
   "execution_count": null,
   "id": "b1c14567-fb55-47f6-9137-e7eb0878530e",
   "metadata": {},
   "outputs": [],
   "source": [
    "sc.save_annotated('figures/Enzo64_annotated.png', \n",
    "                  sigma_clip=8.,\n",
    "                  render=False)"
   ]
  },
  {
   "cell_type": "markdown",
   "id": "fd843350-e023-47bd-99ba-eb007e7fa2a4",
   "metadata": {},
   "source": [
    "![](figures/Enzo64_annotated.png)"
   ]
  },
  {
   "cell_type": "markdown",
   "id": "b1fee5de-2d9b-46b6-bf41-aa5beef219a6",
   "metadata": {},
   "source": [
    "# Customizing Transfer functions\n",
    "\n"
   ]
  },
  {
   "cell_type": "code",
   "execution_count": null,
   "id": "398010f5-a5f0-4bac-ad5a-b7e8436cd2d4",
   "metadata": {},
   "outputs": [],
   "source": [
    "sc = yt.create_scene(ds, lens_type=\"perspective\")\n",
    "\n",
    "source = sc[0]\n",
    "\n",
    "source.set_field((\"gas\", \"density\"))\n",
    "source.set_log(True)\n",
    "\n",
    "bounds = (3e-31, 5e-27)\n",
    "\n",
    "# Since this rendering is done in log space, the transfer function needs\n",
    "# to be specified in log space.\n",
    "tf = yt.ColorTransferFunction(np.log10(bounds))\n",
    "\n",
    "tf.add_gaussian(np.log10(1e-29), width=0.005, height=[0., 1.0, 0, 1.0])\n",
    "\n",
    "source.tfh.tf = tf\n",
    "source.tfh.bounds = bounds\n",
    "\n",
    "source.tfh.plot(profile_field=(\"gas\", \"density\"))\n"
   ]
  },
  {
   "cell_type": "code",
   "execution_count": null,
   "id": "e92b87f6-c040-4dc6-ab0e-50bc703e8971",
   "metadata": {},
   "outputs": [],
   "source": [
    "tf.add_gaussian(np.log10(1e-28), width=0.01, height=[0.753, 0.0, 0.933, 1.0])\n",
    "source.tfh.plot(profile_field=(\"gas\", \"density\"))"
   ]
  },
  {
   "cell_type": "code",
   "execution_count": null,
   "id": "a4ce3ddf-9fd8-431e-a292-8ef80f11d532",
   "metadata": {},
   "outputs": [],
   "source": [
    "sc.show(sigma_clip=5)"
   ]
  },
  {
   "cell_type": "markdown",
   "id": "a809a2ed-e12e-42b4-8ab7-13127e6aa189",
   "metadata": {},
   "source": [
    "tf.sample_colormap to add gaussian sampling from a colormap"
   ]
  },
  {
   "cell_type": "code",
   "execution_count": null,
   "id": "b9b10321-7444-4288-a453-ae3ceca9019d",
   "metadata": {},
   "outputs": [],
   "source": []
  },
  {
   "cell_type": "markdown",
   "id": "e9594cb4-3483-4430-9f33-67bd1cc649ab",
   "metadata": {},
   "source": [
    "## Cartesian only, but interpolation can get you pretty far... \n",
    "\n",
    "\n",
    "![](figures/havlin_ec20_vr.png)\n",
    "\n",
    "(from https://github.com/earthcube2020/ec20_havlin_etal)\n",
    "\n",
    "   \n",
    "1. interpolate from 3D geodetic coordinates (latitude, longitude, depth) to cartesian grid (inverse-distance weighting with kdtree), load with `yt.load_uniform_grid`, create a scene, add `VolumeSource`\n",
    "2. domain and shapefile annotations:  tectonic boundaries (Coffin et al., 1998), sites of volcanism of the last 10,000 years (Simkin and Siebert, 1994) and US political boundaries (Natural Earth, https://www.naturalearthdata.com/). defined as (lat, lon) on earth's surface, project to 3d positions and use `LineSource` and `PointSource` objects with `yt.add_source`\n",
    "\n",
    "### now with `yt_xarray`\n",
    "\n",
    "Embedded interpolations on demand within yt grids (with `load_amr_grids`):\n",
    "\n",
    "![](figures/wus_composite_vr.png)\n",
    "\n",
    "(from https://chrishavlin.github.io/NASASoftwareWorkshop2024/yt-xr-dev-02-transformations.html )\n",
    "\n",
    "\n",
    "```\n",
    "pip install yt_xarary scipy xarray netCDF4 \n",
    "```\n",
    "\n",
    "```\n",
    "wget https://yt2025data.hub.yt/geo/wUS-SH-2010_percent.nc\n",
    "```\n"
   ]
  },
  {
   "cell_type": "code",
   "execution_count": null,
   "id": "c9a364ff-6872-469d-b6fa-86a6c765be59",
   "metadata": {},
   "outputs": [],
   "source": [
    "import xarray as xr\n",
    "import yt_xarray\n",
    "import yt\n",
    "from yt_xarray import transformations as tf\n",
    "from yt_xarray.utilities.logging import ytxr_log\n",
    "import numpy as np \n",
    "import cartopy\n",
    "from yt.visualization.volume_rendering.render_source import LineSource\n",
    "\n",
    "import shapely\n",
    "import cartopy.feature as cfeature\n",
    "\n",
    "import matplotlib.pyplot as plt \n",
    "import unyt\n",
    "\n",
    "ds = yt_xarray.open_dataset(\"IRIS/wUS-SH-2010_percent.nc\")\n",
    "grid_resolution = (32, 32, 32)\n",
    "gc = tf.GeocentricCartesian(radial_type='depth', r_o=6371., use_neg_lons=True)\n",
    "ds_yt = tf.build_interpolated_cartesian_ds(\n",
    "    ds,\n",
    "    gc,\n",
    "    fields = 'dvs' ,   \n",
    "    grid_resolution = grid_resolution, \n",
    "    refine_grid=True,    \n",
    "    refine_max_iters=2000,\n",
    "    refine_min_grid_size=4,\n",
    "    refine_by=4,\n",
    "    interp_method='interpolate',\n",
    ")\n",
    "\n",
    "# add a nice field... volume rendering with observation data is hard...\n",
    "# - fill in nans\n",
    "# - full dvs is +/-, look at just -, make it + \n",
    "def _slow_vels(field, data):    \n",
    "    dvs = data['dvs'].d.copy()\n",
    "    dvs[np.isnan(dvs)] = 0.0\n",
    "    dvs[dvs>0] = 0.0\n",
    "    return unyt.unyt_array(np.abs(dvs),\"\")\n",
    "\n",
    "ds_yt.add_field(\n",
    "    name=(\"stream\", \"slow_dvs\"),\n",
    "    function=_slow_vels,\n",
    "    sampling_type=\"local\",\n",
    "    units=\"\",    \n",
    ")\n",
    "\n",
    "reg = ds_yt.region(ds_yt.domain_center, \n",
    "                   ds_yt.domain_left_edge, \n",
    "                   ds_yt.domain_right_edge)\n",
    "sc = yt.create_scene(reg, field=('stream', 'slow_dvs'))\n",
    "cam = sc.add_camera(ds_yt)\n",
    "\n",
    "# transfer function \n",
    "source = sc[0]\n",
    "source.tfh.set_bounds((0.1, 8))\n",
    "source.tfh.set_log(True)\n",
    "\n",
    "# add state outlines\n",
    "# sc.add_source(lsrc)\n",
    "\n",
    "# adjust camera\n",
    "cam.zoom(2)\n",
    "cam.yaw(100*np.pi/180)\n",
    "cam.roll(220*np.pi/180)\n",
    "cam.rotate(30*np.pi/180)\n",
    "cam.set_resolution((300,300))\n",
    "\n",
    "sc.show(sigma_clip=5.)"
   ]
  },
  {
   "cell_type": "code",
   "execution_count": null,
   "id": "040a3bd1-8186-4a0e-a2a9-2ce2e503ad80",
   "metadata": {},
   "outputs": [],
   "source": [
    "sc.save_annotated('figures/wus_live_annotated.png', \n",
    "                  sigma_clip=5.,\n",
    "                  render=False)"
   ]
  },
  {
   "cell_type": "code",
   "execution_count": null,
   "id": "316ea950-09e5-454f-86fe-c6e31cd98e82",
   "metadata": {},
   "outputs": [],
   "source": []
  },
  {
   "cell_type": "markdown",
   "id": "2d6549a0-7220-41c7-9910-dd8047e23219",
   "metadata": {},
   "source": [
    "![](figures/wus_live_annotated.png)"
   ]
  },
  {
   "cell_type": "code",
   "execution_count": null,
   "id": "dc9ceab1-4378-441a-86bc-59ff46e2e309",
   "metadata": {},
   "outputs": [],
   "source": []
  }
 ],
 "metadata": {
  "kernelspec": {
   "display_name": "Python 3 (ipykernel)",
   "language": "python",
   "name": "python3"
  },
  "language_info": {
   "codemirror_mode": {
    "name": "ipython",
    "version": 3
   },
   "file_extension": ".py",
   "mimetype": "text/x-python",
   "name": "python",
   "nbconvert_exporter": "python",
   "pygments_lexer": "ipython3",
   "version": "3.10.18"
  }
 },
 "nbformat": 4,
 "nbformat_minor": 5
}
