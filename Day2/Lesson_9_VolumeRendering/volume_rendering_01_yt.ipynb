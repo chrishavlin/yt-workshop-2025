{
 "cells": [
  {
   "cell_type": "markdown",
   "id": "1570bff5-7ea1-4bbc-ad9d-e27acab25ff8",
   "metadata": {},
   "source": [
    "# Volume Rendering with yt \n",
    "\n",
    "## Background\n",
    "\n",
    "### Scenes and objects \n",
    "\n",
    "### Transfer functions \n",
    "\n",
    "## Some examples \n",
    "\n",
    "## Annotations\n",
    "\n",
    "### Transfer functions \n",
    "\n",
    "### Adding streamlines \n",
    "\n"
   ]
  },
  {
   "cell_type": "code",
   "execution_count": null,
   "id": "2aae80ff-01aa-4e31-8085-e2d09bb704d1",
   "metadata": {},
   "outputs": [],
   "source": []
  }
 ],
 "metadata": {
  "kernelspec": {
   "display_name": "Python 3 (ipykernel)",
   "language": "python",
   "name": "python3"
  },
  "language_info": {
   "codemirror_mode": {
    "name": "ipython",
    "version": 3
   },
   "file_extension": ".py",
   "mimetype": "text/x-python",
   "name": "python",
   "nbconvert_exporter": "python",
   "pygments_lexer": "ipython3",
   "version": "3.10.11"
  }
 },
 "nbformat": 4,
 "nbformat_minor": 5
}
