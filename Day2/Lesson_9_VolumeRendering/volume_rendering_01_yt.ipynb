{
 "cells": [
  {
   "cell_type": "markdown",
   "id": "1570bff5-7ea1-4bbc-ad9d-e27acab25ff8",
   "metadata": {},
   "source": [
    "# Volume Rendering with yt (+ extensions)\n",
    "\n",
    "## yt-napari \n",
    "\n",
    "* interactive\n",
    "* converts a field to fix-resolution array to load as an image array\n",
    "* mostly max intensity projections\n",
    "\n"
   ]
  },
  {
   "cell_type": "code",
   "execution_count": 1,
   "id": "2aae80ff-01aa-4e31-8085-e2d09bb704d1",
   "metadata": {},
   "outputs": [
    {
     "name": "stderr",
     "output_type": "stream",
     "text": [
      "yt : [INFO     ] 2025-07-15 21:11:08,610 Parameters: current_time              = 0.0060000200028298\n",
      "yt : [INFO     ] 2025-07-15 21:11:08,611 Parameters: domain_dimensions         = [32 32 32]\n",
      "yt : [INFO     ] 2025-07-15 21:11:08,611 Parameters: domain_left_edge          = [0. 0. 0.]\n",
      "yt : [INFO     ] 2025-07-15 21:11:08,612 Parameters: domain_right_edge         = [1. 1. 1.]\n",
      "yt : [INFO     ] 2025-07-15 21:11:08,613 Parameters: cosmological_simulation   = 0\n"
     ]
    }
   ],
   "source": [
    "import napari\n",
    "from yt_napari.viewer import Scene\n",
    "import yt \n",
    "\n",
    "\n",
    "ds = yt.load(\"IsolatedGalaxy/galaxy0030/galaxy0030\")\n",
    "viewer = napari.Viewer()\n",
    "\n",
    "yt_scene = Scene()\n",
    "\n",
    "left_edge = ds.domain_center - ds.arr([10, 10, 10], 'kpc')\n",
    "right_edge = ds.domain_center + ds.arr([10, 10, 10], 'kpc')\n",
    "yt_scene.add_region(viewer,\n",
    "                    ds,\n",
    "                    (\"enzo\", \"Density\"),\n",
    "                    left_edge = left_edge,\n",
    "                    right_edge = right_edge,\n",
    "                    resolution=(600, 600, 600),\n",
    "                    colormap=\"magma\",\n",
    "                    contrast_limits=(3.4, 6.4))\n",
    "\n",
    "yt_scene.add_region(viewer,\n",
    "                    ds,\n",
    "                    (\"enzo\", \"Temperature\"),\n",
    "                    left_edge = left_edge,\n",
    "                    right_edge = right_edge,\n",
    "                    resolution=(300, 300, 300),\n",
    "                    colormap=\"yellow\",\n",
    "                    contrast_limits=(4., 6.),\n",
    "                    opacity=0.6)\n",
    "\n",
    "\n",
    "viewer.dims.ndisplay = 3"
   ]
  },
  {
   "cell_type": "markdown",
   "id": "7392a58e-050d-4ae7-9917-c3d74d2060cb",
   "metadata": {},
   "source": [
    "# yt-idv \n",
    "\n",
    "* OpenGL, interactive and headless modes\n",
    "* handles variable meshes\n",
    "* need to fit index and field in memory\n",
    "* direct volume rendering of data in spherical coordinates!\n",
    "* max intensity and integrative projections\n",
    "* can be a little tricky to install"
   ]
  },
  {
   "cell_type": "markdown",
   "id": "784f332c-299a-4fbb-9f23-33df8aee55ee",
   "metadata": {},
   "source": [
    "# yt"
   ]
  },
  {
   "cell_type": "code",
   "execution_count": null,
   "id": "7ddab8cb-8451-4f81-84c8-6a01cbc6a814",
   "metadata": {},
   "outputs": [],
   "source": []
  }
 ],
 "metadata": {
  "kernelspec": {
   "display_name": "Python 3 (ipykernel)",
   "language": "python",
   "name": "python3"
  },
  "language_info": {
   "codemirror_mode": {
    "name": "ipython",
    "version": 3
   },
   "file_extension": ".py",
   "mimetype": "text/x-python",
   "name": "python",
   "nbconvert_exporter": "python",
   "pygments_lexer": "ipython3",
   "version": "3.10.18"
  }
 },
 "nbformat": 4,
 "nbformat_minor": 5
}
