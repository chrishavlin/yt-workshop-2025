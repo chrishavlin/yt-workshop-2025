{
 "cells": [
  {
   "cell_type": "markdown",
   "id": "ac16a2f3-3874-47b5-9328-e46dcd251329",
   "metadata": {
    "editable": true,
    "slideshow": {
     "slide_type": "slide"
    },
    "tags": []
   },
   "source": [
    "# <center>Lesson 3: on-disk fields and basic data containers</center>\n",
    "### <center>yt user/developer workshop, July 2025</center>"
   ]
  },
  {
   "cell_type": "markdown",
   "id": "f0bd2151-bcfd-4608-b67a-053c10d48bac",
   "metadata": {
    "editable": true,
    "slideshow": {
     "slide_type": "fragment"
    },
    "tags": []
   },
   "source": [
    "# Covered in this lesson:\n",
    "* what data are present?\n",
    "* geometric data containers\n",
    "* querying field data\n",
    "* unitful arrays and quantities\n",
    "* field aliases\n",
    "* profiles"
   ]
  },
  {
   "cell_type": "markdown",
   "id": "572df80b-ee0a-4b54-96b2-514c6dd0ae67",
   "metadata": {
    "editable": true,
    "slideshow": {
     "slide_type": "slide"
    },
    "tags": []
   },
   "source": [
    "## Previous concepts:\n",
    "* **dataset**: a collection of data that we load at once. This holds metadata and is cheap to load.\n",
    "* **frontend**: how we define one distinct source of data. This gives us the **index**, the object that understands the relationship between the spatial layout of the data and the file layout.\n",
    "\n",
    "### We have not yet accessed any actual data (other than metadata)."
   ]
  },
  {
   "cell_type": "markdown",
   "id": "e52a81e6-d6bd-4c5e-9b39-ad138857a82c",
   "metadata": {
    "editable": true,
    "slideshow": {
     "slide_type": "fragment"
    },
    "tags": []
   },
   "source": [
    "## New concepts:\n",
    "* **field**: an array of values describing a quantity associated with each element in the `dataset`. This is the data we want. Examples: the gas densities of the grid cells, the positions of the particles, the brightness of the pixels.\n",
    "* **data container**: an object containing one or more elements of a `dataset`. It provides access to `fields` for all the elements it contains."
   ]
  },
  {
   "cell_type": "markdown",
   "id": "a9afcf7d-4180-40a5-807e-f7d7480400df",
   "metadata": {
    "editable": true,
    "slideshow": {
     "slide_type": "slide"
    },
    "tags": []
   },
   "source": [
    "## Load a dataset"
   ]
  },
  {
   "cell_type": "code",
   "execution_count": null,
   "id": "c5ba30e6-8dd7-4f98-8788-65d8589f39f6",
   "metadata": {
    "editable": true,
    "slideshow": {
     "slide_type": ""
    },
    "tags": []
   },
   "outputs": [],
   "source": [
    "import yt\n",
    "\n",
    "ds = yt.load(\"/Users/britton/EnzoRuns/yt-workshop-2025/primordial_star/DD0157/DD0157\")"
   ]
  },
  {
   "cell_type": "markdown",
   "id": "f0ea25ac-2cd0-463b-9224-60a28066c2a8",
   "metadata": {
    "editable": true,
    "slideshow": {
     "slide_type": "slide"
    },
    "tags": []
   },
   "source": [
    "## On-Disk Fields\n",
    "\n",
    "These are the fields saved within the dataset. Their names are defined by the frontend."
   ]
  },
  {
   "cell_type": "markdown",
   "id": "e4c6e106-8d15-4d82-8eaa-b4d13b092163",
   "metadata": {
    "editable": true,
    "slideshow": {
     "slide_type": "fragment"
    },
    "tags": []
   },
   "source": [
    "### What fields are present?\n",
    "\n",
    "The `field_list` will find this out from the `dataset`."
   ]
  },
  {
   "cell_type": "code",
   "execution_count": null,
   "id": "b5ae1dac-3166-4338-b729-988fab06c2a4",
   "metadata": {
    "editable": true,
    "scrolled": true,
    "slideshow": {
     "slide_type": "fragment"
    },
    "tags": []
   },
   "outputs": [],
   "source": [
    "ds.field_list"
   ]
  },
  {
   "cell_type": "markdown",
   "id": "66e0eea5-f137-4131-901b-8fdee63f3611",
   "metadata": {
    "editable": true,
    "slideshow": {
     "slide_type": "subslide"
    },
    "tags": []
   },
   "source": [
    "### Field naming convention: all fields are named by a 2-element tuple of `(field type, field name)`"
   ]
  },
  {
   "cell_type": "markdown",
   "id": "2d0876cd-d12e-4123-939e-25643cb6e9cd",
   "metadata": {
    "editable": true,
    "slideshow": {
     "slide_type": "fragment"
    },
    "tags": []
   },
   "source": [
    "### Notes about creating the `field_list`\n",
    "* This is the first expensive operation. The `index` gets built.\n",
    "* The available fields are being detected by inspecting the data.\n",
    "* The field names are defined by the dataset's `frontend` (mostly)."
   ]
  },
  {
   "cell_type": "markdown",
   "id": "614418fe-96c1-4637-9b6d-52aa245291a5",
   "metadata": {
    "editable": true,
    "slideshow": {
     "slide_type": "fragment"
    },
    "tags": []
   },
   "source": [
    "### Use `field_info` to get more information on each field."
   ]
  },
  {
   "cell_type": "code",
   "execution_count": null,
   "id": "19a1f441-a2be-4140-8338-d65589b02ef4",
   "metadata": {
    "editable": true,
    "slideshow": {
     "slide_type": "fragment"
    },
    "tags": []
   },
   "outputs": [],
   "source": [
    "ds.field_info[\"enzo\", \"Density\"]"
   ]
  },
  {
   "cell_type": "code",
   "execution_count": null,
   "id": "8c3ef79b-8fd5-47be-958e-213fc6e1a41c",
   "metadata": {
    "editable": true,
    "slideshow": {
     "slide_type": ""
    },
    "tags": []
   },
   "outputs": [],
   "source": [
    "ds.field_info[\"enzo\", \"x-velocity\"]"
   ]
  },
  {
   "cell_type": "code",
   "execution_count": null,
   "id": "82a706e0-c976-4b2a-82ca-099f44418fe8",
   "metadata": {
    "editable": true,
    "slideshow": {
     "slide_type": ""
    },
    "tags": []
   },
   "outputs": [],
   "source": [
    "ds.field_info[\"enzo\", \"GasEnergy\"]"
   ]
  },
  {
   "cell_type": "code",
   "execution_count": null,
   "id": "1618f70f-cdae-495d-a5ff-d1ad1f8c2054",
   "metadata": {
    "editable": true,
    "slideshow": {
     "slide_type": ""
    },
    "tags": []
   },
   "outputs": [],
   "source": [
    "ds.field_info[\"io\", \"particle_mass\"]"
   ]
  },
  {
   "cell_type": "markdown",
   "id": "c36e6747-c65c-4b2d-93e0-79914ad392ed",
   "metadata": {
    "editable": true,
    "slideshow": {
     "slide_type": "fragment"
    },
    "tags": []
   },
   "source": [
    "### `ds.fields` is an even better way to do this.\n",
    "* `ds.fields.<field type>.<field name>`\n",
    "* can use `dir` or tab-completion\n",
    "  * `dir(ds.fields)` for available types\n",
    "  * `dir(ds.fields.<field type>` for all fields of this type"
   ]
  },
  {
   "cell_type": "code",
   "execution_count": null,
   "id": "2df71edd-cac0-4f60-8012-ddf23549c6dd",
   "metadata": {
    "editable": true,
    "slideshow": {
     "slide_type": ""
    },
    "tags": []
   },
   "outputs": [],
   "source": [
    "ds.fields.nbody.particle_mass"
   ]
  },
  {
   "cell_type": "markdown",
   "id": "cd9cdb54-1681-4c49-b729-3645d7007926",
   "metadata": {
    "editable": true,
    "slideshow": {
     "slide_type": "subslide"
    },
    "tags": []
   },
   "source": [
    "### Or try this:"
   ]
  },
  {
   "cell_type": "code",
   "execution_count": null,
   "id": "470688e4-2139-40b7-86e1-cf16f76a04c8",
   "metadata": {
    "editable": true,
    "slideshow": {
     "slide_type": ""
    },
    "tags": []
   },
   "outputs": [],
   "source": [
    "# Doesn't work in presentation mode.\n",
    "# display(ds.fields)"
   ]
  },
  {
   "cell_type": "markdown",
   "id": "27da35b2-0082-493d-a73b-b45c598dd1de",
   "metadata": {
    "editable": true,
    "slideshow": {
     "slide_type": "slide"
    },
    "tags": []
   },
   "source": [
    "## Data Containers\n",
    "\n",
    "Data containers (aka \"data objects\") are objects that provide access to field data.\n",
    "\n",
    "yt Documentation: [all available data containers](https://yt-project.org/docs/dev/analyzing/objects.html#available-objects)\n",
    "\n"
   ]
  },
  {
   "cell_type": "markdown",
   "id": "0c319c3b-09e2-4062-a8b6-925dc8004cee",
   "metadata": {
    "editable": true,
    "slideshow": {
     "slide_type": "fragment"
    },
    "tags": []
   },
   "source": [
    "### Geometric data containers\n",
    "* For 3D shapes: they provide access to elements contained within them. All grid cells in which the cell center is within the boundary are considered contained.\n",
    "* For 0D, 1D, 2D: they access intersecting elements or elements that contain them."
   ]
  },
  {
   "cell_type": "markdown",
   "id": "fce0ec8a-7014-433c-a33c-322f7f53f443",
   "metadata": {
    "editable": true,
    "slideshow": {
     "slide_type": "fragment"
    },
    "tags": []
   },
   "source": [
    "### Some 3D data containers:\n",
    "* [sphere](https://yt-project.org/docs/dev/reference/api/yt.data_objects.selection_objects.spheroids.html#yt.data_objects.selection_objects.spheroids.YTSphere)\n",
    "* [disk](https://yt-project.org/docs/dev/reference/api/yt.data_objects.selection_objects.disk.html#yt.data_objects.selection_objects.disk.YTDisk)\n",
    "* [region](https://yt-project.org/docs/dev/reference/api/yt.data_objects.selection_objects.region.html#yt.data_objects.selection_objects.region.YTRegion) (rectangular prism)\n",
    "* [ellipsoid](https://yt-project.org/docs/dev/reference/api/yt.data_objects.selection_objects.spheroids.html#yt.data_objects.selection_objects.spheroids.YTEllipsoid)\n",
    "* [all data](https://yt-project.org/docs/dev/reference/api/yt.data_objects.static_output.html#yt.data_objects.static_output.Dataset.all_data) (shortcut for `region` with domain boundaries for corners)"
   ]
  },
  {
   "cell_type": "markdown",
   "id": "987e6bcf-6511-4242-8bcb-2e34823a6d77",
   "metadata": {
    "editable": true,
    "slideshow": {
     "slide_type": ""
    },
    "tags": []
   },
   "source": [
    "### Some 0/1/2D data containers:\n",
    "* [point](https://yt-project.org/docs/dev/reference/api/yt.data_objects.selection_objects.point.html#yt.data_objects.selection_objects.point.YTPoint)\n",
    "* [ray](https://yt-project.org/docs/dev/reference/api/yt.data_objects.selection_objects.point.html#yt.data_objects.selection_objects.point.YTPoint) (line with start/end point)\n",
    "* [cutting-plane](https://yt-project.org/docs/dev/reference/api/yt.data_objects.selection_objects.slices.html#yt.data_objects.selection_objects.slices.YTCuttingPlane) (2D plane or \"slice\" with arbitrary normal vector)"
   ]
  },
  {
   "cell_type": "markdown",
   "id": "ec37b596-5802-443b-bdae-e0f447419d7e",
   "metadata": {
    "editable": true,
    "slideshow": {
     "slide_type": "subslide"
    },
    "tags": []
   },
   "source": [
    "## Creating data containers"
   ]
  },
  {
   "cell_type": "code",
   "execution_count": null,
   "id": "825147dc-8095-445b-bea1-07b42766ebe2",
   "metadata": {
    "editable": true,
    "slideshow": {
     "slide_type": ""
    },
    "tags": []
   },
   "outputs": [],
   "source": [
    "center = ds.domain_center\n",
    "radius = 0.1 * ds.domain_width[0]"
   ]
  },
  {
   "cell_type": "code",
   "execution_count": null,
   "id": "9a18c76e-85ee-4c6a-a2c3-ff728b10b020",
   "metadata": {
    "editable": true,
    "slideshow": {
     "slide_type": ""
    },
    "tags": []
   },
   "outputs": [],
   "source": [
    "sp = ds.sphere(center, radius)"
   ]
  },
  {
   "cell_type": "markdown",
   "id": "517bb1ff-cfd0-458c-8e60-498ad2a2db95",
   "metadata": {
    "editable": true,
    "slideshow": {
     "slide_type": "fragment"
    },
    "tags": []
   },
   "source": [
    "### Data access: query a data container like a dictionary with the full name of the field"
   ]
  },
  {
   "cell_type": "code",
   "execution_count": null,
   "id": "261013a5-8845-456c-974a-e0d691070cab",
   "metadata": {
    "editable": true,
    "slideshow": {
     "slide_type": ""
    },
    "tags": []
   },
   "outputs": [],
   "source": [
    "sp[\"enzo\", \"Density\"]"
   ]
  },
  {
   "cell_type": "markdown",
   "id": "6d5e6f46-350e-4cc0-85c0-3bc67c546104",
   "metadata": {
    "editable": true,
    "slideshow": {
     "slide_type": "subslide"
    },
    "tags": []
   },
   "source": [
    "### What is returned from a query?\n",
    "* a `unyt` array: a NumPy array with symbolic units that are aware of the dataset's internal units\n",
    "* an ordered 1D array: the order of elements (grid cells/particles) is always the same. This allows meaningful array operations.\n",
    "* Data read from disk the first time and grabbed from cache after (`clear_data` deletes the cache)."
   ]
  },
  {
   "cell_type": "code",
   "execution_count": null,
   "id": "617061c8-16b5-47d9-b50c-3d3944f4c835",
   "metadata": {
    "editable": true,
    "slideshow": {
     "slide_type": ""
    },
    "tags": []
   },
   "outputs": [],
   "source": [
    "sp[\"enzo\", \"Density\"].to(\"g/cm**3\")"
   ]
  },
  {
   "cell_type": "code",
   "execution_count": null,
   "id": "c73ebf17-f9f8-409e-9f7e-202183ac80be",
   "metadata": {
    "editable": true,
    "slideshow": {
     "slide_type": ""
    },
    "tags": []
   },
   "outputs": [],
   "source": [
    "sp[\"io\", \"particle_mass\"].to(\"Msun\")"
   ]
  },
  {
   "cell_type": "code",
   "execution_count": null,
   "id": "52c98737-6509-43c7-bee6-cdcb428461b3",
   "metadata": {
    "editable": true,
    "slideshow": {
     "slide_type": ""
    },
    "tags": []
   },
   "outputs": [],
   "source": [
    "sp[\"enzo\", \"Density\"] * sp[\"enzo\", \"Temperature\"]"
   ]
  },
  {
   "cell_type": "code",
   "execution_count": null,
   "id": "9252f06b-7afc-40d8-8b52-c87a1eb9993d",
   "metadata": {
    "editable": true,
    "slideshow": {
     "slide_type": ""
    },
    "tags": []
   },
   "outputs": [],
   "source": [
    "sp[\"enzo\", \"Density\"]"
   ]
  },
  {
   "cell_type": "code",
   "execution_count": null,
   "id": "33167438-58fc-442b-b35c-9239b7207156",
   "metadata": {
    "editable": true,
    "slideshow": {
     "slide_type": ""
    },
    "tags": []
   },
   "outputs": [],
   "source": [
    "sp.clear_data()\n",
    "sp[\"enzo\", \"Density\"]"
   ]
  },
  {
   "cell_type": "markdown",
   "id": "e8448058-8f79-4ffb-bad9-31b364951b6a",
   "metadata": {
    "editable": true,
    "slideshow": {
     "slide_type": "subslide"
    },
    "tags": []
   },
   "source": [
    "## Position data for grid cells\n",
    "\n",
    "The \"index\" field type defines position fields in several references frames especially relevant to some data containers.\n",
    "* \"x[y,z]\"\n",
    "* \"spherical_radius[theta,phi]\"\n",
    "* \"cylindrical_radius[theta,z]\"\n",
    "These are technically \"derived fields\" (covered later in Lesson 5)."
   ]
  },
  {
   "cell_type": "code",
   "execution_count": null,
   "id": "035f405f-c356-4914-96f7-ddd53881d39c",
   "metadata": {
    "editable": true,
    "slideshow": {
     "slide_type": ""
    },
    "tags": []
   },
   "outputs": [],
   "source": [
    "sp[\"index\", \"x\"]"
   ]
  },
  {
   "cell_type": "code",
   "execution_count": null,
   "id": "dcc0508a-3d71-4c8a-8189-0fb22d7f0c2e",
   "metadata": {
    "editable": true,
    "slideshow": {
     "slide_type": ""
    },
    "tags": []
   },
   "outputs": [],
   "source": [
    "sp[\"index\", \"spherical_radius\"]"
   ]
  },
  {
   "cell_type": "markdown",
   "id": "b4976b6a-c7d7-49f5-8cca-61fb7d921e10",
   "metadata": {
    "editable": true,
    "slideshow": {
     "slide_type": "slide"
    },
    "tags": []
   },
   "source": [
    "## More on unitful arrays and quantities\n",
    "\n",
    "These are of type `unyt_array` and `unyt_quantity` from the [unyt](https://unyt.readthedocs.io/en/stable/) package (spun off from yt)."
   ]
  },
  {
   "cell_type": "code",
   "execution_count": null,
   "id": "840b9b97-4021-42c8-9b00-244e20242199",
   "metadata": {
    "editable": true,
    "slideshow": {
     "slide_type": ""
    },
    "tags": []
   },
   "outputs": [],
   "source": [
    "from unyt import unyt_array, unyt_quantity"
   ]
  },
  {
   "cell_type": "code",
   "execution_count": null,
   "id": "26f114f0-7722-45a4-b8ac-31478ac32039",
   "metadata": {
    "editable": true,
    "slideshow": {
     "slide_type": ""
    },
    "tags": []
   },
   "outputs": [],
   "source": [
    "some_array = unyt_array([1., 2., 3.], \"kg\")\n",
    "some_quantity = unyt_array(50000, \"km/hr**2\")"
   ]
  },
  {
   "cell_type": "code",
   "execution_count": null,
   "id": "23515608-262e-46b1-b8ea-0bf9fdf79c6a",
   "metadata": {
    "editable": true,
    "slideshow": {
     "slide_type": ""
    },
    "tags": []
   },
   "outputs": [],
   "source": [
    "(some_array * some_quantity).to(\"N\")"
   ]
  },
  {
   "cell_type": "markdown",
   "id": "f0a9bb06-c757-4fe6-a510-4054512fba59",
   "metadata": {
    "editable": true,
    "slideshow": {
     "slide_type": "subslide"
    },
    "tags": []
   },
   "source": [
    "### Converting units\n",
    "* `.to` returns a copy in the new unit system\n",
    "* `.convert_to_units` does in-place unit conversion (no data copying)"
   ]
  },
  {
   "cell_type": "code",
   "execution_count": null,
   "id": "05804b31-1ca4-4aa5-b6ff-e111317a57f9",
   "metadata": {
    "editable": true,
    "slideshow": {
     "slide_type": ""
    },
    "tags": []
   },
   "outputs": [],
   "source": [
    "some_array.to(\"Msun\")"
   ]
  },
  {
   "cell_type": "code",
   "execution_count": null,
   "id": "ff40f8f5-3e2f-49c3-91d1-f3e71f62f96f",
   "metadata": {
    "editable": true,
    "slideshow": {
     "slide_type": ""
    },
    "tags": []
   },
   "outputs": [],
   "source": [
    "some_array"
   ]
  },
  {
   "cell_type": "code",
   "execution_count": null,
   "id": "b650e9d0-4ee5-40f4-a3ac-2636b88b60ff",
   "metadata": {
    "editable": true,
    "slideshow": {
     "slide_type": ""
    },
    "tags": []
   },
   "outputs": [],
   "source": [
    "some_array.convert_to_units(\"Msun\")"
   ]
  },
  {
   "cell_type": "code",
   "execution_count": null,
   "id": "23f65bf9-b8d6-4bb7-abde-5a2e24cc83d1",
   "metadata": {
    "editable": true,
    "slideshow": {
     "slide_type": ""
    },
    "tags": []
   },
   "outputs": [],
   "source": [
    "some_array"
   ]
  },
  {
   "cell_type": "markdown",
   "id": "cfdd67e3-f8bb-4dfc-8033-9a194a4e7fd4",
   "metadata": {
    "editable": true,
    "slideshow": {
     "slide_type": "fragment"
    },
    "tags": []
   },
   "source": [
    "### Caveat: general `unyt` objects don't know about the dataset's internal units "
   ]
  },
  {
   "cell_type": "code",
   "execution_count": null,
   "id": "a3d4ffa0-a2b2-4a32-bdea-c6c3ff5d7be1",
   "metadata": {
    "editable": true,
    "slideshow": {
     "slide_type": ""
    },
    "tags": []
   },
   "outputs": [],
   "source": [
    "# this won't work\n",
    "# some_array.to(\"code_mass\")"
   ]
  },
  {
   "cell_type": "markdown",
   "id": "5b79e06b-766b-40f3-8a7a-00464abc2982",
   "metadata": {
    "editable": true,
    "slideshow": {
     "slide_type": ""
    },
    "tags": []
   },
   "source": [
    "### Instead, use `ds.arr` and `ds.quan`."
   ]
  },
  {
   "cell_type": "code",
   "execution_count": null,
   "id": "12f04df2-f90a-4e06-9150-cf96532d1b92",
   "metadata": {
    "editable": true,
    "slideshow": {
     "slide_type": ""
    },
    "tags": []
   },
   "outputs": [],
   "source": [
    "another_array = ds.arr([1., 2., 3.], \"kg\")\n",
    "another_array.to(\"code_mass\")"
   ]
  },
  {
   "cell_type": "markdown",
   "id": "86cd8b69-e004-4bac-a1ae-f512b5d400ea",
   "metadata": {
    "editable": true,
    "slideshow": {
     "slide_type": "subslide"
    },
    "tags": []
   },
   "source": [
    "### Caveat for cosmology simulations: comoving and proper reference frames\n",
    "\n",
    "Generally speaking, lengths are in the proper frame and appending \"cm\" returns them in the comoving frame."
   ]
  },
  {
   "cell_type": "code",
   "execution_count": null,
   "id": "81569165-a66d-4d32-bea0-cf42fd8dee73",
   "metadata": {
    "editable": true,
    "slideshow": {
     "slide_type": ""
    },
    "tags": []
   },
   "outputs": [],
   "source": [
    "print (ds.domain_width.to(\"Mpc\"))\n",
    "print (ds.domain_width.to(\"Mpccm\"))\n",
    "print (ds.domain_width.to(\"Mpccm/h\"))"
   ]
  },
  {
   "cell_type": "markdown",
   "id": "28fb6c98-2638-4f68-8159-159daa7ed8f1",
   "metadata": {
    "editable": true,
    "slideshow": {
     "slide_type": ""
    },
    "tags": []
   },
   "source": [
    "Take great care when working with multiple cosmological snapshots at once. For length-related quantities, use \"unitary\" as it is known to always be a constant. This is a unit system normalized to the size of the box."
   ]
  },
  {
   "cell_type": "code",
   "execution_count": null,
   "id": "a0450a49-e3c5-4338-beaa-7d837020edfd",
   "metadata": {
    "editable": true,
    "slideshow": {
     "slide_type": ""
    },
    "tags": []
   },
   "outputs": [],
   "source": [
    "print (ds.domain_width.to(\"unitary\"))"
   ]
  },
  {
   "cell_type": "markdown",
   "id": "b171a15f-4abd-406e-bd83-5a4eba3d5b9b",
   "metadata": {
    "editable": true,
    "slideshow": {
     "slide_type": "slide"
    },
    "tags": []
   },
   "source": [
    "## Field aliases\n",
    "* Field types and names exist for quantities that many data formats have in common.\n",
    "* Fields are all named using the lowercase-underscore convention.\n",
    "* Data is returned in universally defined units (i.e., not frontend-specific).\n",
    "\n",
    "The best example of this is **\"gas\"**."
   ]
  },
  {
   "cell_type": "code",
   "execution_count": null,
   "id": "9614d5d8-21a4-4916-8302-6b12f7f29a85",
   "metadata": {
    "editable": true,
    "slideshow": {
     "slide_type": ""
    },
    "tags": []
   },
   "outputs": [],
   "source": [
    "sp[\"gas\", \"density\"]"
   ]
  },
  {
   "cell_type": "markdown",
   "id": "98991cb3-6f7c-4bc7-84da-701c08ea1989",
   "metadata": {
    "editable": true,
    "slideshow": {
     "slide_type": ""
    },
    "tags": []
   },
   "source": [
    "The \"gas\" field type also defines several other common \"derived fields\" (Lesson 5)."
   ]
  },
  {
   "cell_type": "markdown",
   "id": "74b3440c-dc1f-4eec-98e2-1c164d3a4e14",
   "metadata": {
    "editable": true,
    "slideshow": {
     "slide_type": "slide"
    },
    "tags": []
   },
   "source": [
    "## Useful helper functions\n",
    "* These are associated with the `dataset` object (**not** with the data containers).\n",
    "* They will run on the entire dataset and so should not be expected to be fast.\n",
    "* They can be used to make informed decisions about defining your data containers. (For example, center a sphere on the point of maximum density.)\n",
    "* [find_max](https://yt-project.org/docs/dev/reference/api/yt.data_objects.static_output.html#yt.data_objects.static_output.Dataset.find_max)\n",
    "* [find_min](https://yt-project.org/docs/dev/reference/api/yt.data_objects.static_output.html#yt.data_objects.static_output.Dataset.find_min)\n",
    "* [field_values_at_point](https://yt-project.org/docs/dev/reference/api/yt.data_objects.static_output.html#yt.data_objects.static_output.Dataset.find_field_values_at_point)\n",
    "* [field_values_at_points](https://yt-project.org/docs/dev/reference/api/yt.data_objects.static_output.html#yt.data_objects.static_output.Dataset.find_field_values_at_points)"
   ]
  },
  {
   "cell_type": "code",
   "execution_count": null,
   "id": "51860388-b144-4066-be20-6076015b5dff",
   "metadata": {
    "editable": true,
    "slideshow": {
     "slide_type": ""
    },
    "tags": []
   },
   "outputs": [],
   "source": [
    "ds.find_max((\"gas\", \"density\"))"
   ]
  },
  {
   "cell_type": "markdown",
   "id": "6246e111-5d1c-400d-bf49-28d007bee6e6",
   "metadata": {
    "editable": true,
    "slideshow": {
     "slide_type": "slide"
    },
    "tags": []
   },
   "source": [
    "## Profiles\n",
    "* Profiles are essentially multidimensional histograms of field data.\n",
    "* canned plotting methods exist for 1D (ProfilePlot) and 2D (PhasePlot) profiles (covered in Lesson 6).\n",
    "* yt supports 1D, 2D, and 3D profiles via the [create_profile](https://yt-project.org/docs/dev/reference/api/yt.data_objects.profiles.html#yt.data_objects.profiles.create_profile) function\n",
    "* given 1, 2, or 3 \"bin fields\", one \"profile field\", and (optionally) a \"weight field\", the profile yields:\n",
    "  * unweighted profiles: the sum of the profile field in bins of the bin fields\n",
    "  * weighted profiles: the weighted average of the profile field (weighted by the weight field) in bins of the bin fields"
   ]
  },
  {
   "cell_type": "code",
   "execution_count": null,
   "id": "76c933c0-91af-4433-aa32-00e9853f6773",
   "metadata": {
    "editable": true,
    "slideshow": {
     "slide_type": ""
    },
    "tags": []
   },
   "outputs": [],
   "source": [
    "value, center = ds.find_max((\"gas\", \"density\"))"
   ]
  },
  {
   "cell_type": "code",
   "execution_count": null,
   "id": "144908e1-459a-46d7-8cc4-e7897f3a369f",
   "metadata": {
    "editable": true,
    "slideshow": {
     "slide_type": ""
    },
    "tags": []
   },
   "outputs": [],
   "source": [
    "sp = ds.sphere(center, radius)"
   ]
  },
  {
   "cell_type": "code",
   "execution_count": null,
   "id": "7ebe377f-e080-4796-acfb-b978817a93f4",
   "metadata": {
    "editable": true,
    "slideshow": {
     "slide_type": "fragment"
    },
    "tags": []
   },
   "outputs": [],
   "source": [
    "profile_fields = [(\"index\", \"spherical_radius\")]\n",
    "bin_fields = [(\"gas\", \"density\")]\n",
    "weight_field = (\"gas\", \"cell_mass\")\n",
    "\n",
    "profile = yt.create_profile(sp, profile_fields, bin_fields, weight_field=weight_field)"
   ]
  },
  {
   "cell_type": "code",
   "execution_count": null,
   "id": "c39d1fa0-d652-4f5c-b2c2-ee9e99b26c98",
   "metadata": {
    "editable": true,
    "slideshow": {
     "slide_type": "fragment"
    },
    "tags": []
   },
   "outputs": [],
   "source": [
    "from matplotlib import pyplot as plt\n",
    "import matplotlib\n",
    "%matplotlib inline"
   ]
  },
  {
   "cell_type": "code",
   "execution_count": null,
   "id": "013a84ef-4bc5-4083-a995-9e56e8711eff",
   "metadata": {
    "editable": true,
    "slideshow": {
     "slide_type": ""
    },
    "tags": []
   },
   "outputs": [],
   "source": [
    "plt.loglog(profile.x.to(\"pc\"), profile[\"gas\", \"density\"])\n",
    "plt.xlabel(\"r [pc]\")\n",
    "plt.ylabel(\"$\\\\rho\\\\ [g/cm^{3}]$\")\n",
    "plt.show()"
   ]
  },
  {
   "cell_type": "markdown",
   "id": "eef9177d-2298-455e-82f7-0ca88ba84b50",
   "metadata": {
    "editable": true,
    "slideshow": {
     "slide_type": "subslide"
    },
    "tags": []
   },
   "source": [
    "### Now make an informed choice about a new sphere."
   ]
  },
  {
   "cell_type": "code",
   "execution_count": null,
   "id": "333710f2-440d-4889-bf79-5bed0ec9a04e",
   "metadata": {
    "editable": true,
    "slideshow": {
     "slide_type": ""
    },
    "tags": []
   },
   "outputs": [],
   "source": [
    "sp_small = ds.sphere(center, (5, \"pc\"))"
   ]
  },
  {
   "cell_type": "markdown",
   "id": "e6512536-ccc4-4c9a-8b1d-8422e45eb1f3",
   "metadata": {
    "editable": true,
    "slideshow": {
     "slide_type": ""
    },
    "tags": []
   },
   "source": [
    "### Arguments for data containers\n",
    "Generally speaking, quantities can be expressed as:\n",
    "* `unyt_arrays` (e.g., ds.quan(5, \"pc\"))\n",
    "* tuples of (value, string unit) (e.g., (5, \"pc\"))\n",
    "* floats or arrays without units. Some assumption is made, usually some form of code unit (e.g., \"code_length\")."
   ]
  },
  {
   "cell_type": "code",
   "execution_count": null,
   "id": "fe4058db-01b8-4f60-9f33-490612b2cb29",
   "metadata": {
    "editable": true,
    "slideshow": {
     "slide_type": "fragment"
    },
    "tags": []
   },
   "outputs": [],
   "source": [
    "profile = yt.create_profile(sp_small, [(\"gas\", \"density\")], [(\"gas\", \"temperature\")],\n",
    "                            weight_field=(\"gas\", \"cell_mass\"))"
   ]
  },
  {
   "cell_type": "code",
   "execution_count": null,
   "id": "57cf95d6-050c-4ea1-9896-cf22eca4551c",
   "metadata": {
    "editable": true,
    "slideshow": {
     "slide_type": ""
    },
    "tags": []
   },
   "outputs": [],
   "source": [
    "plt.loglog(profile.x, profile[\"gas\", \"temperature\"])\n",
    "plt.xlabel(\"$\\\\rho\\\\ [g/cm^{3}]$\")\n",
    "plt.ylabel(\"T [K]\")\n",
    "plt.show()"
   ]
  },
  {
   "cell_type": "markdown",
   "id": "2cd17677-1c4d-4eac-98aa-ddbc3b319393",
   "metadata": {
    "editable": true,
    "slideshow": {
     "slide_type": "subslide"
    },
    "tags": []
   },
   "source": [
    "### Weighted standard deviations\n",
    "* for weighted profiles, profile objects have a `standard_deviation` attribute holding the weighted standard deviations"
   ]
  },
  {
   "cell_type": "code",
   "execution_count": null,
   "id": "a2e6328f-c336-4498-a604-28236f004e4b",
   "metadata": {
    "editable": true,
    "slideshow": {
     "slide_type": ""
    },
    "tags": []
   },
   "outputs": [],
   "source": [
    "T_mean = profile[\"gas\", \"temperature\"]\n",
    "T_std = profile.standard_deviation[\"gas\", \"temperature\"]"
   ]
  },
  {
   "cell_type": "code",
   "execution_count": null,
   "id": "50e53116-8881-4582-a6dd-aa5740d66c9b",
   "metadata": {
    "editable": true,
    "slideshow": {
     "slide_type": ""
    },
    "tags": []
   },
   "outputs": [],
   "source": [
    "plt.loglog(profile.x, T_mean)\n",
    "plt.fill_between(profile.x, y1=T_mean-T_std, y2=T_mean+T_std, alpha=0.5)\n",
    "plt.xlabel(\"$\\\\rho\\\\ [g/cm^{3}]$\")\n",
    "plt.ylabel(\"T [K]\")\n",
    "plt.show()"
   ]
  },
  {
   "cell_type": "markdown",
   "id": "b0576944-4d05-453a-923b-2b5f77d8d70e",
   "metadata": {
    "editable": true,
    "slideshow": {
     "slide_type": "subslide"
    },
    "tags": []
   },
   "source": [
    "### Useful profile object attributes\n",
    "* filtering out empty bins:\n",
    "  * profile objects have a `used` attribute\n",
    "  * this is a boolean array indicating non-empty bins\n",
    "* bin edges vs. bin centers\n",
    "  * `x[y,z]` attribute gives bin centers (same shape as profile data)\n",
    "  * `x[y,z]_bins` attributes gives bin edges"
   ]
  },
  {
   "cell_type": "code",
   "execution_count": null,
   "id": "d48d0a65-400e-43aa-867b-e508ba5ea454",
   "metadata": {
    "editable": true,
    "slideshow": {
     "slide_type": ""
    },
    "tags": []
   },
   "outputs": [],
   "source": [
    "profile.used"
   ]
  },
  {
   "cell_type": "code",
   "execution_count": null,
   "id": "4675a737-6d4c-4abd-842a-241a3ffde983",
   "metadata": {
    "editable": true,
    "slideshow": {
     "slide_type": ""
    },
    "tags": []
   },
   "outputs": [],
   "source": [
    "print (profile.x.size, profile.x_bins.size)"
   ]
  },
  {
   "cell_type": "markdown",
   "id": "cf5f317a-5efd-4816-8c34-ca5761ad1467",
   "metadata": {
    "editable": true,
    "slideshow": {
     "slide_type": "subslide"
    },
    "tags": []
   },
   "source": [
    "### 2D profiles"
   ]
  },
  {
   "cell_type": "code",
   "execution_count": null,
   "id": "957e08a6-546d-40a0-a160-e14621e6b367",
   "metadata": {
    "editable": true,
    "slideshow": {
     "slide_type": ""
    },
    "tags": []
   },
   "outputs": [],
   "source": [
    "bin_fields = [(\"gas\", \"density\"),\n",
    "              (\"gas\", \"temperature\")]\n",
    "profile_fields = [(\"gas\", \"cell_mass\")]\n",
    "\n",
    "profile = yt.create_profile(sp_small, bin_fields, profile_fields, weight_field=None)"
   ]
  },
  {
   "cell_type": "code",
   "execution_count": null,
   "id": "c6027d89-e545-44a7-9d82-34d90c50d080",
   "metadata": {
    "editable": true,
    "slideshow": {
     "slide_type": ""
    },
    "tags": []
   },
   "outputs": [],
   "source": [
    "from yt.utilities.physical_constants import mh\n",
    "X = profile.x / mh\n",
    "Y = profile.y\n",
    "Z = profile[\"gas\", \"cell_mass\"].to(\"Msun\").T\n",
    "\n",
    "plt.xscale(\"log\")\n",
    "plt.yscale(\"log\")\n",
    "plt.xlabel(\"$\\\\rho\\\\ [1/cm^{3}]$\")\n",
    "plt.ylabel(\"T [K]\")\n",
    "\n",
    "my_norm = matplotlib.colors.LogNorm(vmin=Z[Z>0].min(), vmax=Z.max())\n",
    "my_plot = plt.pcolormesh(X, Y, Z, norm=my_norm)\n",
    "plt.colorbar(my_plot, label=\"$M_{gas}\\\\ [M_{\\\\odot}]$\")\n",
    "plt.show()"
   ]
  },
  {
   "cell_type": "markdown",
   "id": "027ebbe0-32a5-4401-b6c9-ad759e0df32a",
   "metadata": {
    "editable": true,
    "slideshow": {
     "slide_type": "slide"
    },
    "tags": []
   },
   "source": [
    "## What else can you do with geometric data containers?\n",
    "\n",
    "Geometric data containers can be the building blocks of more complex structures.\n",
    "\n",
    "### Combine them!\n",
    "* operators:\n",
    "  * `&`: intersection (AND)\n",
    "  * `|` or `+`: union (OR)\n",
    "  * `^`: exclusive or (XOR)\n",
    "  * `-`: subtraction (NEG)\n",
    "* [intersection](https://yt-project.org/docs/dev/reference/api/yt.data_objects.selection_objects.boolean_operations.html#yt.data_objects.selection_objects.boolean_operations.YTIntersectionContainer3D) and `union`:\n",
    "  * same as `&`, `|` but faster\n",
    "  * can construct from multiple objects at once\n",
    "\n",
    "The circumgalactic medium as a shape?\n",
    "```\n",
    "my_cgm = my_halo_sphere - my_galaxy_disk\n",
    "```"
   ]
  }
 ],
 "metadata": {
  "kernelspec": {
   "display_name": "Python 3 (ipykernel)",
   "language": "python",
   "name": "python3"
  },
  "language_info": {
   "codemirror_mode": {
    "name": "ipython",
    "version": 3
   },
   "file_extension": ".py",
   "mimetype": "text/x-python",
   "name": "python",
   "nbconvert_exporter": "python",
   "pygments_lexer": "ipython3",
   "version": "3.12.11"
  },
  "rise": {
   "scroll": true
  }
 },
 "nbformat": 4,
 "nbformat_minor": 5
}
