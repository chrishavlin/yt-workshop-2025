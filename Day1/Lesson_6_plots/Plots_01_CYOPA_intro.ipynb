{
 "cells": [
  {
   "cell_type": "markdown",
   "id": "88f68b23-3722-4404-9ae9-7ab6176d287d",
   "metadata": {},
   "source": [
    "# Choose your own plotting adventure!\n",
    "\n",
    "## Beginner\n",
    "\n",
    "* 01: Plotting with the `data_source` argument\n",
    "* 02: Extracting underlying image arrays\n",
    "* Comparing projection plot methods\n",
    "* Projections with SPH data\n",
    "\n",
    "## Intermediate\n",
    "\n",
    "* plotting deposited fields\n",
    "* non-cartesian coordinate plotting exercises\n",
    "\n",
    "## Advanced\n",
    "* creating inset figures\n",
    "* \n"
   ]
  },
  {
   "cell_type": "code",
   "execution_count": null,
   "id": "7f5bac72-34f1-49a2-a608-697e0f6e5eda",
   "metadata": {},
   "outputs": [],
   "source": []
  }
 ],
 "metadata": {
  "kernelspec": {
   "display_name": "Python 3 (ipykernel)",
   "language": "python",
   "name": "python3"
  },
  "language_info": {
   "codemirror_mode": {
    "name": "ipython",
    "version": 3
   },
   "file_extension": ".py",
   "mimetype": "text/x-python",
   "name": "python",
   "nbconvert_exporter": "python",
   "pygments_lexer": "ipython3",
   "version": "3.10.12"
  }
 },
 "nbformat": 4,
 "nbformat_minor": 5
}
