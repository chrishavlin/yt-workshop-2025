{
 "cells": [
  {
   "cell_type": "markdown",
   "id": "edc16af1-1864-4917-b6f0-32105e737e18",
   "metadata": {},
   "source": [
    "# ProjectionPlots and On Screen Mass? \n",
    "\n",
    "This notebook walks through projection plots of grid-based and SPH-based datasets for density fields from which you can calculate a total mass captured in the image (the \"on screen mass\"). You'll be learning about the ProjectionPlot API for on-axis and off-axis projections as well as accessing underlying data contained in plot objects. \n",
    "\n",
    "Note that the off-axis SPH functionality was added in yt 4.4.0 through monumental effort from Nastasha Wijers in https://github.com/yt-project/yt/pull/4939 \n",
    "\n",
    "## some imports that you'll probably use:"
   ]
  },
  {
   "cell_type": "code",
   "execution_count": null,
   "id": "9e3e536f-78ca-4d05-8876-79802a285254",
   "metadata": {},
   "outputs": [],
   "source": [
    "import yt \n",
    "import numpy as np \n",
    "import matplotlib.pyplot as plt \n"
   ]
  },
  {
   "cell_type": "code",
   "execution_count": null,
   "id": "8d301b3e-230b-41d4-bc8f-a588f39f52e0",
   "metadata": {},
   "outputs": [],
   "source": [
    "# yt.set_log_level(50)  # you might want to uncomment this at some point..."
   ]
  },
  {
   "cell_type": "markdown",
   "id": "41c18dd7-d839-4aae-a8aa-9fb693f7753d",
   "metadata": {},
   "source": [
    "## Grid-Based datasets \n",
    "\n",
    "Let's start with a grid-based dataset"
   ]
  },
  {
   "cell_type": "code",
   "execution_count": null,
   "id": "ca46e625-c7dc-403a-9439-b447856f6242",
   "metadata": {},
   "outputs": [],
   "source": [
    "ds = yt.load_sample(\"Enzo_64\")"
   ]
  },
  {
   "cell_type": "markdown",
   "id": "f05a5d05-bac5-48d9-a1d7-dcf79d5f0cdc",
   "metadata": {},
   "source": [
    "and create a projection plot of the `('gas', 'density')` field: "
   ]
  },
  {
   "cell_type": "code",
   "execution_count": null,
   "id": "484cd086-12b4-436e-ae58-55cefbb885cb",
   "metadata": {},
   "outputs": [],
   "source": [
    "<<< create an axis-aligned ProjectionPlot, pick your favorite axis >>>"
   ]
  },
  {
   "cell_type": "markdown",
   "id": "d2256b61-ed02-472a-adfe-7324614f1e5e",
   "metadata": {},
   "source": [
    "how does the image vary as you decrease the number of pixels in the image? (check the `yt.ProjectionPlot` help for the argument to vary): "
   ]
  },
  {
   "cell_type": "code",
   "execution_count": null,
   "id": "64029e37-5d4c-49c5-9d32-6ba74307aa99",
   "metadata": {},
   "outputs": [],
   "source": [
    "<<< create a number of projection plots, varying the number of pixels >>>"
   ]
  },
  {
   "cell_type": "markdown",
   "id": "25e57fb1-e29e-486b-9b74-deaac4209d3a",
   "metadata": {},
   "source": [
    "(the result should not be surprising). \n",
    "\n",
    "\n",
    "But how correct is the result? Let's calculate the total mass represented in the image. \n",
    "\n",
    "First, calculate a pixel area using attributes available on the projection plot object, meaning for a projection plot, \n",
    "\n",
    "```python\n",
    "p = yt.ProjectionPlot(...)\n",
    "```\n",
    "\n",
    "check out the attributes hanging off of `p.` -- you'll need two to calculate the area of a single pixel: \n"
   ]
  },
  {
   "cell_type": "code",
   "execution_count": null,
   "id": "55518cb0-0195-47c4-a7ae-a42a69c1b1d3",
   "metadata": {},
   "outputs": [],
   "source": [
    "p = yt.ProjectionPlot(<<< your excellent args and kwargs>>>)"
   ]
  },
  {
   "cell_type": "code",
   "execution_count": null,
   "id": "99d4bef7-7a9d-4969-8f28-e54b7e20d137",
   "metadata": {},
   "outputs": [],
   "source": [
    "<<< explore the ProjectionPlot at p. to find attributes \n",
    "    corresponding to the image bounds and number of pixels \n",
    "    in each direction >>>"
   ]
  },
  {
   "cell_type": "code",
   "execution_count": null,
   "id": "3d1e723c-a24c-416b-9296-b30ef0b545e6",
   "metadata": {},
   "outputs": [],
   "source": [
    "<<< use those attributes to calculate the 2D area of a single \n",
    "    pixel in the image >>>"
   ]
  },
  {
   "cell_type": "markdown",
   "id": "b0e72adc-e6d4-4c0c-a7b8-42e880b268d8",
   "metadata": {},
   "source": [
    "Now, extract the underlying image array data for the projection plot using the available Fixed Resolution Buffer (frb): "
   ]
  },
  {
   "cell_type": "code",
   "execution_count": null,
   "id": "b0989933-b897-405f-8225-ac2a70f95ffc",
   "metadata": {},
   "outputs": [],
   "source": [
    "<<< use p.frb to get the density image array >>>"
   ]
  },
  {
   "cell_type": "markdown",
   "id": "cba4d095-61ab-49a8-88e4-f86d38102233",
   "metadata": {},
   "source": [
    "Given the projected density values for each pixel and the area of a pixel, calculate the total mass:"
   ]
  },
  {
   "cell_type": "code",
   "execution_count": null,
   "id": "2a9fdc62-fec2-4129-8aca-21ba5866a76e",
   "metadata": {},
   "outputs": [],
   "source": [
    "on_screen_mass = <<< calculate total mass in the image >>>"
   ]
  },
  {
   "cell_type": "markdown",
   "id": "fb7945d5-aeea-4955-bb65-85b98cf85df5",
   "metadata": {},
   "source": [
    "Compare this to the total mass in the simulation (using other yt operations)."
   ]
  },
  {
   "cell_type": "code",
   "execution_count": null,
   "id": "47973644-d5d9-4321-ba26-91e88bd85e70",
   "metadata": {},
   "outputs": [],
   "source": [
    "t_mass_actual = <<< ... >>>"
   ]
  },
  {
   "cell_type": "markdown",
   "id": "67e8c761-cc5e-4220-b080-58ef039ba4df",
   "metadata": {},
   "source": [
    "how does it compare? "
   ]
  },
  {
   "cell_type": "code",
   "execution_count": null,
   "id": "682d5495-00f5-4c8f-9505-4342487d67c7",
   "metadata": {},
   "outputs": [],
   "source": [
    "(on_screen_mass - t_mass_actual)/t_mass_actual"
   ]
  },
  {
   "cell_type": "markdown",
   "id": "cc6e934e-61c4-4b67-89f9-a0fdba683d5a",
   "metadata": {},
   "source": [
    "Now, iterate through some projection plots again (if you didn't already) and store the relative error as a function of the number of pixels in the projection. \n",
    "\n",
    "At this point you might find it helpful to write some functions to:\n",
    "\n",
    "1. calculate and return the on screen mass given a projection plot\n",
    "2. calculate the relative error for for a projection plot"
   ]
  },
  {
   "cell_type": "code",
   "execution_count": null,
   "id": "d20901f8-7a6e-4e17-8ea7-590b91c25efa",
   "metadata": {},
   "outputs": [],
   "source": [
    "\n",
    "def get_on_screen_mass( <<<...>>>):\n",
    "    <<< code >>>\n",
    "    return <<< mass estimate >>>\n",
    "\n",
    "def calculate_mass_rel_error(<<<...>>>):\n",
    "    return <<< relative error >>>\n"
   ]
  },
  {
   "cell_type": "markdown",
   "id": "970160e5-45a4-44d6-ac68-9e6622a7b979",
   "metadata": {},
   "source": [
    "iterate through some buffer sizes, calculating and storing the relative error"
   ]
  },
  {
   "cell_type": "code",
   "execution_count": null,
   "id": "57ee0d01-02a1-46e3-8b1c-04efb14132e0",
   "metadata": {},
   "outputs": [],
   "source": [
    "result = []\n",
    "n_pixs = []\n",
    "for buff_size in np.geomspace(1,1000,20):\n",
    "\n",
    "    relative_err = <<< cooooode >>>>\n",
    "    result.append(relative_err)\n",
    "    n_pixs.append(buff_size * buff_size)"
   ]
  },
  {
   "cell_type": "markdown",
   "id": "59ce592f-a855-4845-ae9a-01fd9011fa50",
   "metadata": {},
   "source": [
    "plot up that error as a function of number of pixels (using generical matplotlib). How's it do?"
   ]
  },
  {
   "cell_type": "code",
   "execution_count": null,
   "id": "51bed367-d1c5-4c37-9334-97d1b3ac6007",
   "metadata": {},
   "outputs": [],
   "source": [
    "plt.loglog(n_pixs, np.abs(result))"
   ]
  },
  {
   "cell_type": "markdown",
   "id": "3545fe0e-7027-4107-9217-a6eebad71eff",
   "metadata": {},
   "source": [
    "Ok -- **what about off-axis projections**? Let's do it again but for off-axis plots! \n",
    "\n",
    "Choose any normal vector you want, but make sure that your plot bounds capture the whole domain: for example, create a projection plot with a normal vector of (1,1,1) with default arguments:"
   ]
  },
  {
   "cell_type": "code",
   "execution_count": null,
   "id": "504e232a-44cd-469f-9761-566a4605942d",
   "metadata": {},
   "outputs": [],
   "source": [
    "<<< code >>>"
   ]
  },
  {
   "cell_type": "markdown",
   "id": "190373a9-c9ff-4809-9341-0fbec7a428eb",
   "metadata": {},
   "source": [
    "how do you think the on-screen mass would compare to the actual total mass? "
   ]
  },
  {
   "cell_type": "markdown",
   "id": "62364fca-f691-48b3-9274-1afeb73dd138",
   "metadata": {},
   "source": [
    "what `ProjectionPlot` argument can you change to capture the whole domain? How big do you need to make it when using a normal vector of (1,1,1)? "
   ]
  },
  {
   "cell_type": "code",
   "execution_count": null,
   "id": "456ace8e-82aa-4205-9d88-1212db17a5bc",
   "metadata": {},
   "outputs": [],
   "source": [
    "<<< more code >>"
   ]
  },
  {
   "cell_type": "markdown",
   "id": "2558fa67-f9be-4937-8d94-3a642d433867",
   "metadata": {},
   "source": [
    "Ok, now calculate and plot that error as a function of number of pixels again for the off-axis projection:"
   ]
  },
  {
   "cell_type": "code",
   "execution_count": null,
   "id": "d1a83510-1ced-4eb4-a8a6-edd25c6813ea",
   "metadata": {},
   "outputs": [],
   "source": [
    "off_ax_result = []\n",
    "off_ax_n_pixs = []\n",
    "for power_2 in range(5,13):\n",
    "    size_1d = int(2**power_2)   \n",
    "    off_ax_n_pixs.append(size_1d ** 2)    \n",
    "    result = <<< code >>>\n",
    "    off_ax_result.append(result)"
   ]
  },
  {
   "cell_type": "code",
   "execution_count": null,
   "id": "9677c266-f189-40d7-85c6-eb72b885fb1e",
   "metadata": {},
   "outputs": [],
   "source": [
    "plt.loglog(off_ax_n_pixs, np.abs(off_ax_result))"
   ]
  },
  {
   "cell_type": "markdown",
   "id": "73635f8a-ae05-481f-905c-1506306b001d",
   "metadata": {},
   "source": [
    "How's it compare to the axis-aligned case? Any ideas why you see what you observe?"
   ]
  },
  {
   "cell_type": "markdown",
   "id": "3fbae3f0-6fcc-4f65-80bf-e1c7b9068f40",
   "metadata": {},
   "source": [
    "## SPH-Based Datasets\n",
    "\n",
    "Ok, let's do it all again for an SPH dataset!\n",
    "\n",
    "Load one up (choose your own if you want!):"
   ]
  },
  {
   "cell_type": "code",
   "execution_count": null,
   "id": "43035d21-8cf1-4310-8951-abffddf5b51e",
   "metadata": {},
   "outputs": [],
   "source": [
    "ds = yt.load_sample(\"snapshot_033\")\n",
    "ad = ds.all_data()"
   ]
  },
  {
   "cell_type": "code",
   "execution_count": null,
   "id": "a17dcfd6-0b0c-4ecd-b989-eca49a1017c0",
   "metadata": {},
   "outputs": [],
   "source": []
  },
  {
   "cell_type": "markdown",
   "id": "d68940dc-6c14-409a-8054-c41c180ecfc7",
   "metadata": {},
   "source": [
    "Calculate the error for on- and off- axis projections again:"
   ]
  },
  {
   "cell_type": "code",
   "execution_count": null,
   "id": "3bc94576-79ed-49c2-b125-68a5c0003f25",
   "metadata": {},
   "outputs": [],
   "source": [
    "<<< coooode >>> \n",
    "\n",
    "n_pixs= []\n",
    "off_ax_result = []\n",
    "on_ax_result = []"
   ]
  },
  {
   "cell_type": "code",
   "execution_count": null,
   "id": "20ebf3c7-3da7-49c2-84d3-908a27864d72",
   "metadata": {},
   "outputs": [],
   "source": [
    "plt.semilogy(np.sqrt(n_pixs), np.abs(off_ax_result), label='off axis')\n",
    "plt.semilogy(np.sqrt(n_pixs), np.abs(on_ax_result), label='on axis')\n",
    "plt.legend()"
   ]
  },
  {
   "cell_type": "markdown",
   "id": "bdd64fa5-838f-4d79-9a4d-d20a5f1d003c",
   "metadata": {},
   "source": [
    "how does it compare to the grid-based method? any ideas why you see what you do? "
   ]
  },
  {
   "cell_type": "markdown",
   "id": "b9336d3c-8519-471f-b4b2-fa023c4feca4",
   "metadata": {},
   "source": [
    "## Further explorations\n",
    "\n",
    "* for off-axis projections, how does the error vary as a function of normal vector? Repeat the above analysis but adjust the normal vector systematically at a fixed buffer size. \n",
    "* does the type of grid-based dataset matter? The above example is Enzo.... what about a different gridded data type? (try one of the RAMSES sample datasets -- it's an octree-based grid)\n",
    "  "
   ]
  },
  {
   "cell_type": "code",
   "execution_count": null,
   "id": "ff134dc3-b5e0-4f4e-af26-22b9f65b885d",
   "metadata": {},
   "outputs": [],
   "source": []
  }
 ],
 "metadata": {
  "kernelspec": {
   "display_name": "Python 3 (ipykernel)",
   "language": "python",
   "name": "python3"
  },
  "language_info": {
   "codemirror_mode": {
    "name": "ipython",
    "version": 3
   },
   "file_extension": ".py",
   "mimetype": "text/x-python",
   "name": "python",
   "nbconvert_exporter": "python",
   "pygments_lexer": "ipython3",
   "version": "3.10.18"
  }
 },
 "nbformat": 4,
 "nbformat_minor": 5
}
