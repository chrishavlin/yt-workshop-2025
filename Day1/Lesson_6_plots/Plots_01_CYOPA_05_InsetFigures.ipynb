{
 "cells": [
  {
   "cell_type": "markdown",
   "id": "55fbaab3-0235-4dd2-8080-fb9020137fde",
   "metadata": {},
   "source": [
    "# Creating inset figures\n",
    "\n",
    "The goal of this exercise is to create an inset figure within an larger figure. It will require some manual handling of matplotlib axes handles that you access from yt objects. \n",
    "\n",
    "The solution notebook ends up with two figures, an astro figure with Enzo_64:\n",
    "\n",
    "![](solutions/figures/Plotting_02_02_InsetFigures_Enzo_64.png)\n",
    "\n",
    "and a figure for a seismic tomography model (which requires yt_xarray, cartopy, netcdf4, scipy)\n",
    "\n",
    "![](solutions/figures/Plotting_02_01_InsetFigures_map.png)\n"
   ]
  },
  {
   "cell_type": "code",
   "execution_count": null,
   "id": "0a29126c-0d0c-40ec-94f7-98486f4d5106",
   "metadata": {},
   "outputs": [],
   "source": []
  },
  {
   "cell_type": "markdown",
   "id": "11177f9c-5fdc-401b-8456-cf01008a4aec",
   "metadata": {},
   "source": [
    "\n"
   ]
  },
  {
   "cell_type": "code",
   "execution_count": 1,
   "id": "5453d085-a4d9-4099-8ff3-a6abe0c56f7e",
   "metadata": {},
   "outputs": [],
   "source": [
    "# general imports you should already have\n",
    "import matplotlib.pyplot as plt\n",
    "import numpy as np\n",
    "import yt"
   ]
  },
  {
   "cell_type": "markdown",
   "id": "52e4e311-e8ce-4472-97d0-9adc12e610ee",
   "metadata": {},
   "source": [
    "## A zoom-box inset with Enzo_64\n",
    "\n",
    "**The Goal**: Create an plot that includes a zoomed-out view of a projection plot within an inset figure."
   ]
  },
  {
   "cell_type": "code",
   "execution_count": 1,
   "id": "c86197ca-2264-4809-a568-294e8567e006",
   "metadata": {},
   "outputs": [
    {
     "name": "stderr",
     "output_type": "stream",
     "text": [
      "yt : [INFO     ] 2025-07-11 16:05:56,031 Sample dataset found in '/home/chavlin/hdd/data/yt_data/yt_sample_sets/Enzo_64/DD0043/data0043'\n",
      "yt : [INFO     ] 2025-07-11 16:05:56,286 Parameters: current_time              = 645.81707236914\n",
      "yt : [INFO     ] 2025-07-11 16:05:56,286 Parameters: domain_dimensions         = [64 64 64]\n",
      "yt : [INFO     ] 2025-07-11 16:05:56,287 Parameters: domain_left_edge          = [0. 0. 0.]\n",
      "yt : [INFO     ] 2025-07-11 16:05:56,288 Parameters: domain_right_edge         = [1. 1. 1.]\n",
      "yt : [INFO     ] 2025-07-11 16:05:56,288 Parameters: cosmological_simulation   = 1\n",
      "yt : [INFO     ] 2025-07-11 16:05:56,289 Parameters: current_redshift          = 0.0013930880640796\n",
      "yt : [INFO     ] 2025-07-11 16:05:56,289 Parameters: omega_lambda              = 0.7\n",
      "yt : [INFO     ] 2025-07-11 16:05:56,289 Parameters: omega_matter              = 0.3\n",
      "yt : [INFO     ] 2025-07-11 16:05:56,290 Parameters: omega_radiation           = 0.0\n",
      "yt : [INFO     ] 2025-07-11 16:05:56,290 Parameters: hubble_constant           = 0.71\n"
     ]
    }
   ],
   "source": [
    "import yt \n",
    "\n",
    "ds = yt.load_sample(\"Enzo_64\")"
   ]
  },
  {
   "cell_type": "markdown",
   "id": "8da3dfcf-1b0f-4489-99d0-e068ceb1606f",
   "metadata": {},
   "source": [
    "first, let's create a projection plot across the whole domain:"
   ]
  },
  {
   "cell_type": "code",
   "execution_count": null,
   "id": "eb486119-a473-41b2-878e-a8177067ac93",
   "metadata": {},
   "outputs": [],
   "source": [
    "p_whole_domain = << write code to project a field, e.g., ('gas', 'density') >>"
   ]
  },
  {
   "cell_type": "markdown",
   "id": "537db041-b33e-47eb-9d05-0fe8c70a3a0e",
   "metadata": {},
   "source": [
    "and say we want to check out the cluster of high density regions in the upper left in a bit more detail:"
   ]
  },
  {
   "cell_type": "code",
   "execution_count": null,
   "id": "cac367d2-a0b3-4758-8a27-7e67e29f8eb2",
   "metadata": {},
   "outputs": [],
   "source": [
    "c = ds.arr([100,30,135], 'Mpc')\n",
    "wid = ds.quan(40, 'Mpc')\n",
    "\n",
    "p_zoom =  << create another projection plot zoomed in on c with the above width. \n",
    "             use the same color scale as the previous plot >>"
   ]
  },
  {
   "cell_type": "markdown",
   "id": "229f0990-833a-4abf-b3bc-762c38a555e3",
   "metadata": {},
   "source": [
    "Now, the goal is to use `p_zoom` as our base image and add `p_whole_domain` within a new matplotlib axes that exists within the `p_zoom` figure. \n",
    "\n",
    "To do this, we'll need to access the underlying matplotlib objects stored in the yt plot containers.\n",
    "\n",
    "First, yt plot containers have dict-like access to the yt plot objects. To check the fields in a plot:\n"
   ]
  },
  {
   "cell_type": "code",
   "execution_count": 5,
   "id": "c1699a31-573c-48e3-8095-27c3e0cd602b",
   "metadata": {},
   "outputs": [
    {
     "data": {
      "text/plain": [
       "[('gas', 'density')]"
      ]
     },
     "execution_count": 5,
     "metadata": {},
     "output_type": "execute_result"
    }
   ],
   "source": [
    "p_zoom.fields"
   ]
  },
  {
   "cell_type": "markdown",
   "id": "aa3a7f0a-cab6-49d9-b8c7-c37ce9b6ca7d",
   "metadata": {},
   "source": [
    "and to access the underyling matplotlib figure and axes handles:"
   ]
  },
  {
   "cell_type": "code",
   "execution_count": 6,
   "id": "40b63338-65c0-4772-a378-88d8fc8682e1",
   "metadata": {},
   "outputs": [
    {
     "name": "stdout",
     "output_type": "stream",
     "text": [
      "<class 'matplotlib.figure.Figure'> <class 'matplotlib.axes._axes.Axes'>\n"
     ]
    }
   ],
   "source": [
    "mpl_fig = p_zoom[('gas', 'density')].figure\n",
    "mpl_ax = p_zoom[('gas', 'density')].axes\n",
    "print(type(mpl_fig), type(mpl_ax))"
   ]
  },
  {
   "cell_type": "markdown",
   "id": "ddd1acd2-425f-4da5-9540-f39b1e822600",
   "metadata": {},
   "source": [
    "having acces to the underlying matplotlib objects opens up the whole matplotlib API!\n",
    "\n",
    "In our case, we want to use the `figure.add_axes` function to add a new set of child axes, and then we want to re-assign the `p_whole_domain` to (1) use those axes and (2) use the figure for `p_zoom`:"
   ]
  },
  {
   "cell_type": "markdown",
   "id": "af066f1f-15e7-48d8-b7f4-5df6360b1b5a",
   "metadata": {},
   "source": []
  },
  {
   "cell_type": "code",
   "execution_count": null,
   "id": "0d32d582-094e-4166-a6bd-060a16c58369",
   "metadata": {},
   "outputs": [],
   "source": [
    "# first, hide the colorbar and axes for `p_whole_domain`:\n",
    "\n",
    "<< write code to hide the colorbar and axes, using methods off of p_whole_domain >>\n",
    "\n",
    "# now, add our new axes\n",
    "zoom_box_axes = << set the canvas position of the new axes (see figure.add_axes) >>\n",
    "ax2 = << write code to use add_axes from the underlying matplotlib figure to add a \n",
    "         set of axes to the p_zoom[('gas', 'density')] plot >>\n",
    "\n",
    "# over-ride p_whole_domain axes and figure for ('gas', 'density') to \n",
    "# point to the new axes and the figure for p_zoom ('gas', 'density')\n",
    "\n",
    "p_whole_domain.plots[('gas', 'density')].axes = ax2\n",
    "p_whole_domain.plots[('gas', 'density')].figure = p_zoom.plots[('gas', 'density')].figure\n",
    "\n",
    "# add an outline in the inset to indicate the zoom\n",
    "# using annotate_line to draw 4 lines to show the \n",
    "# bounding box of the zoom\n",
    "\n",
    "<< write code to use p_whole_domain.annotate_line to draw a box indicating where \n",
    "   the p_zoom plot limts are >> \n",
    "\n",
    "\n",
    "# sometimes you have to call render after these operations that update underlying matplotlib objects...\n",
    "p_whole_domain.render()  \n",
    "\n",
    "# always reset before the final show/render!!\n",
    "ax2.set_position(zoom_box_axes)\n",
    "p_zoom.show()"
   ]
  },
  {
   "cell_type": "code",
   "execution_count": null,
   "id": "b0a3d7e7-47c7-4dfd-ada5-c558fd08f509",
   "metadata": {},
   "outputs": [],
   "source": []
  },
  {
   "cell_type": "markdown",
   "id": "dc0f4117-3838-405b-9f5e-e2c5a70738a8",
   "metadata": {},
   "source": [
    "## And now for some mapping!\n",
    "\n",
    "### extra dependencies\n",
    "\n",
    "For this, you'll want some extra dependencies\n",
    "\n",
    "```\n",
    "python -m pip install cartopy \n",
    "python -m pip install yt_xarray \n",
    "python -m pip install netcdf4\n",
    "python -m pip install scipy\n",
    "```\n",
    "\n",
    "cartopy for map projections in yt figures and yt_xarray for streamlining the netcdf loading to get a yt dataset (yt_xarray will also install xarray for you). \n",
    "\n",
    "You'll also want some data!\n",
    "\n",
    "A seismic tomography model is available at https://girder.hub.yt/api/v1/item/68718512ed776d031cebfea2/download , you can use wget to fetch it with\n",
    "\n",
    "```\n",
    "$ wget https://yt2025data.hub.yt/geo/wUS-SH-2010_percent.nc\n",
    "```\n",
    "\n",
    "This is a seismic tomography model of the western US showing shear wave velocity anamolies: first order mapping is to temperature of the upper mantle with negative (slower than reference) values indicate higher temperatures and positive values (faster than reference) indicate lower temperatures. Some extreme slow values also require the presence of melt (i.e., magma). \n",
    "\n",
    "Data citation:\n",
    "\n",
    "* Schmandt, B. and E. Humphreys. 2010a. “Complex subduction and small-scale convection revealed by body-wave tomography of the western United States mantle.” Earth and Planetary Science Letters, 297, 435-445, https://doi.org/10.1016/j.epsl.2010.06.047.\n",
    "\n",
    "Distributed by SAGE/Earthscope at https://doi.org/10.17611/DP/9991760\n"
   ]
  },
  {
   "cell_type": "code",
   "execution_count": 9,
   "id": "140b565d-d442-4a1f-b890-19d4be276da9",
   "metadata": {},
   "outputs": [],
   "source": [
    "# imports for loading the seismic tomography model\n",
    "# not needed if you are working with a different \n",
    "# dataset\n",
    "import cartopy.feature as cfeature\n",
    "import cartopy.crs as ccrs\n",
    "import yt_xarray \n",
    "import xarray as xr"
   ]
  },
  {
   "cell_type": "code",
   "execution_count": null,
   "id": "b57aa111-323b-4641-aea4-2069ec3e8b0d",
   "metadata": {},
   "outputs": [],
   "source": []
  },
  {
   "cell_type": "code",
   "execution_count": null,
   "id": "c23fc268-2fee-4bcc-8cad-b5c4fce3891d",
   "metadata": {},
   "outputs": [],
   "source": []
  },
  {
   "cell_type": "markdown",
   "id": "fce8f166-1614-4887-a6cb-6eba34acfaf4",
   "metadata": {},
   "source": [
    "First, load the dataset:"
   ]
  },
  {
   "cell_type": "code",
   "execution_count": 10,
   "id": "9ea7b4cb-c7ec-4697-9509-01b139be6eed",
   "metadata": {},
   "outputs": [
    {
     "name": "stderr",
     "output_type": "stream",
     "text": [
      "yt_xarray : [INFO ] 2025-07-02 21:47:38,557:  Inferred geometry type is geodetic. To override, use ds.yt.set_geometry\n",
      "yt_xarray : [INFO ] 2025-07-02 21:47:38,557:  Attempting to detect if yt_xarray will require field interpolation:\n",
      "yt_xarray : [INFO ] 2025-07-02 21:47:38,557:      stretched grid detected: yt_xarray will interpolate.\n",
      "yt : [INFO     ] 2025-07-02 21:47:38,587 Parameters: current_time              = 0.0\n",
      "yt : [INFO     ] 2025-07-02 21:47:38,587 Parameters: domain_dimensions         = [ 18  92 121]\n",
      "yt : [INFO     ] 2025-07-02 21:47:38,587 Parameters: domain_left_edge          = [  60.     27.5  -125.75]\n",
      "yt : [INFO     ] 2025-07-02 21:47:38,587 Parameters: domain_right_edge         = [885.   50.5 -95.5]\n",
      "yt : [INFO     ] 2025-07-02 21:47:38,588 Parameters: cosmological_simulation   = 0\n"
     ]
    }
   ],
   "source": [
    "vs_file = \"wUS-SH-2010_percent.nc\" # or wherever your dataset ended up\n",
    "ds_xr = yt_xarray.open_dataset(vs_file)  # an xarray dataset\n",
    "ds_yt = ds_xr.yt.load_grid()  # a yt dataset"
   ]
  },
  {
   "cell_type": "markdown",
   "id": "9c39a6f9-d433-4c69-816c-313df04e387a",
   "metadata": {},
   "source": [
    "Now, let's check how to access underlying matplotlib handles. First, create a SlicePlot for example:"
   ]
  },
  {
   "cell_type": "code",
   "execution_count": null,
   "id": "388b969e-d189-4ca4-bfe9-074d6d735922",
   "metadata": {},
   "outputs": [],
   "source": [
    "c = ds_yt.domain_center.copy()\n",
    "c[0]=150\n",
    "\n",
    "p = << write code that:\n",
    "   creates a sliceplot of the \"dvs\" field normal to \"depth\"\n",
    "   with the above c value for the plot center >>\n",
    "\n",
    "# set a nice projection for this dataset                        \n",
    "p.set_mpl_projection(('Robinson', () , {'central_longitude':float(c[2].value), 'globe':None} ))\n",
    "\n",
    "\n",
    "<< optionally write code to:\n",
    "    * not take the log of dvs\n",
    "    * adjust the colormap limits to be +/-8 (these are percent seismic shear wave speed anomalies)\n",
    "    * choose a different colormap (just dont use seismic)\n",
    ">>\n",
    "\n",
    "p.show()"
   ]
  },
  {
   "cell_type": "markdown",
   "id": "e4494ca3-929c-4fec-8ae8-0a5af00fac70",
   "metadata": {},
   "source": [
    "Now, the `fields` attributes will be a list of fields that are in the plot container (we have just one in this case):"
   ]
  },
  {
   "cell_type": "code",
   "execution_count": null,
   "id": "e0df0492-8621-4a1e-8eee-20ee64d63241",
   "metadata": {},
   "outputs": [],
   "source": [
    "p.fields"
   ]
  },
  {
   "cell_type": "markdown",
   "id": "16906b92-4d27-4967-9d1d-be0063fb300c",
   "metadata": {},
   "source": [
    "Chec out the type of axes you have this time:"
   ]
  },
  {
   "cell_type": "markdown",
   "id": "7c031214-0bd3-4abe-b92b-88056eeab976",
   "metadata": {},
   "source": [
    "For geographic plots in yt, using cartopy functionality typically requires accessing these attributes. For example, to to add reference shapefile outlines from NaturalEarth:"
   ]
  },
  {
   "cell_type": "code",
   "execution_count": null,
   "id": "fce3873a-0daf-4f44-b6d5-7665907cc02c",
   "metadata": {},
   "outputs": [],
   "source": [
    "\n",
    "<< write code to access the underlying axes>>.add_feature(cfeature.NaturalEarthFeature(\n",
    "        'cultural', 'admin_1_states_provinces_lines', '10m',\n",
    "        edgecolor='gray', facecolor='none'))\n",
    "<< write code to access the underlying axes>>.add_feature(cfeature.NaturalEarthFeature(\n",
    "            'cultural', 'admin_0_countries', '10m',\n",
    "            edgecolor='black', facecolor='none')) \n",
    "\n",
    "p.show()"
   ]
  },
  {
   "cell_type": "markdown",
   "id": "f6c4d954-ce0a-48ce-8541-3783332bd9a2",
   "metadata": {},
   "source": [
    "and then adjust extents (to zoom in on the yellowstone hotspot track):"
   ]
  },
  {
   "cell_type": "code",
   "execution_count": null,
   "id": "63f6e82a-c98f-4fca-9ba0-a329184cf526",
   "metadata": {},
   "outputs": [],
   "source": [
    "<< write code to access the underlying axes>>.set_extent((-119, -104, 40, 48))\n",
    "p.show()"
   ]
  },
  {
   "cell_type": "markdown",
   "id": "98b1eb9b-2446-4491-b7f9-b890620b2421",
   "metadata": {},
   "source": [
    "Now we're ready to create our full figure"
   ]
  },
  {
   "cell_type": "code",
   "execution_count": null,
   "id": "de51cfe1-5bf6-4ba4-8db6-a8fe323fd335",
   "metadata": {},
   "outputs": [],
   "source": [
    "c = ds_yt.domain_center.copy()\n",
    "c[0] = 150.\n",
    "\n",
    "zoom_extents = (-119, -104, 40, 48)\n",
    "\n",
    "def get_slice():\n",
    "    # get the base slice for both plots\n",
    "    p = yt.SlicePlot(ds_yt, \"depth\", 'dvs',center=c)\n",
    "    p.set_mpl_projection(('Robinson', () , {'central_longitude':float(c[2].value), 'globe':None} ))\n",
    "    p.set_log('dvs',False)\n",
    "    p.set_zlim('dvs',-8, 8)\n",
    "    p.set_cmap('dvs','PuOr')\n",
    "    return p\n",
    "\n",
    "\n",
    "def add_features(carto_ax):\n",
    "    # add NaturalEarthFeature objects to a cartopy axis\n",
    "    carto_ax.add_feature(cfeature.NaturalEarthFeature(\n",
    "        'cultural', 'admin_1_states_provinces_lines', '10m',\n",
    "        edgecolor='gray', facecolor='none'))\n",
    "    carto_ax.add_feature(cfeature.NaturalEarthFeature(\n",
    "            'cultural', 'admin_0_countries', '10m',\n",
    "            edgecolor='black', facecolor='none'))    \n",
    "     \n",
    "# initialize our slice plot to the zoomed-in view\n",
    "p = get_slice()\n",
    "p.set_colorbar_label('dvs',\"$\\Delta\\mathrm{V_s}$ (%)\")\n",
    "p.render()\n",
    "\n",
    "# set the cartopy axes extents via set_extent on the \n",
    "# underlying cartopy GeoAxes\n",
    "\n",
    "<< write code to set_extent on the underlying cartopy GeoAxes using zoom_extents from above >>\n",
    "\n",
    "# add in our features\n",
    "add_features(<< pull out the underlying GeoAxes for the figure >>)\n",
    "\n",
    "\n",
    "# add a small child axis with the same projection\n",
    "# (use add_axes as for the astro example but \n",
    "# pass it the projection keyword)\n",
    "locator_box = [0.05, 0.65, 0.3, 0.3]\n",
    "proj = << write code to access the projection attribute of the underlying GeoAxes for the figure >>\n",
    "ax2 = << to add_axes to the underlying figure: remember for GeoAxes, add_axes also requires a projection \n",
    "         keyword argument >>\n",
    "\n",
    "# get a new slice, covering the whole domain and adjust the axes and \n",
    "# figure references the child axis and existing figure\n",
    "p2 = get_slice()\n",
    "<< update the p2 plot axes to the new axes, and point the figure to the initial figure p >>\n",
    "\n",
    "# hide colorbar for inset figure\n",
    "p2.hide_colorbar()\n",
    "\n",
    "# makes ure p2 has re-rendered before adding annotations on top \n",
    "p2.render()\n",
    "\n",
    "# add our features \n",
    "add_features(ax2)\n",
    "\n",
    "# manually plot a box to indicate zoom extent\n",
    "\n",
    "<< write code to call the .plot() method on the underlying geoaxes to plot an indicator \n",
    "   box showing the zoom extents. remember geoaxes require a transform argument that \n",
    "   represents the projection the underlying data is defined in: use transform=ccrs.PlateCarree() >>\n",
    "\n",
    "# the child axes position gets reset somewhere, so set it again here\n",
    "ax2.set_position(locator_box) \n",
    "\n",
    "p.show()"
   ]
  },
  {
   "cell_type": "markdown",
   "id": "a03bc34c-7c1b-4c48-9708-fca959b4d992",
   "metadata": {},
   "source": [
    "## Extra credit \n",
    "\n",
    "Make it to the end? Need more plotting? \n",
    "\n",
    "Try to recreate the slice plot and line plots from the `Plots_01_CYOPA_02_Callbacks` notebook, but put the density and temperature line plots on a single extra axes overlaid on the off axis slice. "
   ]
  },
  {
   "cell_type": "code",
   "execution_count": null,
   "id": "68fc300e-199d-43dc-8393-c8d79eeb4b0e",
   "metadata": {},
   "outputs": [],
   "source": []
  }
 ],
 "metadata": {
  "kernelspec": {
   "display_name": "Python 3 (ipykernel)",
   "language": "python",
   "name": "python3"
  },
  "language_info": {
   "codemirror_mode": {
    "name": "ipython",
    "version": 3
   },
   "file_extension": ".py",
   "mimetype": "text/x-python",
   "name": "python",
   "nbconvert_exporter": "python",
   "pygments_lexer": "ipython3",
   "version": "3.10.18"
  }
 },
 "nbformat": 4,
 "nbformat_minor": 5
}
