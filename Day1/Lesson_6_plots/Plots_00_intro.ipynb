{
 "cells": [
  {
   "cell_type": "markdown",
   "id": "496c1ed4-950e-41c8-b91e-6273bdc7ede1",
   "metadata": {},
   "source": [
    "# Plotting \n",
    "\n",
    "**Outline**:\n",
    "\n",
    "1. Quick overview of plotting with yt\n",
    "2. Choose your own plotting adventure...\n",
    "\n",
    "\n",
    "## Plotting with yt \n",
    "\n",
    "![](solutions/figures/Plotting_02_02_InsetFigures_Enzo_64.png)\n",
    "\n",
    "Relevant docs links for more info\n",
    "\n",
    "* https://yt-project.org/doc/visualizing/plots.html\n",
    "\n",
    "## Plot types in yt\n",
    "\n",
    "* Spatial Plots: reductions in data dimensionality\n",
    "    * `yt.SlicePlot`: slice \n",
    "    * `yt.ProjectionPlot`: sample along rays\n",
    "    * `yt.LinePlot`: sample along a single ray\n",
    "\n",
    "Spatial plots can be axis-aligned or oriented normal to an abitray plane (off-axis). \n",
    "\n",
    "* Plots of statistical distributions\n",
    "    * `yt.ProfilePlot`: 1d binned statistics\n",
    "    * `yt.PhasePlot`: 2d binned statistics\n",
    "\n",
    "* Volume rendering (more tomorrow...)"
   ]
  },
  {
   "cell_type": "code",
   "execution_count": null,
   "id": "544f8c62-6b73-4aaa-982e-1e24fd45471b",
   "metadata": {},
   "outputs": [],
   "source": []
  }
 ],
 "metadata": {
  "kernelspec": {
   "display_name": "Python 3 (ipykernel)",
   "language": "python",
   "name": "python3"
  },
  "language_info": {
   "codemirror_mode": {
    "name": "ipython",
    "version": 3
   },
   "file_extension": ".py",
   "mimetype": "text/x-python",
   "name": "python",
   "nbconvert_exporter": "python",
   "pygments_lexer": "ipython3",
   "version": "3.10.12"
  }
 },
 "nbformat": 4,
 "nbformat_minor": 5
}
