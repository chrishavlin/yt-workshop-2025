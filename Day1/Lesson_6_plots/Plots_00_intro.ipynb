{
 "cells": [
  {
   "cell_type": "markdown",
   "id": "496c1ed4-950e-41c8-b91e-6273bdc7ede1",
   "metadata": {},
   "source": [
    "# Plotting \n",
    "\n",
    "**Outline**:\n",
    "\n",
    "1. Quick overview of plotting with yt\n",
    "2. Choose your own plotting adventure...\n",
    "\n",
    "\n",
    "## Plotting with yt \n",
    "\n",
    "### Spatial Plots\n",
    "\n",
    "Slices, projections, particle plots \n",
    "\n",
    "### Non-Spatial Plots\n",
    "\n",
    "Profile, phase plots\n",
    "\n",
    "### Plot modifications\n",
    "\n",
    "Plot configuration callbacks: axes limits, colormaps, etc.\n",
    "\n",
    "Plot annotations and other callbacks: \n",
    "grid/cell outlines, swapping axes, some plot annotations\n",
    "\n"
   ]
  },
  {
   "cell_type": "code",
   "execution_count": null,
   "id": "62b41652-a2e9-4d4c-a205-ae7b2c768e7e",
   "metadata": {},
   "outputs": [],
   "source": []
  }
 ],
 "metadata": {
  "kernelspec": {
   "display_name": "Python 3 (ipykernel)",
   "language": "python",
   "name": "python3"
  },
  "language_info": {
   "codemirror_mode": {
    "name": "ipython",
    "version": 3
   },
   "file_extension": ".py",
   "mimetype": "text/x-python",
   "name": "python",
   "nbconvert_exporter": "python",
   "pygments_lexer": "ipython3",
   "version": "3.10.12"
  }
 },
 "nbformat": 4,
 "nbformat_minor": 5
}
