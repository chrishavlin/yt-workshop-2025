{
 "cells": [
  {
   "cell_type": "markdown",
   "id": "496c1ed4-950e-41c8-b91e-6273bdc7ede1",
   "metadata": {},
   "source": [
    "# Plotting \n",
    "\n",
    "**Outline**:\n",
    "\n",
    "1. Quick overview of plotting with yt\n",
    "2. Choose your own plotting adventure...\n",
    "\n",
    "## Plot types in yt\n",
    "\n",
    "### Spatial Plots: reductions in data spatial dimensionality\n",
    "\n",
    "![](solutions/figures/intro_figure_00_01_concatenated.png)\n",
    "\n",
    "\n",
    "2D Spatial plots can be **axis-aligned** or **off-axis** (oriented with an arbitrary plane)\n",
    "\n",
    "### Spatial Plots for Particles\n",
    "\n",
    "![](solutions/figures/intro_figure_00_04_concatenated.png)\n",
    "\n",
    "(SPH off axis support in yt 4.4.0!)\n",
    "\n",
    "### Plots of statistical distributions\n",
    "\n",
    "1D & 2D binned statistics with weighting: \n",
    "\n",
    "![](solutions/figures/intro_figure_00_02_concatenated.png)\n",
    "\n",
    "\n",
    "### Volume rendering (more tomorrow...)\n",
    "\n",
    "![](solutions/figures/intro_figure_00_03_concatenated.png)\n"
   ]
  },
  {
   "cell_type": "markdown",
   "id": "681c1313-dd44-43e1-b265-5729f1d96f3c",
   "metadata": {},
   "source": [
    "## General Usage for Plotting API:\n",
    "\n",
    "1. generate a plot object with some initital settings\n",
    "2. optionally use plot **callbacks** to modify that plot\n",
    "3. call method to display or save \n",
    "\n",
    "Two types of callbacks: \n",
    "\n",
    "* plot \"adjustments\" that modify existing plot attributes, method names start with `set_*`\n",
    "* plot annotations that add new data, method names start with `annotate_*`\n"
   ]
  },
  {
   "cell_type": "code",
   "execution_count": null,
   "id": "47d37e1a-1e3f-40ab-a720-c3997afd60fa",
   "metadata": {},
   "outputs": [],
   "source": [
    "import yt \n",
    "ds = yt.load_sample(\"IsolatedGalaxy\")\n",
    "\n",
    "slc = yt.SlicePlot(ds, 'x', ('gas', 'density'), width=(0.5, 'Mpc')) # create a plot\n",
    "\n",
    "# some plot adjustments\n",
    "slc.set_cmap(('gas', 'density'), 'kelp_r')\n",
    "slc.set_axes_unit('nm')\n",
    "\n",
    "# some annotations\n",
    "slc.annotate_grids()\n",
    "slc.annotate_velocity(normalize=True)\n",
    "\n",
    "# display the result (don't really have to do this in the notebook cell...)\n",
    "slc.show()"
   ]
  },
  {
   "cell_type": "markdown",
   "id": "e27ae85a-a7de-480a-9c93-bdc25115ac3b",
   "metadata": {},
   "source": [
    "## Quick examples of plot types"
   ]
  },
  {
   "cell_type": "code",
   "execution_count": null,
   "id": "ed85529b-7e62-46f8-b9dd-c09f3562574f",
   "metadata": {},
   "outputs": [],
   "source": [
    "slc = yt.SlicePlot(ds, \n",
    "                   'z', \n",
    "                   ('gas', 'density'), \n",
    "                   width=(0.5, 'Mpc'))\n",
    "slc.set_figure_size(3)\n",
    "slc.annotate_title('axis-aligned SlicePlot')\n",
    "slc"
   ]
  },
  {
   "cell_type": "code",
   "execution_count": null,
   "id": "ef3d239f-6cab-4d3f-97df-27f79cc05896",
   "metadata": {},
   "outputs": [],
   "source": [
    "slc = yt.SlicePlot(ds, \n",
    "                   (1., 1., 1.), \n",
    "                   ('gas', 'density'), \n",
    "                   width=(0.5, 'Mpc'))\n",
    "slc.set_figure_size(3)\n",
    "slc.annotate_title('off-axis SlicePlot')\n",
    "slc"
   ]
  },
  {
   "cell_type": "code",
   "execution_count": null,
   "id": "fcdb0a4a-72d3-4a4b-8e2a-572bbf11f8db",
   "metadata": {},
   "outputs": [],
   "source": [
    "prj = yt.ProjectionPlot(ds, 'z', \n",
    "                        ('gas', 'density'), \n",
    "                        width=(0.5, 'Mpc'))\n",
    "prj.set_figure_size(3)\n",
    "prj.annotate_title('axis-aligned ProjectionPlot')"
   ]
  },
  {
   "cell_type": "code",
   "execution_count": null,
   "id": "9fd7f39f-d8aa-40d8-8309-390e233f8745",
   "metadata": {},
   "outputs": [],
   "source": [
    "prj = yt.ProjectionPlot(ds, \n",
    "                        (1., 1., 1.), \n",
    "                        ('gas', 'density'), \n",
    "                        width=(0.5, 'Mpc'))\n",
    "prj.set_figure_size(3)\n",
    "prj.annotate_title('off-axis ProjectionPlot')"
   ]
  },
  {
   "cell_type": "markdown",
   "id": "3013443f-9e5a-451d-aa7a-9b9993dc685d",
   "metadata": {},
   "source": [
    "Same for SPH data!"
   ]
  },
  {
   "cell_type": "code",
   "execution_count": null,
   "id": "a13d2f5f-3bbb-4459-b729-ff1d83ad0e57",
   "metadata": {},
   "outputs": [],
   "source": [
    "ln = yt.LinePlot(ds, \n",
    "                 [('gas', 'density'),], \n",
    "                 ds.domain_left_edge, \n",
    "                 ds.domain_right_edge, \n",
    "                 npoints=1000, \n",
    "                 figure_size=(3,3))\n",
    "ln.annotate_title(('gas', 'density'), 'LinePlot')\n",
    "ln"
   ]
  },
  {
   "cell_type": "code",
   "execution_count": null,
   "id": "47ec72cc-54b0-46f8-96a0-b1ae8258cac3",
   "metadata": {},
   "outputs": [],
   "source": [
    "pp = yt.ProfilePlot(ds.all_data(), (\"gas\", \"temperature\"), (\"gas\", \"density\"), weight_field=None)\n",
    "pp.annotate_title('ProfilePlot')\n",
    "pp"
   ]
  },
  {
   "cell_type": "code",
   "execution_count": null,
   "id": "fc7735dd-214b-4741-8fcc-e535820f8993",
   "metadata": {},
   "outputs": [],
   "source": [
    "pp = yt.PhasePlot(\n",
    "    ds.all_data(), (\"gas\", \"density\"), (\"gas\", \"temperature\"), [(\"gas\", \"mass\")], weight_field=None\n",
    ")\n",
    "pp.annotate_title('PhasePlot')\n",
    "pp"
   ]
  },
  {
   "cell_type": "markdown",
   "id": "145163a6-3b1e-4e5c-b90b-94984d2af0da",
   "metadata": {},
   "source": [
    "quick aside: \n",
    "\n",
    "### **but I just want a histogram!**\n",
    "\n",
    "First: are you suuuuuure?"
   ]
  },
  {
   "cell_type": "code",
   "execution_count": null,
   "id": "de4cc74b-529c-482f-929b-f30bd070dbfc",
   "metadata": {},
   "outputs": [],
   "source": [
    "ds = yt.load_sample('enzo_tiny_cosmology')\n",
    "slc = yt.SlicePlot(ds, 'z', ('gas', 'density'))\n",
    "slc.annotate_cell_edges()  # a callback annotation!\n",
    "slc"
   ]
  },
  {
   "cell_type": "code",
   "execution_count": null,
   "id": "12a35c9a-4314-43f2-90f2-38c6cce0a250",
   "metadata": {},
   "outputs": [],
   "source": [
    "p = yt.ProjectionPlot(ds, 'z', ('index', 'ones'), method='sum')\n",
    "p.set_colorbar_label(('index', 'ones'), 'number of grid cells')\n",
    "p"
   ]
  },
  {
   "cell_type": "markdown",
   "id": "e227cfb0-f056-43a5-be6b-5b990b09fbef",
   "metadata": {},
   "source": [
    "\n",
    "**with variable-resolution data, raw histograms will reflect grid structure!**\n",
    "\n",
    "SO if you're **still** sure you want a raw histogram that just counts occurrences (maybe you have uniformly gridded data, or you're doing some debugging), you can do that with:"
   ]
  },
  {
   "cell_type": "code",
   "execution_count": null,
   "id": "fbdace62-0504-4f4d-89ae-1edb1e5e875a",
   "metadata": {},
   "outputs": [],
   "source": [
    "pp = yt.PhasePlot(\n",
    "    ds.all_data(), \n",
    "    (\"gas\", \"density\"), \n",
    "    (\"gas\", \"temperature\"), \n",
    "    [(\"index\", \"ones\")], \n",
    "    weight_field=None,     \n",
    ")\n",
    "pp"
   ]
  },
  {
   "cell_type": "code",
   "execution_count": null,
   "id": "4b3e77c4-d595-438f-a63b-22bae16055f7",
   "metadata": {},
   "outputs": [],
   "source": []
  },
  {
   "cell_type": "markdown",
   "id": "c5ef4996-7380-46f0-a609-f6917c0ee340",
   "metadata": {},
   "source": [
    "## Some limitations\n",
    "\n",
    "Not all plot types and annotations support all datasets and geometries:\n",
    "\n",
    "**non-cartesian** coordinates: \n",
    "\n",
    "* For spatial plots, axis-aligned slicing only\n",
    "* No volume rendering (will come back to this tomorrow)\n",
    "\n",
    "Datasets that are not grid-based:\n",
    "\n",
    "* SPH Data: Volume rendering API not supported, good support for slicing and projections though!\n",
    "* Unstructured grids: Slicing only\n",
    "\n",
    "Some plot annotations require certain fields (`annotate_magnetic_field`) or data types (`annotate_mesh_lines` for unstructured grids only)"
   ]
  },
  {
   "cell_type": "code",
   "execution_count": null,
   "id": "c7848cb1-e15a-46fa-9f76-eefb518a60ca",
   "metadata": {},
   "outputs": [],
   "source": []
  }
 ],
 "metadata": {
  "kernelspec": {
   "display_name": "Python 3 (ipykernel)",
   "language": "python",
   "name": "python3"
  },
  "language_info": {
   "codemirror_mode": {
    "name": "ipython",
    "version": 3
   },
   "file_extension": ".py",
   "mimetype": "text/x-python",
   "name": "python",
   "nbconvert_exporter": "python",
   "pygments_lexer": "ipython3",
   "version": "3.10.18"
  }
 },
 "nbformat": 4,
 "nbformat_minor": 5
}
