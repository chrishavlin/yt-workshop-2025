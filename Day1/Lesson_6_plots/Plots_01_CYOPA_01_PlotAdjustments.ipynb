{
 "cells": [
  {
   "cell_type": "markdown",
   "id": "f1d88d8e-192d-462f-a81b-d9aca0afb728",
   "metadata": {},
   "source": [
    "# Basic Plot Adjustements: Making plots look the way you want \n",
    "\n",
    "yt already does a lot to give you a publication-ready figure, but sometimes you have to make some adjustments to the default figures. This notebook will walk you through some common changes you may need to make. \n",
    "\n",
    "This is mostly a re-hash of the yt plotting docs (https://yt-project.org/doc/visualizing/plots.html), but highlights some things that I've noticed come up a lot for folks new to yt."
   ]
  },
  {
   "cell_type": "markdown",
   "id": "d466faf7-c7e7-4ec4-bc66-a4a052e480b8",
   "metadata": {},
   "source": [
    "first, load a dataset (feel free to replace with any dataset you like, but some of the operations in this notebook will be more obvious for datasets with more asymmetries)"
   ]
  },
  {
   "cell_type": "code",
   "execution_count": null,
   "id": "e40ba512-6e9d-4441-9881-b5ddea6e872d",
   "metadata": {},
   "outputs": [],
   "source": [
    "import yt \n",
    "\n",
    "# ds = yt.load_sample(\"Enzo_64\")\n",
    "# or \n",
    "ds = yt.load(\"Enzo_64/DD0043/data0043\")"
   ]
  },
  {
   "cell_type": "code",
   "execution_count": null,
   "id": "00459958-1545-4885-bdd5-558c5ea04b27",
   "metadata": {},
   "outputs": [],
   "source": []
  },
  {
   "cell_type": "markdown",
   "id": "b55ce2b5-29fe-4d46-8fed-6762132ec789",
   "metadata": {},
   "source": [
    "## Controlling axes ranges with the `origin` keyword\n",
    "\n",
    "Goal: get some practice with the `origin` keyword. \n",
    "\n",
    "First, create a Slice or Projection plot with defaults:"
   ]
  },
  {
   "cell_type": "code",
   "execution_count": null,
   "id": "4b7a179f-b18e-4cd7-8455-6a2a544f3681",
   "metadata": {},
   "outputs": [],
   "source": [
    "# create a Slice or Projection plot with defaults\n",
    "yt.SlicePlot(ds, 'x', ('gas', 'density'))"
   ]
  },
  {
   "cell_type": "markdown",
   "id": "f482b27a-b509-40b0-bbbc-9700bf5af6ab",
   "metadata": {},
   "source": [
    "compare the axes' ranges on the plot to dataset domain limits (if you used Enzo_64, the numbers will differ):"
   ]
  },
  {
   "cell_type": "code",
   "execution_count": null,
   "id": "6a2c6b8d-6074-4112-8509-b9a5e87b2347",
   "metadata": {},
   "outputs": [],
   "source": [
    "ds.domain_left_edge.to('Mpc'), ds.domain_right_edge.to('Mpc')"
   ]
  },
  {
   "cell_type": "markdown",
   "id": "abf780cf-0fd4-4c73-b326-9cf66c4710d8",
   "metadata": {},
   "source": [
    "now, use the `origin` keyword argument to make the axes' ranges match \n",
    "the domain limits (check the docstring for options for the origin\n",
    "keyword)"
   ]
  },
  {
   "cell_type": "code",
   "execution_count": null,
   "id": "2745be02-0603-46db-a600-f0e6811614ee",
   "metadata": {},
   "outputs": [],
   "source": [
    "<<< create a new SlicePlot >>>"
   ]
  },
  {
   "cell_type": "markdown",
   "id": "264f141d-355e-4eff-9870-69e3cd693033",
   "metadata": {},
   "source": [
    "finally, use the origin keyword argument to have (0, 0) in the upper right hand corner of the plot:"
   ]
  },
  {
   "cell_type": "code",
   "execution_count": null,
   "id": "5d80190b-c084-4b61-8452-6a3710a818b1",
   "metadata": {},
   "outputs": [],
   "source": [
    "<<< create a new SlicePlot >>>"
   ]
  },
  {
   "cell_type": "markdown",
   "id": "e878764b-0fa9-4a94-ad46-b2462b42155b",
   "metadata": {},
   "source": [
    "## Some other modifications\n",
    "\n",
    "Some quick answers to common problems. \n",
    "\n",
    "### arg, I just want to switch the x and y axes... \n",
    "\n",
    "try the `.swap_axes()` callback. (easier to see in datasets or fields with more asymmetry)"
   ]
  },
  {
   "cell_type": "code",
   "execution_count": null,
   "id": "cf406b66-145e-4c93-891a-5f4d6c73f1b4",
   "metadata": {},
   "outputs": [],
   "source": []
  },
  {
   "cell_type": "code",
   "execution_count": null,
   "id": "564b864c-0478-40c7-8ae7-4b3bbff3f715",
   "metadata": {},
   "outputs": [],
   "source": [
    "<<< write code to swap axes on a plot >>>"
   ]
  },
  {
   "cell_type": "markdown",
   "id": "3837fc03-8547-4d49-af9d-640f11038b6e",
   "metadata": {},
   "source": [
    "### wait, I actually want the mirror image \n",
    "\n",
    "`.flip_horizontal()` or `.flip_vertical()`!\n",
    "\n",
    "Try it out:"
   ]
  },
  {
   "cell_type": "code",
   "execution_count": null,
   "id": "4911a2cb-4868-4ea0-a464-02d5d50d01c6",
   "metadata": {},
   "outputs": [],
   "source": [
    "<<< write more code >>>"
   ]
  },
  {
   "cell_type": "markdown",
   "id": "e9692d36-6571-4a94-b88e-d817fbb25616",
   "metadata": {},
   "source": [
    "## flip and swap? \n",
    "\n",
    "Does it work? Give it a try (does the order matter?)"
   ]
  },
  {
   "cell_type": "code",
   "execution_count": null,
   "id": "90b2bab0-8d3f-48c8-9b12-8f53e5e63426",
   "metadata": {},
   "outputs": [],
   "source": [
    "<<< flip then swap >>>"
   ]
  },
  {
   "cell_type": "code",
   "execution_count": null,
   "id": "c4d7346b-ae51-410d-930b-db4a5e5cfe2a",
   "metadata": {},
   "outputs": [],
   "source": [
    "<<< swap then flip >>>"
   ]
  },
  {
   "cell_type": "markdown",
   "id": "69989669-c252-4191-91b4-f7b2a7a0237e",
   "metadata": {},
   "source": [
    "### units, font sizes, plot sizes and more\n",
    "\n",
    "There's a ton more modifications... it can be overwhelming. \n",
    "\n",
    "For example, create a slice (or other plot)"
   ]
  },
  {
   "cell_type": "code",
   "execution_count": null,
   "id": "50bfe614-17ec-4d68-952e-d3e3ca0bee14",
   "metadata": {},
   "outputs": [],
   "source": [
    "slc = yt.SlicePlot(ds, 'z', ('gas', 'density'))"
   ]
  },
  {
   "cell_type": "markdown",
   "id": "ed64ac15-f59d-4b0b-bea1-65ea970eadaa",
   "metadata": {},
   "source": [
    "start typing `slc.set` and hit tab to see a bunch of options:"
   ]
  },
  {
   "cell_type": "code",
   "execution_count": null,
   "id": "19cdd03f-1a9b-4514-b003-3aab46e08f29",
   "metadata": {},
   "outputs": [],
   "source": []
  },
  {
   "cell_type": "markdown",
   "id": "6c91c062-085c-493c-ae40-e27ce6d84fe7",
   "metadata": {},
   "source": [
    "There's lots to explore there, but let's point out some particularly useful ones.\n",
    "\n",
    "Change the units displayed on the x and y axes to nanometers with `.set_axes_unit`:"
   ]
  },
  {
   "cell_type": "code",
   "execution_count": null,
   "id": "20ae9d82-469b-451a-be09-e51b2bf3e6ae",
   "metadata": {},
   "outputs": [],
   "source": [
    "<<< code code code >>>"
   ]
  },
  {
   "cell_type": "markdown",
   "id": "15a9d431-b28e-4a64-8c09-872854c2ef54",
   "metadata": {},
   "source": [
    "how about the color map units? change those to micrgrams per megameter$^3$ (that's a nice density unit) with `.set_unit`:"
   ]
  },
  {
   "cell_type": "code",
   "execution_count": null,
   "id": "05b7a089-1923-4928-bfc7-c66d1f1fb336",
   "metadata": {},
   "outputs": [],
   "source": [
    "<<< code? code! >>>"
   ]
  },
  {
   "cell_type": "markdown",
   "id": "59863461-0679-4e26-ac37-6fb565d59dcb",
   "metadata": {},
   "source": [
    "how bout font? Use `.set_font` to supply a dictionary the font dictionary, `{\"weight\": \"bold\", \"size\": 24}`:"
   ]
  },
  {
   "cell_type": "code",
   "execution_count": null,
   "id": "b83e9afb-0152-4e79-9479-dcd2dc8f6176",
   "metadata": {},
   "outputs": [],
   "source": [
    "<<< cod >>>"
   ]
  },
  {
   "cell_type": "markdown",
   "id": "9fffeabe-e2d2-4561-bf24-5de3b2c2c933",
   "metadata": {},
   "source": [
    "bored of the default colormap? select a different colormap with `set_cmap`, maybe pick one from cmyt https://github.com/yt-project/cmyt  (included in yt by default): the above plot looks pretty neat with `cmyt.pastel_r`: "
   ]
  },
  {
   "cell_type": "code",
   "execution_count": null,
   "id": "c3fd2598-daf0-45b9-85af-8c6560de09e3",
   "metadata": {},
   "outputs": [],
   "source": [
    "<<< codecodecode >>>"
   ]
  },
  {
   "cell_type": "markdown",
   "id": "f070aca8-9896-40d4-907b-e769aef0f1b8",
   "metadata": {},
   "source": [
    "and now adjust the colormap range with `set_zlim` (pick your own limits):"
   ]
  },
  {
   "cell_type": "code",
   "execution_count": null,
   "id": "b276f610-1c64-4786-8ef0-510d14d098a9",
   "metadata": {},
   "outputs": [],
   "source": [
    "<<< CODE CODE code >>>"
   ]
  },
  {
   "cell_type": "markdown",
   "id": "a864838e-a011-44df-8b3a-149492677bae",
   "metadata": {},
   "source": [
    "You can do a lot more with color mapping/normalization! Check the full docs at https://yt-project.org/doc/visualizing/plots.html#colorbar-normalization-scaling for more, including symlogs and two-slope norms! \n",
    "\n",
    "finally, once you have a plot you're happy with and you're ready to save, you might find you need it to be scaled up/down (especially for publications and presentations). Use `.set_figure_size` to adjust the figure size and `.save` to save it to disk:"
   ]
  },
  {
   "cell_type": "code",
   "execution_count": null,
   "id": "59777ea5-5be3-40d8-bcfd-43c573f5b637",
   "metadata": {},
   "outputs": [],
   "source": [
    "<<< coooode >>>"
   ]
  },
  {
   "cell_type": "markdown",
   "id": "d229afee-826b-4ea9-a2f7-b6e89cef5235",
   "metadata": {},
   "source": [
    "But wait, our plot needs a title! Unlike all the modifications thus far, a title adds new information rather than adjusting existing attributes, and so it falls under the callback annotation category and is available as `.annotate_title`: "
   ]
  },
  {
   "cell_type": "code",
   "execution_count": null,
   "id": "a1071854-61dd-46b8-a8af-8ca2c24c17f6",
   "metadata": {},
   "outputs": [],
   "source": [
    "<<< code >>>"
   ]
  },
  {
   "cell_type": "markdown",
   "id": "f67473f7-33b6-4ec6-b19f-e2febb7a6fb5",
   "metadata": {},
   "source": [
    "The next notebook will go into more about callbacks."
   ]
  },
  {
   "cell_type": "code",
   "execution_count": null,
   "id": "d53d1306-8468-4aac-91ec-67b0e14bd759",
   "metadata": {},
   "outputs": [],
   "source": []
  }
 ],
 "metadata": {
  "kernelspec": {
   "display_name": "Python 3 (ipykernel)",
   "language": "python",
   "name": "python3"
  },
  "language_info": {
   "codemirror_mode": {
    "name": "ipython",
    "version": 3
   },
   "file_extension": ".py",
   "mimetype": "text/x-python",
   "name": "python",
   "nbconvert_exporter": "python",
   "pygments_lexer": "ipython3",
   "version": "3.10.18"
  }
 },
 "nbformat": 4,
 "nbformat_minor": 5
}
