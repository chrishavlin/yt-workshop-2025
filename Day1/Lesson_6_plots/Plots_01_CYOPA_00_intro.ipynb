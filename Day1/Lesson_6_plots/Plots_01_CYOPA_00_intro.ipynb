{
 "cells": [
  {
   "cell_type": "markdown",
   "id": "88f68b23-3722-4404-9ae9-7ab6176d287d",
   "metadata": {},
   "source": [
    "# Choose your own plotting adventure (CYOPA)!\n",
    "\n",
    "Next ??? minutes: independent exploration with occasional check-ins.\n",
    "\n",
    "## Option 1: CYOPA notebooks \n",
    "\n",
    "These notebooks have prompts to follow along with solutions available if you get stuck.\n",
    "\n",
    "* `Plots_01_CYOPA_01_PlotAdjustments`: Basic modifications to plots (highlights from https://yt-project.org/doc/visualizing/plots.html, skip if you're somewhat comfortable with yt plotting)\n",
    "* `Plots_01_CYOPA_02_Callbacks`: Building an example with overlaid annotations and thinking about some 3D geometry of slicing planes.\n",
    "* `Plots_01_CYOPA_03_DataSources`: Using the `data_source` argument to limit plotted data by geometric subselections and conditionals\n",
    "* `Plots_01_CYOPA_04_OnScreenMass`: Calculating total mass represented by on- and off-axis projections through grid-based and SPH-based datasets. \n",
    "* `Plots_01_CYOPA_05_InsetFigures`: axes wrangling to create inset figures (fun with matplotlib handles!). Includes some geographic data!\n",
    "\n",
    "## Option 2: Independent Plotting Work\n",
    "\n",
    "* Been struggling with a particular plot with your own data? Get some help!\n",
    "* Know of a visualization bug that needs fixing? Dig in now! \n",
    "\n",
    "\n",
    "## Helpful links \n",
    "\n",
    "Relevant docs links for more info\n",
    "\n",
    "* Plotting overview: https://yt-project.org/doc/visualizing/plots.html\n",
    "* Example cookbook: https://yt-project.org/doc/quickstart/3%29_Simple_Visualization.html\n",
    "* Callbacks https://yt-project.org/doc/visualizing/callbacks.html\n",
    "* List of callbacks: https://yt-project.org/doc/reference/api/api.html#callback-api\n",
    "\n"
   ]
  },
  {
   "cell_type": "code",
   "execution_count": null,
   "id": "7f5bac72-34f1-49a2-a608-697e0f6e5eda",
   "metadata": {},
   "outputs": [],
   "source": []
  }
 ],
 "metadata": {
  "kernelspec": {
   "display_name": "Python 3 (ipykernel)",
   "language": "python",
   "name": "python3"
  },
  "language_info": {
   "codemirror_mode": {
    "name": "ipython",
    "version": 3
   },
   "file_extension": ".py",
   "mimetype": "text/x-python",
   "name": "python",
   "nbconvert_exporter": "python",
   "pygments_lexer": "ipython3",
   "version": "3.10.18"
  }
 },
 "nbformat": 4,
 "nbformat_minor": 5
}
