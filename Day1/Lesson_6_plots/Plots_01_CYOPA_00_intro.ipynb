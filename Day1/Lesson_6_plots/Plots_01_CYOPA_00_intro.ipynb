{
 "cells": [
  {
   "cell_type": "markdown",
   "id": "88f68b23-3722-4404-9ae9-7ab6176d287d",
   "metadata": {},
   "source": [
    "# Choose your own plotting adventure (CYOPA)!\n",
    "\n",
    "Next ??? minutes: independent exploration! \n",
    "\n",
    "## Option 1: CYOPA notebooks \n",
    "\n",
    "These notebooks have prompts to follow along with solutions available if you get stuck:\n",
    "\n",
    "* Plots_02_CYOPA_03_DataSources: Using the `data_source` argument to limit plotted data by geometric subselections and conditionals\n",
    "* Plots_02_CYOPA_05_InsetFigures: axes wrangling to create inset figures\n",
    "\n",
    "## Other options\n",
    "\n",
    "* Been struggling with a particular plot with your own data? Get some help!\n",
    "* \n",
    "\n",
    "\n",
    "## Helpful links \n",
    "\n",
    "Relevant docs links for more info\n",
    "\n",
    "* Plotting overview: https://yt-project.org/doc/visualizing/plots.html\n",
    "* Example cookbook: https://yt-project.org/doc/quickstart/3%29_Simple_Visualization.html\n",
    "* Callbacks https://yt-project.org/doc/visualizing/callbacks.html\n",
    "* List of callbacks: https://yt-project.org/doc/reference/api/api.html#callback-api\n",
    "\n"
   ]
  },
  {
   "cell_type": "code",
   "execution_count": null,
   "id": "7f5bac72-34f1-49a2-a608-697e0f6e5eda",
   "metadata": {},
   "outputs": [],
   "source": []
  }
 ],
 "metadata": {
  "kernelspec": {
   "display_name": "Python 3 (ipykernel)",
   "language": "python",
   "name": "python3"
  },
  "language_info": {
   "codemirror_mode": {
    "name": "ipython",
    "version": 3
   },
   "file_extension": ".py",
   "mimetype": "text/x-python",
   "name": "python",
   "nbconvert_exporter": "python",
   "pygments_lexer": "ipython3",
   "version": "3.10.11"
  }
 },
 "nbformat": 4,
 "nbformat_minor": 5
}
