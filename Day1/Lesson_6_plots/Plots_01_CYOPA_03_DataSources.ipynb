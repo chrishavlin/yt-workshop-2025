{
 "cells": [
  {
   "cell_type": "markdown",
   "id": "6cd02a5f-dcac-4ca7-8b6b-3763f4efec04",
   "metadata": {},
   "source": [
    "# Using data sources with plots\n",
    "\n",
    "Most (all?) yt plotting functions accept a `data_source` argument that can be used to subselect regions or data ranges that are picked up by the plotting functions. The exercises in this notebook are aimed at getting you familiar with their use. \n",
    "\n",
    "### Exercise one: slice a sphere region \n",
    "\n",
    "Goal: Make a `SlicePlot` through a spherical region centered on the maximum value of a field. Choose any dataset you like (`yt.load_sample(\"enzo_tiny_cosmology\")` if you need one to use). Some other suggestions:\n",
    "\n",
    "* center the `SlicePlot` on the sphere center\n",
    "* set the `SlicePlot` to twice the sphere radius\n",
    "\n",
    "Aim for an end product like:\n",
    "\n",
    "![](solutions/figures/Plotting_00_01_DataSources_01.png)"
   ]
  },
  {
   "cell_type": "code",
   "execution_count": null,
   "id": "402bca08-daa8-46a4-bf76-730e5af47b7a",
   "metadata": {},
   "outputs": [],
   "source": [
    "import yt \n",
    "\n",
    "ds = yt.load_sample(\"enzo_tiny_cosmology\")\n",
    "\n",
    "# find the location of the maximum value\n",
    "field = ('gas', 'density')\n",
    "\n",
    "<<  write some code to find the location of the maximum field value >>\n",
    "\n",
    "# build the sphere object\n",
    "\n",
    "<< use ds.sphere to create a spherical region centered on the max value >>\n",
    "\n",
    "# create the slice plot\n",
    "<< use the data_source keyword argument with SlicePlot >> "
   ]
  },
  {
   "cell_type": "markdown",
   "id": "38a8e1a7-c1c6-4938-ace3-4be39620eb2c",
   "metadata": {},
   "source": [
    "## Exercise two: using cut regions to mask data ranges\n",
    "\n",
    "cut regions (created with `ds.cut_region`) provide a way of conditionally selecting data based on values of a field. In this exercise, the goal is to plot the a field only where a condition is satisfied for another field. \n",
    "\n",
    "For example, try to create the following plot of density where temperature is above 1e5 K:\n",
    "\n",
    "![](solutions/figures/Plotting_00_01_DataSources_02.png)"
   ]
  },
  {
   "cell_type": "code",
   "execution_count": null,
   "id": "410bfee6-ce12-4d4f-995c-a771c2ba7167",
   "metadata": {},
   "outputs": [],
   "source": [
    "# first, create a slice plot to check out what the raw field looks like\n",
    "# before we create a cut_region\n",
    "\n",
    "<< just make a SlicePlot of ('gas', 'temperature') >> "
   ]
  },
  {
   "cell_type": "code",
   "execution_count": null,
   "id": "11d86436-8c4c-46e9-8669-75a5c3a9545b",
   "metadata": {},
   "outputs": [],
   "source": [
    "# create the cut_region \n",
    "\n",
    "<< create a ds.cut_region where ('gas', 'temperature') is above 1e5 K >>\n",
    "\n",
    "# create two slices: temperature and density subject to the \n",
    "# cut region conditional\n",
    "\n",
    "<< create a yt.SlicePlot: use the data_source argument to supply the cut region, \n",
    "    and plot both the gas temperature and density fields >>\n",
    "    \n",
    "# display the temperature field just to check (you could recreate this plot \n",
    "# by instead adjusting the colormap limits)\n",
    "\n",
    "<< show just the temperature plot >>\n"
   ]
  },
  {
   "cell_type": "code",
   "execution_count": null,
   "id": "2649031e-dca8-42cd-add4-b58bb23f4de5",
   "metadata": {},
   "outputs": [],
   "source": [
    "# display the density\n",
    "\n",
    "<< show just the density plot >>"
   ]
  },
  {
   "cell_type": "markdown",
   "id": "3e8a9310-cf2d-4c10-9596-a658030c2ede",
   "metadata": {},
   "source": [
    "## Exercise 3: combine the two plots \n",
    "\n",
    "Now, use `ds.bool` to combine the two plots above to, e.g., plot density within a spherical region where the temperature is above some cutoff. \n",
    "\n",
    "![](solutions/figures/Plotting_00_01_DataSources_03.png)"
   ]
  },
  {
   "cell_type": "code",
   "execution_count": null,
   "id": "ff98cce6-ae45-4a12-85cb-40a76a92ddc0",
   "metadata": {},
   "outputs": [],
   "source": [
    "# create a boolean combination of the two data objects\n",
    "\n",
    "<< use ds.bool to combine the cut region and sphere objects from above >> \n",
    "\n",
    "# create the slice plot centered on the sphere using the new data object\n",
    "\n",
    "<< create another ScicePlot using the new ds.bool as the data_source >>"
   ]
  },
  {
   "cell_type": "markdown",
   "id": "295ea025-589e-4cc2-a864-de3daade1101",
   "metadata": {},
   "source": [
    "## Exercise 4: Corresponding PhasePlot\n",
    "\n",
    "Finally, create a PhasePlot to check out the density-temperature-mass distribution within our combined data source, the result should look like:\n",
    "\n",
    "![](solutions/figures/Plotting_00_01_DataSources_04.png)"
   ]
  },
  {
   "cell_type": "code",
   "execution_count": null,
   "id": "36bf69f8-4ddf-4f3f-a0c0-84d3c0f7683f",
   "metadata": {},
   "outputs": [],
   "source": [
    "<<< create a PhasePlot with your ds.bool region >>>"
   ]
  }
 ],
 "metadata": {
  "kernelspec": {
   "display_name": "Python 3 (ipykernel)",
   "language": "python",
   "name": "python3"
  },
  "language_info": {
   "codemirror_mode": {
    "name": "ipython",
    "version": 3
   },
   "file_extension": ".py",
   "mimetype": "text/x-python",
   "name": "python",
   "nbconvert_exporter": "python",
   "pygments_lexer": "ipython3",
   "version": "3.10.18"
  }
 },
 "nbformat": 4,
 "nbformat_minor": 5
}
