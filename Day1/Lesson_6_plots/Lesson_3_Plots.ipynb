{
 "cells": [
  {
   "cell_type": "markdown",
   "id": "496c1ed4-950e-41c8-b91e-6273bdc7ede1",
   "metadata": {},
   "source": [
    "# Lesson 3: Plotting \n",
    "\n",
    "Plots!\n",
    "\n",
    "More or less, walking through https://yt-project.org/docs/dev/visualizing/plots.html \n",
    "\n",
    "## Spatial Plots\n",
    "\n",
    "Slices, projections, particle plots \n",
    "\n",
    "## Other Plots\n",
    "\n",
    "Profile, phase plots\n",
    "\n",
    "## Plot modifications\n",
    "\n",
    "swapping axes, some plot annotations\n",
    "\n"
   ]
  },
  {
   "cell_type": "code",
   "execution_count": null,
   "id": "62b41652-a2e9-4d4c-a205-ae7b2c768e7e",
   "metadata": {},
   "outputs": [],
   "source": []
  }
 ],
 "metadata": {
  "kernelspec": {
   "display_name": "Python 3 (ipykernel)",
   "language": "python",
   "name": "python3"
  },
  "language_info": {
   "codemirror_mode": {
    "name": "ipython",
    "version": 3
   },
   "file_extension": ".py",
   "mimetype": "text/x-python",
   "name": "python",
   "nbconvert_exporter": "python",
   "pygments_lexer": "ipython3",
   "version": "3.10.11"
  }
 },
 "nbformat": 4,
 "nbformat_minor": 5
}
