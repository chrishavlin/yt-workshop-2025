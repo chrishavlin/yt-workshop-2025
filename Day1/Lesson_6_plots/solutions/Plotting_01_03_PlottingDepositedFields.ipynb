{
 "cells": [
  {
   "cell_type": "markdown",
   "id": "68b3dacb-8804-4c78-9410-2f14f843f09b",
   "metadata": {},
   "source": [
    "# Depositing particle fields for plotting \n",
    "\n",
    "Not all plot functions are implemented for particle data -- this notebook will walk you through the process of depositing particle data to a grid in order to plot it. "
   ]
  },
  {
   "cell_type": "code",
   "execution_count": null,
   "id": "fe3852d0-00ac-4dc9-b89f-b5b22c493618",
   "metadata": {},
   "outputs": [],
   "source": []
  }
 ],
 "metadata": {
  "kernelspec": {
   "display_name": "Python 3 (ipykernel)",
   "language": "python",
   "name": "python3"
  },
  "language_info": {
   "codemirror_mode": {
    "name": "ipython",
    "version": 3
   },
   "file_extension": ".py",
   "mimetype": "text/x-python",
   "name": "python",
   "nbconvert_exporter": "python",
   "pygments_lexer": "ipython3",
   "version": "3.10.12"
  }
 },
 "nbformat": 4,
 "nbformat_minor": 5
}
