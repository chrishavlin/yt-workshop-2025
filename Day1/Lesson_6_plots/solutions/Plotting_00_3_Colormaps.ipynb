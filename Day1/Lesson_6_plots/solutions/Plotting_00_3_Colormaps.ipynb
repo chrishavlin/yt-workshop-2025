{
 "cells": [
  {
   "cell_type": "markdown",
   "id": "ec822444-6e06-47ca-a3f9-27201a74a50e",
   "metadata": {},
   "source": [
    "# Colormaps! \n",
    "\n"
   ]
  },
  {
   "cell_type": "code",
   "execution_count": 8,
   "id": "21dae620-d003-45a1-8737-53e1d65225fb",
   "metadata": {},
   "outputs": [],
   "source": [
    "import cmyt\n",
    "# code to display"
   ]
  },
  {
   "cell_type": "markdown",
   "id": "bf572e62-3e41-4dc1-a99e-edde49639879",
   "metadata": {},
   "source": [
    "## Basic colormap controls: limits and map\n",
    "\n",
    "p = "
   ]
  },
  {
   "cell_type": "code",
   "execution_count": null,
   "id": "2b36843e-5574-4bfd-bf41-507148f907f5",
   "metadata": {},
   "outputs": [],
   "source": []
  }
 ],
 "metadata": {
  "kernelspec": {
   "display_name": "Python 3 (ipykernel)",
   "language": "python",
   "name": "python3"
  },
  "language_info": {
   "codemirror_mode": {
    "name": "ipython",
    "version": 3
   },
   "file_extension": ".py",
   "mimetype": "text/x-python",
   "name": "python",
   "nbconvert_exporter": "python",
   "pygments_lexer": "ipython3",
   "version": "3.10.12"
  }
 },
 "nbformat": 4,
 "nbformat_minor": 5
}
