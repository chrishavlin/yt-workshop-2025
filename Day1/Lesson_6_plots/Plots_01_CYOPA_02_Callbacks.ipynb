{
 "cells": [
  {
   "cell_type": "markdown",
   "id": "5e6bbd92-44cd-488f-84ce-11241cf64367",
   "metadata": {},
   "source": [
    "# Practice with Callbacks and off-axis geometry\n",
    "\n",
    "This notebook will get you working with callbacks as well as thinking through 3D geometries. \n",
    "\n",
    "The goal is to use `IsolatedGalaxy` and make the following off-axis slice plot:\n",
    "\n",
    "![](solutions/figures/Callbacks_nice_slice.png)\n"
   ]
  },
  {
   "cell_type": "markdown",
   "id": "5a9f8514-8971-4b57-819e-9223a4dbe9e7",
   "metadata": {},
   "source": [
    "\n",
    "To **exactly** recreate the figure, you'll need to create an **off-axis slice** with the following features:\n",
    "* a ray passing through the maximum density value of the dataset with the following characteristics (drawn on the sliceplot with `annotate_ray`):\n",
    "    * ray length is .5 in units of `code_length`\n",
    "    * The maximum density value is at the center point of the ray\n",
    "    * The ray direction points from the domain's left edge to the maximum density value \n",
    "* the off-axis slice is oriented such that the entirety of the ray lies within the slicing plane (calculate and use any normal vector perpendicular to the ray) with a slice width of 0.5 Mpc and centered on the maximum density value\n",
    "* The ray start is indicated by the X marker, ray end is indicated by the circle, both added with `annotate_marker`\n",
    "* in-plane velocities are overlaid with `annotate_cquiver`\n",
    "* temperature contours are overlaid with `annotate_contour`\n",
    "\n",
    "The documentation page for callbacks may be helpful to you: https://yt-project.org/doc/visualizing/callbacks.html\n",
    "\n",
    "### Ok, let's load in a dataset:"
   ]
  },
  {
   "cell_type": "code",
   "execution_count": null,
   "id": "1f01d592-c7a7-4a8f-8e7b-1a15ffc1cc94",
   "metadata": {},
   "outputs": [],
   "source": [
    "import yt \n",
    "import numpy as np \n",
    "ds = yt.load_sample(\"IsolatedGalaxy\")\n",
    "field = ('gas', 'density')"
   ]
  },
  {
   "cell_type": "markdown",
   "id": "00249ffd-9116-44e2-802b-477d3e0c5d8e",
   "metadata": {},
   "source": [
    "### Setting up the ray \n",
    "\n",
    "First, find the location of the maximum density value:"
   ]
  },
  {
   "cell_type": "code",
   "execution_count": null,
   "id": "664d8ff1-704e-4ebc-b0ca-c3d9611fda6f",
   "metadata": {},
   "outputs": [],
   "source": [
    "# find the coordinates of the maximum value as a 3-element unyt array\n",
    "\n",
    "# hint: create an all_data data container, check what methods hang off of the ds.all_data().quantities. attribute\n",
    "<<< write some code >>>\n",
    "location = <<< 3-element unyt array >>>"
   ]
  },
  {
   "cell_type": "markdown",
   "id": "4f457f50-fd19-43bb-9838-344a61a9f104",
   "metadata": {},
   "source": [
    "Now, construct a `ds.ray` object with the following characteristics:\n",
    "\n",
    "* total length 0.5 in `'code_length'` units\n",
    "* the maximum density value is located half-way along the ray\n",
    "* the ray points from the `ds.domain_left_edge` to the maximum density value\n",
    "  "
   ]
  },
  {
   "cell_type": "code",
   "execution_count": null,
   "id": "f291014e-8bc5-456d-9320-8d05ba3d85ea",
   "metadata": {},
   "outputs": [],
   "source": [
    "# make a ray that passes through the max value and continues some distance\n",
    "\n",
    "# the desired length of a ray\n",
    "ray_length = ds.quan(0.5, 'code_length')\n",
    "\n",
    "# calculate a unit-normal ray direction pointing from the \n",
    "# domain left edge to the maximum density value\n",
    "ray_dir = <<< code here >>>\n",
    "\n",
    "# calculate the ray start and end point \n",
    "ray_start = <<< code >>>\n",
    "ray_end = <<< more code >>>\n",
    "\n",
    "r = <<< create a ds.ray object >>>\n",
    "r.start_point, r.end_point"
   ]
  },
  {
   "cell_type": "markdown",
   "id": "179bbedb-2eff-4147-973e-b9b0b2418c26",
   "metadata": {},
   "source": [
    "### Building the slice \n",
    "\n",
    "To create off-axis slice that contains the entirety of the ray, we need the image-plane of the slice to be parallel to the ray -- or in other words, the normal vector for the image plane must be orthogonal to our ray. \n",
    "\n",
    "Since our ray is a line there are an infinite number of vectors that are orthoganl, so let's just pick one by setting the 1st and 2nd vector components and calculating the 3rd such that it makes the vector perpendicular to our ray: \n"
   ]
  },
  {
   "cell_type": "code",
   "execution_count": null,
   "id": "67a38a01-0099-4d9c-a31a-d2f047f40e91",
   "metadata": {},
   "outputs": [],
   "source": []
  },
  {
   "cell_type": "code",
   "execution_count": null,
   "id": "2a59bf22-9461-4c62-b692-2a324c4c71fe",
   "metadata": {},
   "outputs": [],
   "source": [
    "# set a dummy value, we'll keep the first two components \n",
    "# and then calculate the third\n",
    "normal = ds.arr([1., 1., 1], 'code_length')\n",
    "normal = normal / np.linalg.norm(normal)\n",
    "\n",
    "\n",
    "# calculate the third component so that we get a perpendicular \n",
    "# vector (remember that a dot product between two vectors is 0 \n",
    "# if they are perpedicular)\n",
    "normal[2] = <<< code code code >>>"
   ]
  },
  {
   "cell_type": "markdown",
   "id": "241f2e06-b528-4fee-afde-b494d0ce3229",
   "metadata": {},
   "source": [
    "Now let's plot our initial slice with the normal vector we just calculated and a plot width of `.5 'Mpc'` centered on the maximum value. Also use `annotate_ray` to also plot our ray:"
   ]
  },
  {
   "cell_type": "code",
   "execution_count": null,
   "id": "6e7b1f66-1656-42ea-b199-e4a969dcf1d8",
   "metadata": {},
   "outputs": [],
   "source": [
    "slc = yt.SlicePlot(<<< set your args and kwargs >>>)\n",
    "<<< annotate a ray >>>\n",
    "slc.show()"
   ]
  },
  {
   "cell_type": "markdown",
   "id": "c7087826-a1dc-44ad-8dc9-6522491e1434",
   "metadata": {},
   "source": [
    "But which direction is the ray pointing? Use `annotate_marker` to add two points: use `marker='x'` (the default) for the start point and `marker='o'` for the end point:"
   ]
  },
  {
   "cell_type": "code",
   "execution_count": null,
   "id": "ab6ad5ac-5962-4a08-ac70-612a197eaedb",
   "metadata": {},
   "outputs": [],
   "source": [
    "<<< cooooooode >>>"
   ]
  },
  {
   "cell_type": "markdown",
   "id": "ba35865d-e9d5-4acf-8031-0bfe0c2d554e",
   "metadata": {},
   "source": [
    "Now let's add a few more overplotted data elements: use `annotate_contour` to plot contours of the temperature field:"
   ]
  },
  {
   "cell_type": "code",
   "execution_count": null,
   "id": "ed0ecdf8-a08b-4845-8339-adf6a917ece4",
   "metadata": {},
   "outputs": [],
   "source": [
    "<<< code >>>"
   ]
  },
  {
   "cell_type": "markdown",
   "id": "646c13ba-9fc3-4102-8f6d-b319aa44aea3",
   "metadata": {},
   "source": [
    "And let's also plot the in-plane velocity vectors with `annotate_cquiver` (see https://yt-project.org/doc/visualizing/callbacks.html#annotate_cquiver): "
   ]
  },
  {
   "cell_type": "code",
   "execution_count": null,
   "id": "cd4de805-dc53-4067-ab01-f888a92b62e8",
   "metadata": {},
   "outputs": [],
   "source": [
    "<<< yet more code >>>"
   ]
  },
  {
   "cell_type": "code",
   "execution_count": null,
   "id": "18fc9b3e-cb22-4e87-b9f0-8915e5cdb577",
   "metadata": {},
   "outputs": [],
   "source": []
  },
  {
   "cell_type": "markdown",
   "id": "cd9a959f-65b5-4207-a0be-902fc68f8b20",
   "metadata": {},
   "source": [
    "### Bonus plots\n",
    "\n",
    "For good measure, use a `yt.LinePlot` to plot both the density and temperature along the ray, which should end up looking like:\n",
    "\n",
    "![](solutions/figures/Callbacks_den_prof.png)\n",
    "![](solutions/figures/Callbacks_temp_prof.png)"
   ]
  },
  {
   "cell_type": "code",
   "execution_count": null,
   "id": "9338e649-56cc-4916-98c1-d8d92166d6f6",
   "metadata": {},
   "outputs": [],
   "source": [
    "<<< Code for `yt.LinePlot` >>>"
   ]
  },
  {
   "cell_type": "markdown",
   "id": "129c6f28-fdf8-46d0-897c-33959dff37a9",
   "metadata": {},
   "source": [
    "## Extra credit\n",
    "\n",
    "Not ready to move on to the next notebook? Try orienting the plot so that the ray is in plane and oriented horizontally in the image (hint, use the `north_vector` argument for `SlicePlot`). "
   ]
  }
 ],
 "metadata": {
  "kernelspec": {
   "display_name": "Python 3 (ipykernel)",
   "language": "python",
   "name": "python3"
  },
  "language_info": {
   "codemirror_mode": {
    "name": "ipython",
    "version": 3
   },
   "file_extension": ".py",
   "mimetype": "text/x-python",
   "name": "python",
   "nbconvert_exporter": "python",
   "pygments_lexer": "ipython3",
   "version": "3.10.18"
  }
 },
 "nbformat": 4,
 "nbformat_minor": 5
}
