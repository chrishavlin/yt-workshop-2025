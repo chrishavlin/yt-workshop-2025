{
 "cells": [
  {
   "cell_type": "markdown",
   "id": "18021ff5",
   "metadata": {},
   "source": [
    "# <center>Lesson 4: Derived quantities</center>\n",
    "### <center>yt user/developer workshop, July 2025</center>"
   ]
  },
  {
   "cell_type": "markdown",
   "id": "36bc78e8",
   "metadata": {},
   "source": [
    "# Covered in this lesson:\n",
    "- what are derived quantities?\n",
    "- why do we need them?\n",
    "- how to compute them?\n",
    "- how to write your own derived quantities?"
   ]
  },
  {
   "cell_type": "markdown",
   "id": "6e087b4b",
   "metadata": {},
   "source": [
    "## Previous concepts:\n",
    "* **field**: an array of values describing a quantity associated with each element in the `dataset`. This is the data we want. Examples: the gas densities of the grid cells, the positions of the particles, the brightness of the pixels.\n",
    "* **data container**: an object containing one or more elements of a `dataset`. It provides access to `fields` for all the elements it contains."
   ]
  },
  {
   "cell_type": "markdown",
   "id": "d9dc1ce7",
   "metadata": {},
   "source": [
    "## Load a dataset and some data container"
   ]
  },
  {
   "cell_type": "code",
   "execution_count": 10,
   "id": "e969df2a",
   "metadata": {
    "execution": {
     "iopub.execute_input": "2025-07-15T11:07:48.737319Z",
     "iopub.status.busy": "2025-07-15T11:07:48.736470Z",
     "iopub.status.idle": "2025-07-15T11:07:48.746095Z",
     "shell.execute_reply": "2025-07-15T11:07:48.744066Z",
     "shell.execute_reply.started": "2025-07-15T11:07:48.737259Z"
    }
   },
   "outputs": [],
   "source": [
    "import yt\n",
    "import numpy as np"
   ]
  },
  {
   "cell_type": "code",
   "execution_count": 11,
   "id": "c4d9c472",
   "metadata": {
    "execution": {
     "iopub.execute_input": "2025-07-15T11:09:07.366287Z",
     "iopub.status.busy": "2025-07-15T11:09:07.365312Z",
     "iopub.status.idle": "2025-07-15T11:09:08.794838Z",
     "shell.execute_reply": "2025-07-15T11:09:08.794297Z",
     "shell.execute_reply.started": "2025-07-15T11:09:07.366186Z"
    }
   },
   "outputs": [
    {
     "name": "stderr",
     "output_type": "stream",
     "text": [
      "yt : [\u001b[32mINFO\u001b[0m     ] 2025-07-15 12:09:07,390 Sample dataset found in '/home/cphyc/Documents/prog/yt-data/output_00080/info_00080.txt'\n",
      "yt : [\u001b[32mINFO\u001b[0m     ] 2025-07-15 12:09:07,696 Parameters: current_time              = 11.925285011256845 Gyr\n",
      "yt : [\u001b[32mINFO\u001b[0m     ] 2025-07-15 12:09:07,697 Parameters: domain_dimensions         = [64 64 64]\n",
      "yt : [\u001b[32mINFO\u001b[0m     ] 2025-07-15 12:09:07,697 Parameters: domain_left_edge          = [0. 0. 0.]\n",
      "yt : [\u001b[32mINFO\u001b[0m     ] 2025-07-15 12:09:07,698 Parameters: domain_right_edge         = [1. 1. 1.]\n",
      "yt : [\u001b[32mINFO\u001b[0m     ] 2025-07-15 12:09:07,699 Parameters: cosmological_simulation   = True\n",
      "yt : [\u001b[32mINFO\u001b[0m     ] 2025-07-15 12:09:07,699 Parameters: current_redshift          = 0.14255728632206321\n",
      "yt : [\u001b[32mINFO\u001b[0m     ] 2025-07-15 12:09:07,699 Parameters: omega_lambda              = 0.723999977111816\n",
      "yt : [\u001b[32mINFO\u001b[0m     ] 2025-07-15 12:09:07,700 Parameters: omega_matter              = 0.276000022888184\n",
      "yt : [\u001b[32mINFO\u001b[0m     ] 2025-07-15 12:09:07,700 Parameters: omega_radiation           = 0.0\n",
      "yt : [\u001b[32mINFO\u001b[0m     ] 2025-07-15 12:09:07,701 Parameters: hubble_constant           = 0.703000030517578\n",
      "yt : [\u001b[33mWARNING\u001b[0m  ] 2025-07-15 12:09:07,705 Detected 2 extra particle fields assuming kind `double`. Consider using the `extra_particle_fields` keyword argument if you have unexpected behavior.\n",
      "yt : [\u001b[33mWARNING\u001b[0m  ] 2025-07-15 12:09:07,710 This cooling file format is no longer supported. Cooling field loading skipped.\n",
      "yt : [\u001b[32mINFO\u001b[0m     ] 2025-07-15 12:09:08,331 Identified    16/   16 intersecting domains (   16 through hilbert key indexing)\n"
     ]
    }
   ],
   "source": [
    "ds = yt.load_sample(\"output_00080\")\n",
    "\n",
    "# We load everything, but we could very well load only a subset of the data.\n",
    "ad = ds.all_data()\n",
    "\n",
    "# We also load a sphere centered on the maximum density.\n",
    "center = ad.argmax((\"gas\", \"density\"))\n",
    "sp = ds.sphere(center, (100, \"kpc\"))"
   ]
  },
  {
   "cell_type": "markdown",
   "id": "95c4a66c",
   "metadata": {},
   "source": [
    "# Derived quantities - what's in a name?\n",
    "\n",
    "A derived quantity is a quantity that is not stored in the dataset, but can be computed from the fields that are stored in the dataset."
   ]
  },
  {
   "cell_type": "markdown",
   "id": "cf1f8aae",
   "metadata": {},
   "source": [
    "### Doing things manually\n",
    "\n",
    "Let's try to implement a simple summation of the total mass in the dataset."
   ]
  },
  {
   "cell_type": "code",
   "execution_count": 12,
   "id": "8b531db3",
   "metadata": {
    "execution": {
     "iopub.execute_input": "2025-07-15T11:10:09.078343Z",
     "iopub.status.busy": "2025-07-15T11:10:09.077715Z",
     "iopub.status.idle": "2025-07-15T11:10:09.988578Z",
     "shell.execute_reply": "2025-07-15T11:10:09.988088Z",
     "shell.execute_reply.started": "2025-07-15T11:10:09.078289Z"
    }
   },
   "outputs": [
    {
     "data": {
      "text/plain": [
       "unyt_quantity(1.35570908e+16, 'Msun')"
      ]
     },
     "execution_count": 12,
     "metadata": {},
     "output_type": "execute_result"
    }
   ],
   "source": [
    "Mcell = ad[\"gas\", \"cell_mass\"]\n",
    "Mpart = ad[\"all\", \"particle_mass\"]\n",
    "\n",
    "Mtot = Mcell.sum() + Mpart.sum()\n",
    "Mtot.to(\"Msun\")"
   ]
  },
  {
   "cell_type": "markdown",
   "id": "51c029ce",
   "metadata": {},
   "source": [
    "While this is fine, a potential problem is that we now have loaded the entirety of the dataset in memory!"
   ]
  },
  {
   "cell_type": "code",
   "execution_count": 13,
   "id": "cb7105dc",
   "metadata": {
    "execution": {
     "iopub.execute_input": "2025-07-15T11:10:21.974501Z",
     "iopub.status.busy": "2025-07-15T11:10:21.973822Z",
     "iopub.status.idle": "2025-07-15T11:10:21.983153Z",
     "shell.execute_reply": "2025-07-15T11:10:21.981655Z",
     "shell.execute_reply.started": "2025-07-15T11:10:21.974445Z"
    }
   },
   "outputs": [
    {
     "name": "stdout",
     "output_type": "stream",
     "text": [
      "1.749455 Mib\n",
      "1.090895 Mib\n"
     ]
    }
   ],
   "source": [
    "print(f\"{Mcell.size / 1e6} Mib\")\n",
    "print(f\"{Mpart.size / 1e6} Mib\")"
   ]
  },
  {
   "cell_type": "markdown",
   "id": "f81fc5c5",
   "metadata": {},
   "source": [
    "What if we want to compute the total mass in the sphere?"
   ]
  },
  {
   "cell_type": "code",
   "execution_count": 14,
   "id": "1e5a705d",
   "metadata": {
    "execution": {
     "iopub.execute_input": "2025-07-15T11:11:11.498439Z",
     "iopub.status.busy": "2025-07-15T11:11:11.497808Z",
     "iopub.status.idle": "2025-07-15T11:11:11.585132Z",
     "shell.execute_reply": "2025-07-15T11:11:11.583707Z",
     "shell.execute_reply.started": "2025-07-15T11:11:11.498381Z"
    }
   },
   "outputs": [
    {
     "name": "stderr",
     "output_type": "stream",
     "text": [
      "yt : [\u001b[32mINFO\u001b[0m     ] 2025-07-15 12:11:11,530 Identified     4/   16 intersecting domains (    5 through hilbert key indexing)\n"
     ]
    },
    {
     "data": {
      "text/plain": [
       "unyt_quantity(4.38037979e+11, 'Msun')"
      ]
     },
     "execution_count": 14,
     "metadata": {},
     "output_type": "execute_result"
    }
   ],
   "source": [
    "Mcell = sp[\"gas\", \"cell_mass\"]\n",
    "Mpart = sp[\"all\", \"particle_mass\"]\n",
    "\n",
    "Mtot = Mcell.sum() + Mpart.sum()\n",
    "Mtot.to(\"Msun\")"
   ]
  },
  {
   "cell_type": "markdown",
   "id": "1786dac7",
   "metadata": {},
   "source": [
    "What you can see is that most of the code is the same, but we have changed the data container it acts on.\n",
    "To make things clean (and to avoid repeating ourselves), this _could_ be nicely wrapped in a function:"
   ]
  },
  {
   "cell_type": "code",
   "execution_count": 15,
   "id": "e46549f0",
   "metadata": {
    "execution": {
     "iopub.execute_input": "2025-07-15T11:11:47.471807Z",
     "iopub.status.busy": "2025-07-15T11:11:47.471108Z",
     "iopub.status.idle": "2025-07-15T11:11:47.485474Z",
     "shell.execute_reply": "2025-07-15T11:11:47.483889Z",
     "shell.execute_reply.started": "2025-07-15T11:11:47.471724Z"
    }
   },
   "outputs": [
    {
     "name": "stdout",
     "output_type": "stream",
     "text": [
      "Total mass: 2.695713431072103e+49 g, in sphere: 8.7100166557051e+44 g\n"
     ]
    }
   ],
   "source": [
    "def total_mass(data):\n",
    "    return data[\"gas\", \"cell_mass\"].sum() + data[\"all\", \"particle_mass\"].sum()\n",
    "\n",
    "print(f\"Total mass: {total_mass(ad)}, in sphere: {total_mass(sp)}\")"
   ]
  },
  {
   "cell_type": "markdown",
   "id": "bb9ab089",
   "metadata": {},
   "source": [
    "but *yt has your back.*"
   ]
  },
  {
   "cell_type": "markdown",
   "id": "2ea067fd",
   "metadata": {},
   "source": [
    "## Getting started: sum, averages, etc."
   ]
  },
  {
   "cell_type": "code",
   "execution_count": 16,
   "id": "de401596",
   "metadata": {
    "execution": {
     "iopub.execute_input": "2025-07-15T11:12:26.786047Z",
     "iopub.status.busy": "2025-07-15T11:12:26.785022Z",
     "iopub.status.idle": "2025-07-15T11:12:27.209367Z",
     "shell.execute_reply": "2025-07-15T11:12:27.208935Z",
     "shell.execute_reply.started": "2025-07-15T11:12:26.785956Z"
    }
   },
   "outputs": [
    {
     "name": "stdout",
     "output_type": "stream",
     "text": [
      "Total mass: 2.695713431072103e+49 g, in sphere: 8.710016655705098e+44 g\n"
     ]
    }
   ],
   "source": [
    "Mtot = ad.quantities.total_mass()\n",
    "print(f\"Total mass: {sum(Mtot)}, in sphere: {sum(sp.quantities.total_mass())}\")"
   ]
  },
  {
   "cell_type": "markdown",
   "id": "2dfab971",
   "metadata": {},
   "source": [
    "Unsuprisingly, we get the same result as before. But we can also compute more complex quantities."
   ]
  },
  {
   "cell_type": "markdown",
   "id": "d93b2e92",
   "metadata": {},
   "source": [
    "### Weighted averages\n",
    "This computes\n",
    "$$ \\langle q \\rangle = \\frac{1}{\\sum w_i} \\sum w_i q_i. $$\n",
    "\n",
    "Again, we could compute this manually but it quickly becomes annoying to handle taking weights of different quantities, etc."
   ]
  },
  {
   "cell_type": "code",
   "execution_count": 17,
   "id": "0a35eac6",
   "metadata": {
    "execution": {
     "iopub.execute_input": "2025-07-15T11:14:03.295077Z",
     "iopub.status.busy": "2025-07-15T11:14:03.294165Z",
     "iopub.status.idle": "2025-07-15T11:14:04.011804Z",
     "shell.execute_reply": "2025-07-15T11:14:04.010949Z",
     "shell.execute_reply.started": "2025-07-15T11:14:03.295019Z"
    }
   },
   "outputs": [
    {
     "name": "stderr",
     "output_type": "stream",
     "text": [
      "/home/cphyc/Documents/24-25/Conferences/yt workshop/venv/lib/python3.13/site-packages/yt/frontends/ramses/fields.py:241: RuntimeWarning: Trying to calculate temperature but the cooling tables couldn't be found or read. yt will return T/µ instead of T — this is equivalent to assuming µ=1.0. To suppress this, derive the temperature from temperature_over_mu with some values for mu.\n",
      "  warnings.warn(\n"
     ]
    },
    {
     "data": {
      "text/plain": [
       "[unyt_quantity(63209.57283701, 'K/dimensionless'),\n",
       " unyt_quantity(0.00123836, '1/(cm**3*dimensionless)'),\n",
       " unyt_quantity(0.0036679, 'code_length/dimensionless')]"
      ]
     },
     "execution_count": 17,
     "metadata": {},
     "output_type": "execute_result"
    }
   ],
   "source": [
    "# Weight with w_i = 1\n",
    "ad.quantities.weighted_average_quantity(\n",
    "    [(\"gas\", \"temperature\"), (\"gas\", \"number_density\"), (\"index\", \"dx\")],\n",
    "    weight=(\"index\", \"ones\"),\n",
    ")"
   ]
  },
  {
   "cell_type": "code",
   "execution_count": 18,
   "id": "9a0e30ad",
   "metadata": {
    "execution": {
     "iopub.execute_input": "2025-07-15T11:14:28.663267Z",
     "iopub.status.busy": "2025-07-15T11:14:28.662308Z",
     "iopub.status.idle": "2025-07-15T11:14:29.392808Z",
     "shell.execute_reply": "2025-07-15T11:14:29.392400Z",
     "shell.execute_reply.started": "2025-07-15T11:14:28.663204Z"
    }
   },
   "outputs": [
    {
     "data": {
      "text/plain": [
       "[unyt_quantity(1860174.32956431, 'K'),\n",
       " unyt_quantity(2.85243794e-05, 'cm**(-3)'),\n",
       " unyt_quantity(0.01530151, 'code_length')]"
      ]
     },
     "execution_count": 18,
     "metadata": {},
     "output_type": "execute_result"
    }
   ],
   "source": [
    "# Mass-weighting\n",
    "ad.quantities.weighted_average_quantity(\n",
    "    [(\"gas\", \"temperature\"), (\"gas\", \"number_density\"), (\"index\", \"dx\")],\n",
    "    weight=(\"gas\", \"cell_mass\"),\n",
    ")"
   ]
  },
  {
   "cell_type": "code",
   "execution_count": 19,
   "id": "1c9502a3",
   "metadata": {
    "execution": {
     "iopub.execute_input": "2025-07-15T11:14:33.631849Z",
     "iopub.status.busy": "2025-07-15T11:14:33.630813Z",
     "iopub.status.idle": "2025-07-15T11:14:34.218152Z",
     "shell.execute_reply": "2025-07-15T11:14:34.217585Z",
     "shell.execute_reply.started": "2025-07-15T11:14:33.631789Z"
    }
   },
   "outputs": [
    {
     "data": {
      "text/plain": [
       "[unyt_quantity(77231.50108772, 'K'),\n",
       " unyt_quantity(6.28859148e-07, 'dimensionless/cm**3'),\n",
       " unyt_quantity(0.01523595, 'code_length')]"
      ]
     },
     "execution_count": 19,
     "metadata": {},
     "output_type": "execute_result"
    }
   ],
   "source": [
    "# Volume-weighting\n",
    "ad.quantities.weighted_average_quantity(\n",
    "    [(\"gas\", \"temperature\"), (\"gas\", \"number_density\"), (\"index\", \"dx\")],\n",
    "    weight=(\"gas\", \"cell_volume\"),\n",
    ")"
   ]
  },
  {
   "cell_type": "markdown",
   "id": "708c1a95",
   "metadata": {},
   "source": [
    "### Slight detour: what is actually happening under the hood?\n",
    "And why is yt's derived quantities arguably better?\n",
    "\n",
    "Let's just compute the average temperature in a sphere of $100\\,\\mathrm{kpc}$. We're reloading to be able to see the log of what's happening (which we switch on/off using `yt.mylog.setLevel()`)."
   ]
  },
  {
   "cell_type": "code",
   "execution_count": 20,
   "id": "91474b4f",
   "metadata": {
    "execution": {
     "iopub.execute_input": "2025-07-15T11:15:48.116706Z",
     "iopub.status.busy": "2025-07-15T11:15:48.115337Z",
     "iopub.status.idle": "2025-07-15T11:15:48.247081Z",
     "shell.execute_reply": "2025-07-15T11:15:48.246336Z",
     "shell.execute_reply.started": "2025-07-15T11:15:48.116646Z"
    }
   },
   "outputs": [
    {
     "name": "stderr",
     "output_type": "stream",
     "text": [
      "yt : [\u001b[32mINFO\u001b[0m     ] 2025-07-15 12:15:48,136 >>>>>>>>>>>>>>>> Reading T\n",
      "yt : [\u001b[35mDEBUG\u001b[0m    ] 2025-07-15 12:15:48,159 Identified domain 8\n",
      "yt : [\u001b[35mDEBUG\u001b[0m    ] 2025-07-15 12:15:48,163 Identified domain 9\n",
      "yt : [\u001b[35mDEBUG\u001b[0m    ] 2025-07-15 12:15:48,166 Identified domain 10\n",
      "yt : [\u001b[35mDEBUG\u001b[0m    ] 2025-07-15 12:15:48,169 Identified domain 11\n",
      "yt : [\u001b[32mINFO\u001b[0m     ] 2025-07-15 12:15:48,170 Identified     4/   16 intersecting domains (    5 through hilbert key indexing)\n",
      "yt : [\u001b[35mDEBUG\u001b[0m    ] 2025-07-15 12:15:48,171 Appending object to info_00080 (type: <class 'yt.frontends.ramses.data_structures.RAMSESDomainSubset'>)\n",
      "yt : [\u001b[35mDEBUG\u001b[0m    ] 2025-07-15 12:15:48,178 Filling Density with 7867 (1.920e+00 1.301e+05) (7867 zones)\n",
      "yt : [\u001b[35mDEBUG\u001b[0m    ] 2025-07-15 12:15:48,181 Filling Pressure with 7867 (1.402e-04 5.434e-01) (7867 zones)\n",
      "yt : [\u001b[35mDEBUG\u001b[0m    ] 2025-07-15 12:15:48,189 Filling Density with 11232 (4.262e+00 2.087e+06) (11232 zones)\n",
      "yt : [\u001b[35mDEBUG\u001b[0m    ] 2025-07-15 12:15:48,191 Filling Pressure with 11232 (4.184e-04 4.608e+01) (11232 zones)\n",
      "yt : [\u001b[35mDEBUG\u001b[0m    ] 2025-07-15 12:15:48,195 Filling Density with 4550 (2.321e+00 3.971e+04) (4550 zones)\n",
      "yt : [\u001b[35mDEBUG\u001b[0m    ] 2025-07-15 12:15:48,197 Filling Pressure with 4550 (3.291e-04 1.351e-01) (4550 zones)\n",
      "yt : [\u001b[35mDEBUG\u001b[0m    ] 2025-07-15 12:15:48,200 Filling Density with 534 (1.296e+00 6.823e+01) (534 zones)\n",
      "yt : [\u001b[35mDEBUG\u001b[0m    ] 2025-07-15 12:15:48,201 Filling Pressure with 534 (1.397e-04 2.303e-02) (534 zones)\n",
      "yt : [\u001b[32mINFO\u001b[0m     ] 2025-07-15 12:15:48,206 >>>>>>>>>>>>>>>> Reading cell mass\n",
      "yt : [\u001b[35mDEBUG\u001b[0m    ] 2025-07-15 12:15:48,211 Filling Density with 7867 (1.920e+00 1.301e+05) (7867 zones)\n",
      "yt : [\u001b[35mDEBUG\u001b[0m    ] 2025-07-15 12:15:48,218 Filling Density with 11232 (4.262e+00 2.087e+06) (11232 zones)\n",
      "yt : [\u001b[35mDEBUG\u001b[0m    ] 2025-07-15 12:15:48,222 Filling Density with 4550 (2.321e+00 3.971e+04) (4550 zones)\n",
      "yt : [\u001b[35mDEBUG\u001b[0m    ] 2025-07-15 12:15:48,224 Filling Density with 534 (1.296e+00 6.823e+01) (534 zones)\n",
      "yt : [\u001b[32mINFO\u001b[0m     ] 2025-07-15 12:15:48,243 >>>>>>>>>>>>>>>> Computing weighted average\n",
      "yt : [\u001b[32mINFO\u001b[0m     ] 2025-07-15 12:15:48,244 >>>>>>>>>>>>>>> Average temperature: 1.05e+05 K\n"
     ]
    }
   ],
   "source": [
    "sp = ds.sphere(center, (100, \"kpc\"))\n",
    "\n",
    "# Temperorary activate logs to see what's happening\n",
    "old_level = yt.mylog.level\n",
    "yt.mylog.setLevel(\"DEBUG\")\n",
    "\n",
    "yt.mylog.info(\">>>>>>>>>>>>>>>> Reading T\")\n",
    "T = sp[\"gas\", \"temperature_over_mu\"]\n",
    "yt.mylog.info(\">>>>>>>>>>>>>>>> Reading cell mass\")\n",
    "mcell = sp[\"gas\", \"cell_mass\"]\n",
    "yt.mylog.info(\">>>>>>>>>>>>>>>> Computing weighted average\")\n",
    "T_avg = np.average(T, weights=mcell)\n",
    "yt.mylog.info(f\">>>>>>>>>>>>>>> Average temperature: {T_avg.to('K'):.2e}\")\n",
    "\n",
    "# Restore the old log level\n",
    "yt.mylog.setLevel(old_level)"
   ]
  },
  {
   "cell_type": "code",
   "execution_count": 21,
   "id": "4601ead4",
   "metadata": {
    "execution": {
     "iopub.execute_input": "2025-07-15T11:17:31.209133Z",
     "iopub.status.busy": "2025-07-15T11:17:31.208429Z",
     "iopub.status.idle": "2025-07-15T11:17:31.336285Z",
     "shell.execute_reply": "2025-07-15T11:17:31.335694Z",
     "shell.execute_reply.started": "2025-07-15T11:17:31.209076Z"
    }
   },
   "outputs": [
    {
     "name": "stderr",
     "output_type": "stream",
     "text": [
      "yt : [\u001b[32mINFO\u001b[0m     ] 2025-07-15 12:17:31,229 >>>>>>>>>>>>>>>> Computing weighted average\n",
      "yt : [\u001b[35mDEBUG\u001b[0m    ] 2025-07-15 12:17:31,260 Identified domain 8\n",
      "yt : [\u001b[35mDEBUG\u001b[0m    ] 2025-07-15 12:17:31,263 Identified domain 9\n",
      "yt : [\u001b[35mDEBUG\u001b[0m    ] 2025-07-15 12:17:31,266 Identified domain 10\n",
      "yt : [\u001b[35mDEBUG\u001b[0m    ] 2025-07-15 12:17:31,269 Identified domain 11\n",
      "yt : [\u001b[32mINFO\u001b[0m     ] 2025-07-15 12:17:31,270 Identified     4/   16 intersecting domains (    5 through hilbert key indexing)\n",
      "yt : [\u001b[35mDEBUG\u001b[0m    ] 2025-07-15 12:17:31,272 Appending object to info_00080 (type: <class 'yt.frontends.ramses.data_structures.RAMSESDomainSubset'>)\n",
      "yt : [\u001b[35mDEBUG\u001b[0m    ] 2025-07-15 12:17:31,281 Filling Density with 7867 (1.920e+00 1.301e+05) (7867 zones)\n",
      "yt : [\u001b[35mDEBUG\u001b[0m    ] 2025-07-15 12:17:31,282 Filling Pressure with 7867 (1.402e-04 5.434e-01) (7867 zones)\n",
      "yt : [\u001b[35mDEBUG\u001b[0m    ] 2025-07-15 12:17:31,289 Filling Density with 7867 (1.920e+00 1.301e+05) (7867 zones)\n",
      "yt : [\u001b[35mDEBUG\u001b[0m    ] 2025-07-15 12:17:31,305 Filling Density with 11232 (4.262e+00 2.087e+06) (11232 zones)\n",
      "yt : [\u001b[35mDEBUG\u001b[0m    ] 2025-07-15 12:17:31,306 Filling Pressure with 11232 (4.184e-04 4.608e+01) (11232 zones)\n",
      "yt : [\u001b[35mDEBUG\u001b[0m    ] 2025-07-15 12:17:31,311 Filling Density with 11232 (4.262e+00 2.087e+06) (11232 zones)\n",
      "yt : [\u001b[35mDEBUG\u001b[0m    ] 2025-07-15 12:17:31,320 Filling Density with 4550 (2.321e+00 3.971e+04) (4550 zones)\n",
      "yt : [\u001b[35mDEBUG\u001b[0m    ] 2025-07-15 12:17:31,321 Filling Pressure with 4550 (3.291e-04 1.351e-01) (4550 zones)\n",
      "yt : [\u001b[35mDEBUG\u001b[0m    ] 2025-07-15 12:17:31,324 Filling Density with 4550 (2.321e+00 3.971e+04) (4550 zones)\n",
      "yt : [\u001b[35mDEBUG\u001b[0m    ] 2025-07-15 12:17:31,328 Filling Density with 534 (1.296e+00 6.823e+01) (534 zones)\n",
      "yt : [\u001b[35mDEBUG\u001b[0m    ] 2025-07-15 12:17:31,329 Filling Pressure with 534 (1.397e-04 2.303e-02) (534 zones)\n",
      "yt : [\u001b[35mDEBUG\u001b[0m    ] 2025-07-15 12:17:31,330 Filling Density with 534 (1.296e+00 6.823e+01) (534 zones)\n",
      "yt : [\u001b[32mINFO\u001b[0m     ] 2025-07-15 12:17:31,333 >>>>>>>>>>>>>>> Average temperature: 1.05e+05 K\n"
     ]
    }
   ],
   "source": [
    "sp = ds.sphere(center, (100, \"kpc\"))\n",
    "\n",
    "# Temperorary activate logs to see what's happening\n",
    "old_level = yt.mylog.level\n",
    "yt.mylog.setLevel(\"DEBUG\")\n",
    "\n",
    "yt.mylog.info(\">>>>>>>>>>>>>>>> Computing weighted average\")\n",
    "T_avg = sp.quantities.weighted_average_quantity(\n",
    "    (\"gas\", \"temperature_over_mu\"),\n",
    "    weight=(\"gas\", \"cell_mass\"),\n",
    ")\n",
    "yt.mylog.info(f\">>>>>>>>>>>>>>> Average temperature: {T_avg.to('K'):.2e}\")\n",
    "\n",
    "# Restore the old log level\n",
    "yt.mylog.setLevel(old_level)"
   ]
  },
  {
   "cell_type": "markdown",
   "id": "28163aa0",
   "metadata": {},
   "source": [
    "Spot the difference? The first one is a manual computation, the second one uses yt's built-in functionality."
   ]
  },
  {
   "cell_type": "markdown",
   "id": "c53ee39e",
   "metadata": {},
   "source": [
    "### Slightly more complicated: weighted standard deviation\n",
    "This computes\n",
    "$$ \\sigma_q^2 = \\frac{1}{\\sum w_i} \\sum w_i (q_i - \\langle{q}\\rangle_w)^2, $$\n",
    "where $\\langle{q}\\rangle_w$ is the weighted average defined above. `ad.quantities.weighted_standard_deviation` returns, for each field, the weighted standard deviation and the weighted average."
   ]
  },
  {
   "cell_type": "code",
   "execution_count": 22,
   "id": "6fbfe723",
   "metadata": {
    "execution": {
     "iopub.execute_input": "2025-07-15T11:18:39.971831Z",
     "iopub.status.busy": "2025-07-15T11:18:39.971226Z",
     "iopub.status.idle": "2025-07-15T11:18:40.868833Z",
     "shell.execute_reply": "2025-07-15T11:18:40.868350Z",
     "shell.execute_reply.started": "2025-07-15T11:18:39.971757Z"
    }
   },
   "outputs": [
    {
     "data": {
      "text/plain": [
       "[unyt_array([4469959.29211321, 1860174.32956431], 'K'),\n",
       " unyt_array([5.15787974e-03, 2.85243794e-05], 'cm**(-3)'),\n",
       " unyt_array([3.71280598e-05, 3.52757100e-07], '(dimensionless)'),\n",
       " unyt_array([0.00168741, 0.01530151], 'code_length')]"
      ]
     },
     "execution_count": 22,
     "metadata": {},
     "output_type": "execute_result"
    }
   ],
   "source": [
    "ad.quantities.weighted_standard_deviation(\n",
    "    [(\"gas\", \"temperature\"), (\"gas\", \"number_density\"), (\"gas\", \"metallicity\"), (\"index\", \"dx\")],\n",
    "    weight=(\"gas\", \"cell_mass\"),\n",
    ")"
   ]
  },
  {
   "cell_type": "code",
   "execution_count": 23,
   "id": "1c702fea",
   "metadata": {
    "execution": {
     "iopub.execute_input": "2025-07-15T11:19:14.927310Z",
     "iopub.status.busy": "2025-07-15T11:19:14.926662Z",
     "iopub.status.idle": "2025-07-15T11:19:15.504708Z",
     "shell.execute_reply": "2025-07-15T11:19:15.504291Z",
     "shell.execute_reply.started": "2025-07-15T11:19:14.927257Z"
    }
   },
   "outputs": [
    {
     "data": {
      "text/plain": [
       "[unyt_array([662529.70632066,  77231.50108772], 'K'),\n",
       " unyt_array([4.18835923e-06, 6.28859148e-07], 'cm**(-3)'),\n",
       " unyt_array([0.00189583, 0.01523595], 'code_length')]"
      ]
     },
     "execution_count": 23,
     "metadata": {},
     "output_type": "execute_result"
    }
   ],
   "source": [
    "ad.quantities.weighted_standard_deviation(\n",
    "    [(\"gas\", \"temperature\"), (\"gas\", \"number_density\"), (\"index\", \"dx\")],\n",
    "    weight=(\"gas\", \"cell_volume\"),\n",
    ")"
   ]
  },
  {
   "cell_type": "markdown",
   "id": "51be5513",
   "metadata": {},
   "source": [
    "### Other useful quantities"
   ]
  },
  {
   "cell_type": "code",
   "execution_count": 24,
   "id": "c4d681f8",
   "metadata": {
    "execution": {
     "iopub.execute_input": "2025-07-15T11:25:01.425592Z",
     "iopub.status.busy": "2025-07-15T11:25:01.424980Z",
     "iopub.status.idle": "2025-07-15T11:25:05.248450Z",
     "shell.execute_reply": "2025-07-15T11:25:05.247922Z",
     "shell.execute_reply.started": "2025-07-15T11:25:01.425538Z"
    }
   },
   "outputs": [
    {
     "name": "stderr",
     "output_type": "stream",
     "text": [
      "/home/cphyc/Documents/24-25/Conferences/yt workshop/venv/lib/python3.13/site-packages/yt/frontends/ramses/fields.py:241: RuntimeWarning: Trying to calculate temperature but the cooling tables couldn't be found or read. yt will return T/µ instead of T — this is equivalent to assuming µ=1.0. To suppress this, derive the temperature from temperature_over_mu with some values for mu.\n",
      "  warnings.warn(\n"
     ]
    }
   ],
   "source": [
    "# Min/max of the quantity\n",
    "rhomin, rhomax = ad.quantities.extrema((\"gas\", \"density\")).in_units(\"mp/cm**3\")\n",
    "\n",
    "# Min/max locations of the quantity\n",
    "rhomin, *xyz = ad.quantities.min_location((\"gas\", \"density\"))\n",
    "rhomax, *xyz = ad.quantities.max_location((\"gas\", \"density\"))\n",
    "\n",
    "# Sample some other fields at the location of the maximum density\n",
    "rhomax, T_at_rhomax, dx_at_rhomax = ad.quantities.sample_at_max_field_values(\n",
    "    (\"gas\", \"density\"), [(\"gas\", \"temperature\"), (\"index\", \"dx\")],\n",
    ")\n",
    "\n",
    "# Sum of some quantities\n",
    "ad.quantities.total_quantity([(\"gas\", \"cell_mass\"), (\"gas\", \"cell_volume\")])\n",
    "\n",
    "# Useful shortcuts\n",
    "com = ad.quantities.center_of_mass(use_gas=True, use_particles=False)\n",
    "vbulk = ad.quantities.bulk_velocity(use_gas=True, use_particles=False)\n",
    "Jtot = ad.quantities.angular_momentum_vector(use_gas=True, use_particles=False)"
   ]
  },
  {
   "cell_type": "markdown",
   "id": "7cad5bc5",
   "metadata": {},
   "source": [
    "### Why use derived quantities?\n",
    "- Convenience: you don't have to write the same code over and over again.\n",
    "- Efficiency: yt can optimize the reading part, so it only reads the data it needs to compute the derived quantity once.\n",
    "- Parallelization: see file in `derived_quantities_parallel.py`"
   ]
  },
  {
   "cell_type": "code",
   "execution_count": null,
   "id": "d2f1b595-6af6-4c4d-9a77-c268b9d9bd4c",
   "metadata": {},
   "outputs": [],
   "source": []
  }
 ],
 "metadata": {
  "kernelspec": {
   "display_name": "Python 3 (ipykernel)",
   "language": "python",
   "name": "python3"
  },
  "language_info": {
   "codemirror_mode": {
    "name": "ipython",
    "version": 3
   },
   "file_extension": ".py",
   "mimetype": "text/x-python",
   "name": "python",
   "nbconvert_exporter": "python",
   "pygments_lexer": "ipython3",
   "version": "3.13.5"
  }
 },
 "nbformat": 4,
 "nbformat_minor": 5
}
